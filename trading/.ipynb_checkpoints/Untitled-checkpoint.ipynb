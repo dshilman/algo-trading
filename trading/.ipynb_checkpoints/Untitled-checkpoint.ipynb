{
 "cells": [
  {
   "cell_type": "code",
   "execution_count": null,
   "id": "30a18d6c",
   "metadata": {},
   "outputs": [],
   "source": [
    "pip install oandapyV20"
   ]
  },
  {
   "cell_type": "code",
   "execution_count": 9,
   "id": "c72ef811",
   "metadata": {},
   "outputs": [],
   "source": [
    "import argparse\n",
    "import json\n",
    "from oandapyV20 import API\n",
    "from oandapyV20.exceptions import V20Error\n",
    "import oandapyV20.endpoints.instruments as instruments\n",
    "from oandapyV20.definitions.instruments import CandlestickGranularity\n",
    "import re\n",
    "from datetime import datetime, timedelta\n",
    "import time"
   ]
  },
  {
   "cell_type": "code",
   "execution_count": 3,
   "id": "197b3688",
   "metadata": {},
   "outputs": [],
   "source": [
    "\"\"\"simple auth method for examples.\"\"\"\n",
    "\n",
    "\n",
    "def exampleAuth():\n",
    "    accountID = '101-001-26259809-001'\n",
    "    token = 'fe4c3b57610d33d28c12361cd2b1724d-f5a0f749e56335e22abdb55deb5bb615'\n",
    "    return accountID, token"
   ]
  },
  {
   "cell_type": "code",
   "execution_count": 11,
   "id": "502b55d0",
   "metadata": {},
   "outputs": [],
   "source": [
    "token = 'fe4c3b57610d33d28c12361cd2b1724d-f5a0f749e56335e22abdb55deb5bb615'\n",
    "api = API(access_token=token)"
   ]
  },
  {
   "cell_type": "code",
   "execution_count": 4,
   "id": "2b960387",
   "metadata": {},
   "outputs": [
    {
     "data": {
      "text/plain": [
       "_AppendAction(option_strings=['--instruments'], dest='instruments', nargs='?', const=None, default=None, type=<class 'str'>, choices=None, required=False, help='instruments', metavar=None)"
      ]
     },
     "execution_count": 4,
     "metadata": {},
     "output_type": "execute_result"
    }
   ],
   "source": [
    "price = ['M', 'B', 'A', 'BA', 'MBA']\n",
    "granularities = CandlestickGranularity().definitions.keys()\n",
    "# create the top-level parser\n",
    "parser = argparse.ArgumentParser(prog='candle-data')\n",
    "parser.add_argument('--nice', action='store_true', help='json indented')\n",
    "parser.add_argument('--count', default=0, type=int,\n",
    "                    help='num recs, if not specified 500')\n",
    "parser.add_argument('--granularity', choices=granularities, required=True)\n",
    "parser.add_argument('--price', choices=price, default='M', help='Mid/Bid/Ask')\n",
    "parser.add_argument('--from', dest=\"From\", type=str,\n",
    "                    help=\"YYYY-MM-DDTHH:MM:SSZ (ex. 2016-01-01T00:00:00Z)\")\n",
    "parser.add_argument('--to', type=str,\n",
    "                    help=\"YYYY-MM-DDTHH:MM:SSZ (ex. 2016-01-01T00:00:00Z)\")\n",
    "parser.add_argument('--instruments', type=str, nargs='?',\n",
    "                    action='append', help='instruments')"
   ]
  },
  {
   "cell_type": "code",
   "execution_count": 18,
   "id": "0b019613",
   "metadata": {},
   "outputs": [],
   "source": [
    "def covert_data_to_string(date):\n",
    "    date_format = \"YYYY-MM-DDTHH:MM:SSZ\"\n",
    "    return datetime.strptime(date, date_format)"
   ]
  },
  {
   "cell_type": "code",
   "execution_count": 60,
   "id": "8306233d",
   "metadata": {},
   "outputs": [],
   "source": [
    "def get_history():\n",
    "    date_format = '%Y-%m-%dT%H:%M:%S%z'\n",
    "\n",
    "    days = 1\n",
    "    now = datetime.now()\n",
    "    now = now - timedelta(microseconds = now.microsecond)\n",
    "    past = now - timedelta(days = days)\n",
    "    \n",
    "    \n",
    "    params = {\"granularity\": \"H1\", \"price\": \"M\", \"from\": past.strftime(date_format), \"to\": now.strftime(date_format)}\n",
    "#     params = {\"granularity\": \"S5\", \"price\": \"M\", \"count\": 10}\n",
    "    \n",
    "    print(params)\n",
    "    r = instruments.InstrumentsCandles(instrument=\"EUR_USD\", params=params)\n",
    "    rv = api.request(r)\n",
    "    print(\"{}\".format(json.dumps(rv, indent=2)))"
   ]
  },
  {
   "cell_type": "code",
   "execution_count": 61,
   "id": "f88257b3",
   "metadata": {},
   "outputs": [
    {
     "name": "stdout",
     "output_type": "stream",
     "text": [
      "{'granularity': 'H1', 'price': 'M', 'from': '2023-12-16T11:55:07', 'to': '2023-12-17T11:55:07'}\n",
      "{\n",
      "  \"instrument\": \"EUR_USD\",\n",
      "  \"granularity\": \"H1\",\n",
      "  \"candles\": []\n",
      "}\n"
     ]
    }
   ],
   "source": [
    "get_history()"
   ]
  },
  {
   "cell_type": "code",
   "execution_count": null,
   "id": "cdb36da5",
   "metadata": {},
   "outputs": [],
   "source": []
  },
  {
   "cell_type": "code",
   "execution_count": null,
   "id": "416c910a",
   "metadata": {},
   "outputs": [],
   "source": []
  },
  {
   "cell_type": "code",
   "execution_count": null,
   "id": "26f17fc7",
   "metadata": {},
   "outputs": [],
   "source": []
  },
  {
   "cell_type": "code",
   "execution_count": null,
   "id": "ea44f94f",
   "metadata": {},
   "outputs": [],
   "source": []
  },
  {
   "cell_type": "code",
   "execution_count": null,
   "id": "cca1b912",
   "metadata": {},
   "outputs": [],
   "source": []
  },
  {
   "cell_type": "code",
   "execution_count": null,
   "id": "8450e4ac",
   "metadata": {},
   "outputs": [],
   "source": []
  },
  {
   "cell_type": "code",
   "execution_count": null,
   "id": "65d98621",
   "metadata": {},
   "outputs": [],
   "source": []
  },
  {
   "cell_type": "code",
   "execution_count": null,
   "id": "da76f246",
   "metadata": {},
   "outputs": [],
   "source": []
  },
  {
   "cell_type": "code",
   "execution_count": null,
   "id": "f6dc33e4",
   "metadata": {},
   "outputs": [],
   "source": []
  }
 ],
 "metadata": {
  "kernelspec": {
   "display_name": "Python 3 (ipykernel)",
   "language": "python",
   "name": "python3"
  },
  "language_info": {
   "codemirror_mode": {
    "name": "ipython",
    "version": 3
   },
   "file_extension": ".py",
   "mimetype": "text/x-python",
   "name": "python",
   "nbconvert_exporter": "python",
   "pygments_lexer": "ipython3",
   "version": "3.10.9"
  }
 },
 "nbformat": 4,
 "nbformat_minor": 5
}
