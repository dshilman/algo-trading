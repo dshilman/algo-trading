{
 "cells": [
  {
   "cell_type": "markdown",
   "id": "646af6f8",
   "metadata": {},
   "source": [
    "\n",
    "# Adding Limit Orders to the Trading Bot (Take Profit & Stop Loss) "
   ]
  },
  {
   "cell_type": "markdown",
   "id": "22dfa5b7",
   "metadata": {},
   "source": [
    "## Oanda: Contrader Class without Take Profit & Stop Loss (Recap)"
   ]
  },
  {
   "cell_type": "code",
   "execution_count": 1,
   "id": "f8eb7eeb",
   "metadata": {},
   "outputs": [],
   "source": [
    "import sys\n",
    "sys.path.append(\"../\")\n",
    "import pandas as pd\n",
    "import numpy as np\n",
    "import tpqoa\n",
    "from datetime import datetime, timedelta, timezone\n",
    "import time\n",
    "import pytz\n",
    "from datetime import datetime\n",
    "\n",
    "\n",
    "from trading import MyTT"
   ]
  },
  {
   "cell_type": "code",
   "execution_count": 2,
   "id": "150c60bd",
   "metadata": {},
   "outputs": [],
   "source": [
    "instrument = \"EUR_USD\"\n",
    "bar_length = timedelta(minutes = 1)\n",
    "SMA = 100\n",
    "dev = 2\n",
    "sl_perc = 0.005\n",
    "tp_perc = 0.008\n",
    "      "
   ]
  },
  {
   "cell_type": "code",
   "execution_count": 3,
   "id": "bc30806d",
   "metadata": {},
   "outputs": [
    {
     "name": "stdout",
     "output_type": "stream",
     "text": [
      "Getting candles for EUR_USD, from 2024-01-10 16:23:52 to 2024-01-14 16:23:52\n"
     ]
    }
   ],
   "source": [
    "raw_data = None\n",
    "now = datetime.now(tz=timezone.utc)\n",
    "       \n",
    "now = now - timedelta(microseconds = now.microsecond)\n",
    "past = now - timedelta(days = 4)\n",
    "\n",
    "last_bar = None\n",
    "df = None\n",
    "\n",
    "\n",
    "print (f\"Getting candles for {instrument}, from {past} to {now}\")\n",
    "\n",
    "raw_df = tpqoa.tpqoa(\"../trading/oanda.cfg\").get_history(instrument = instrument, start = past, end = now,\n",
    "                       granularity = \"M1\", price = \"M\", localize = True).c.dropna().to_frame()\n",
    "\n",
    "raw_df.rename(columns = {\"c\":instrument}, inplace = True)\n",
    "\n",
    "\n",
    "# last_bar = raw_data.index[-1].to_pydatetime().replace(tzinfo=None)\n",
    "        \n",
    "\n",
    "\n"
   ]
  },
  {
   "cell_type": "code",
   "execution_count": 4,
   "id": "0148ad6b",
   "metadata": {},
   "outputs": [
    {
     "data": {
      "text/html": [
       "<div>\n",
       "<style scoped>\n",
       "    .dataframe tbody tr th:only-of-type {\n",
       "        vertical-align: middle;\n",
       "    }\n",
       "\n",
       "    .dataframe tbody tr th {\n",
       "        vertical-align: top;\n",
       "    }\n",
       "\n",
       "    .dataframe thead th {\n",
       "        text-align: right;\n",
       "    }\n",
       "</style>\n",
       "<table border=\"1\" class=\"dataframe\">\n",
       "  <thead>\n",
       "    <tr style=\"text-align: right;\">\n",
       "      <th></th>\n",
       "      <th>EUR_USD</th>\n",
       "    </tr>\n",
       "    <tr>\n",
       "      <th>time</th>\n",
       "      <th></th>\n",
       "    </tr>\n",
       "  </thead>\n",
       "  <tbody>\n",
       "    <tr>\n",
       "      <th>2024-01-10 16:23:00</th>\n",
       "      <td>1.09606</td>\n",
       "    </tr>\n",
       "    <tr>\n",
       "      <th>2024-01-10 16:24:00</th>\n",
       "      <td>1.09610</td>\n",
       "    </tr>\n",
       "    <tr>\n",
       "      <th>2024-01-10 16:25:00</th>\n",
       "      <td>1.09597</td>\n",
       "    </tr>\n",
       "    <tr>\n",
       "      <th>2024-01-10 16:26:00</th>\n",
       "      <td>1.09596</td>\n",
       "    </tr>\n",
       "    <tr>\n",
       "      <th>2024-01-10 16:27:00</th>\n",
       "      <td>1.09574</td>\n",
       "    </tr>\n",
       "    <tr>\n",
       "      <th>...</th>\n",
       "      <td>...</td>\n",
       "    </tr>\n",
       "    <tr>\n",
       "      <th>2024-01-12 21:54:00</th>\n",
       "      <td>1.09499</td>\n",
       "    </tr>\n",
       "    <tr>\n",
       "      <th>2024-01-12 21:55:00</th>\n",
       "      <td>1.09499</td>\n",
       "    </tr>\n",
       "    <tr>\n",
       "      <th>2024-01-12 21:56:00</th>\n",
       "      <td>1.09500</td>\n",
       "    </tr>\n",
       "    <tr>\n",
       "      <th>2024-01-12 21:57:00</th>\n",
       "      <td>1.09508</td>\n",
       "    </tr>\n",
       "    <tr>\n",
       "      <th>2024-01-12 21:58:00</th>\n",
       "      <td>1.09508</td>\n",
       "    </tr>\n",
       "  </tbody>\n",
       "</table>\n",
       "<p>3185 rows × 1 columns</p>\n",
       "</div>"
      ],
      "text/plain": [
       "                     EUR_USD\n",
       "time                        \n",
       "2024-01-10 16:23:00  1.09606\n",
       "2024-01-10 16:24:00  1.09610\n",
       "2024-01-10 16:25:00  1.09597\n",
       "2024-01-10 16:26:00  1.09596\n",
       "2024-01-10 16:27:00  1.09574\n",
       "...                      ...\n",
       "2024-01-12 21:54:00  1.09499\n",
       "2024-01-12 21:55:00  1.09499\n",
       "2024-01-12 21:56:00  1.09500\n",
       "2024-01-12 21:57:00  1.09508\n",
       "2024-01-12 21:58:00  1.09508\n",
       "\n",
       "[3185 rows x 1 columns]"
      ]
     },
     "execution_count": 4,
     "metadata": {},
     "output_type": "execute_result"
    }
   ],
   "source": [
    "raw_df"
   ]
  },
  {
   "cell_type": "code",
   "execution_count": 5,
   "id": "0b5c7059",
   "metadata": {},
   "outputs": [],
   "source": [
    "def do_math(df):\n",
    "    df[\"SMA\"] = df[instrument].rolling(SMA).mean()\n",
    "    \n",
    "    target = df[instrument].rolling(SMA).std() * dev\n",
    "    \n",
    "    df[\"Lower\"] = df[\"SMA\"] - target\n",
    "    df[\"Upper\"] = df[\"SMA\"] + target\n",
    "    \n",
    "    df.dropna(subset=['Lower'], inplace=True)\n",
    "\n",
    "#     df[\"distance\"] = df[instrument] - df.SMA\n",
    "#     df[\"distance_l\"] = df[\"Lower\"] - df.SMA\n",
    "\n",
    "#     df[\"position\"] = np.where(df[instrument] < df.Lower, 1, np.nan)\n",
    "#     df[\"position\"] = np.where(df[instrument] > df.Upper, -1, np.nan)\n",
    "#     df[\"position\"] = df.position.ffill().fillna(0)\n",
    "\n",
    "    \n",
    "#     df[\"target\"] = df[instrument] * (1 + df.position * tp_perc)\n",
    "#     df[\"profit\"] = df.position * (df.target - df[instrument])\n",
    "#     df [\"stop_loss\"] = df[instrument] * (1 - df.position * sl_perc)\n",
    "#     df [\"potential_loss\"] = df[instrument] * sl_perc\n",
    "\n",
    "    df.tail(SMA * 2)\n",
    "    \n",
    "    return df"
   ]
  },
  {
   "cell_type": "code",
   "execution_count": 6,
   "id": "a6621030",
   "metadata": {},
   "outputs": [
    {
     "data": {
      "text/html": [
       "<div>\n",
       "<style scoped>\n",
       "    .dataframe tbody tr th:only-of-type {\n",
       "        vertical-align: middle;\n",
       "    }\n",
       "\n",
       "    .dataframe tbody tr th {\n",
       "        vertical-align: top;\n",
       "    }\n",
       "\n",
       "    .dataframe thead th {\n",
       "        text-align: right;\n",
       "    }\n",
       "</style>\n",
       "<table border=\"1\" class=\"dataframe\">\n",
       "  <thead>\n",
       "    <tr style=\"text-align: right;\">\n",
       "      <th></th>\n",
       "      <th>EUR_USD</th>\n",
       "      <th>SMA</th>\n",
       "      <th>Lower</th>\n",
       "      <th>Upper</th>\n",
       "    </tr>\n",
       "    <tr>\n",
       "      <th>time</th>\n",
       "      <th></th>\n",
       "      <th></th>\n",
       "      <th></th>\n",
       "      <th></th>\n",
       "    </tr>\n",
       "  </thead>\n",
       "  <tbody>\n",
       "    <tr>\n",
       "      <th>2024-01-10 18:02:00</th>\n",
       "      <td>1.09674</td>\n",
       "      <td>1.096211</td>\n",
       "      <td>1.095292</td>\n",
       "      <td>1.097131</td>\n",
       "    </tr>\n",
       "    <tr>\n",
       "      <th>2024-01-10 18:03:00</th>\n",
       "      <td>1.09658</td>\n",
       "      <td>1.096216</td>\n",
       "      <td>1.095295</td>\n",
       "      <td>1.097138</td>\n",
       "    </tr>\n",
       "    <tr>\n",
       "      <th>2024-01-10 18:04:00</th>\n",
       "      <td>1.09641</td>\n",
       "      <td>1.096220</td>\n",
       "      <td>1.095297</td>\n",
       "      <td>1.097142</td>\n",
       "    </tr>\n",
       "    <tr>\n",
       "      <th>2024-01-10 18:05:00</th>\n",
       "      <td>1.09624</td>\n",
       "      <td>1.096222</td>\n",
       "      <td>1.095301</td>\n",
       "      <td>1.097143</td>\n",
       "    </tr>\n",
       "    <tr>\n",
       "      <th>2024-01-10 18:06:00</th>\n",
       "      <td>1.09642</td>\n",
       "      <td>1.096227</td>\n",
       "      <td>1.095307</td>\n",
       "      <td>1.097147</td>\n",
       "    </tr>\n",
       "    <tr>\n",
       "      <th>...</th>\n",
       "      <td>...</td>\n",
       "      <td>...</td>\n",
       "      <td>...</td>\n",
       "      <td>...</td>\n",
       "    </tr>\n",
       "    <tr>\n",
       "      <th>2024-01-12 21:54:00</th>\n",
       "      <td>1.09499</td>\n",
       "      <td>1.095186</td>\n",
       "      <td>1.094774</td>\n",
       "      <td>1.095599</td>\n",
       "    </tr>\n",
       "    <tr>\n",
       "      <th>2024-01-12 21:55:00</th>\n",
       "      <td>1.09499</td>\n",
       "      <td>1.095183</td>\n",
       "      <td>1.094769</td>\n",
       "      <td>1.095596</td>\n",
       "    </tr>\n",
       "    <tr>\n",
       "      <th>2024-01-12 21:56:00</th>\n",
       "      <td>1.09500</td>\n",
       "      <td>1.095179</td>\n",
       "      <td>1.094766</td>\n",
       "      <td>1.095591</td>\n",
       "    </tr>\n",
       "    <tr>\n",
       "      <th>2024-01-12 21:57:00</th>\n",
       "      <td>1.09508</td>\n",
       "      <td>1.095175</td>\n",
       "      <td>1.094766</td>\n",
       "      <td>1.095583</td>\n",
       "    </tr>\n",
       "    <tr>\n",
       "      <th>2024-01-12 21:58:00</th>\n",
       "      <td>1.09508</td>\n",
       "      <td>1.095171</td>\n",
       "      <td>1.094767</td>\n",
       "      <td>1.095574</td>\n",
       "    </tr>\n",
       "  </tbody>\n",
       "</table>\n",
       "<p>3086 rows × 4 columns</p>\n",
       "</div>"
      ],
      "text/plain": [
       "                     EUR_USD       SMA     Lower     Upper\n",
       "time                                                      \n",
       "2024-01-10 18:02:00  1.09674  1.096211  1.095292  1.097131\n",
       "2024-01-10 18:03:00  1.09658  1.096216  1.095295  1.097138\n",
       "2024-01-10 18:04:00  1.09641  1.096220  1.095297  1.097142\n",
       "2024-01-10 18:05:00  1.09624  1.096222  1.095301  1.097143\n",
       "2024-01-10 18:06:00  1.09642  1.096227  1.095307  1.097147\n",
       "...                      ...       ...       ...       ...\n",
       "2024-01-12 21:54:00  1.09499  1.095186  1.094774  1.095599\n",
       "2024-01-12 21:55:00  1.09499  1.095183  1.094769  1.095596\n",
       "2024-01-12 21:56:00  1.09500  1.095179  1.094766  1.095591\n",
       "2024-01-12 21:57:00  1.09508  1.095175  1.094766  1.095583\n",
       "2024-01-12 21:58:00  1.09508  1.095171  1.094767  1.095574\n",
       "\n",
       "[3086 rows x 4 columns]"
      ]
     },
     "execution_count": 6,
     "metadata": {},
     "output_type": "execute_result"
    }
   ],
   "source": [
    "raw_df = do_math(raw_df)\n",
    "raw_df"
   ]
  },
  {
   "cell_type": "code",
   "execution_count": 7,
   "id": "67fec07a",
   "metadata": {},
   "outputs": [],
   "source": [
    "raw_df[\"RSI\"] = raw_df [instrument].rolling(15).apply(lambda x: MyTT.RSI(x.values, N=14))"
   ]
  },
  {
   "cell_type": "code",
   "execution_count": 8,
   "id": "0f1deaf0",
   "metadata": {},
   "outputs": [],
   "source": [
    "raw_df[\"rsi_slope\"] = raw_df [\"RSI\"].rolling(10).apply(lambda x: MyTT.SLOPE(x.dropna().values, N=10))"
   ]
  },
  {
   "cell_type": "code",
   "execution_count": 9,
   "id": "ca235891",
   "metadata": {},
   "outputs": [],
   "source": [
    "raw_df ['prev_rsi_slope'] = raw_df.rsi_slope.shift(1)"
   ]
  },
  {
   "cell_type": "code",
   "execution_count": 10,
   "id": "553b9792",
   "metadata": {},
   "outputs": [
    {
     "data": {
      "text/html": [
       "<div>\n",
       "<style scoped>\n",
       "    .dataframe tbody tr th:only-of-type {\n",
       "        vertical-align: middle;\n",
       "    }\n",
       "\n",
       "    .dataframe tbody tr th {\n",
       "        vertical-align: top;\n",
       "    }\n",
       "\n",
       "    .dataframe thead th {\n",
       "        text-align: right;\n",
       "    }\n",
       "</style>\n",
       "<table border=\"1\" class=\"dataframe\">\n",
       "  <thead>\n",
       "    <tr style=\"text-align: right;\">\n",
       "      <th></th>\n",
       "      <th>EUR_USD</th>\n",
       "      <th>SMA</th>\n",
       "      <th>Lower</th>\n",
       "      <th>Upper</th>\n",
       "      <th>RSI</th>\n",
       "      <th>rsi_slope</th>\n",
       "      <th>prev_rsi_slope</th>\n",
       "    </tr>\n",
       "    <tr>\n",
       "      <th>time</th>\n",
       "      <th></th>\n",
       "      <th></th>\n",
       "      <th></th>\n",
       "      <th></th>\n",
       "      <th></th>\n",
       "      <th></th>\n",
       "      <th></th>\n",
       "    </tr>\n",
       "  </thead>\n",
       "  <tbody>\n",
       "    <tr>\n",
       "      <th>2024-01-12 21:39:00</th>\n",
       "      <td>1.09488</td>\n",
       "      <td>1.095257</td>\n",
       "      <td>1.094830</td>\n",
       "      <td>1.095683</td>\n",
       "      <td>32.000000</td>\n",
       "      <td>-0.830983</td>\n",
       "      <td>-2.364581</td>\n",
       "    </tr>\n",
       "    <tr>\n",
       "      <th>2024-01-12 21:40:00</th>\n",
       "      <td>1.09489</td>\n",
       "      <td>1.095249</td>\n",
       "      <td>1.094824</td>\n",
       "      <td>1.095674</td>\n",
       "      <td>34.000000</td>\n",
       "      <td>0.140138</td>\n",
       "      <td>-0.830983</td>\n",
       "    </tr>\n",
       "    <tr>\n",
       "      <th>2024-01-12 21:41:00</th>\n",
       "      <td>1.09484</td>\n",
       "      <td>1.095241</td>\n",
       "      <td>1.094815</td>\n",
       "      <td>1.095668</td>\n",
       "      <td>34.000000</td>\n",
       "      <td>1.291252</td>\n",
       "      <td>0.140138</td>\n",
       "    </tr>\n",
       "    <tr>\n",
       "      <th>2024-01-12 21:42:00</th>\n",
       "      <td>1.09490</td>\n",
       "      <td>1.095235</td>\n",
       "      <td>1.094808</td>\n",
       "      <td>1.095661</td>\n",
       "      <td>42.592593</td>\n",
       "      <td>2.197349</td>\n",
       "      <td>1.291252</td>\n",
       "    </tr>\n",
       "    <tr>\n",
       "      <th>2024-01-12 21:43:00</th>\n",
       "      <td>1.09494</td>\n",
       "      <td>1.095230</td>\n",
       "      <td>1.094801</td>\n",
       "      <td>1.095659</td>\n",
       "      <td>49.090909</td>\n",
       "      <td>3.143178</td>\n",
       "      <td>2.197349</td>\n",
       "    </tr>\n",
       "    <tr>\n",
       "      <th>2024-01-12 21:44:00</th>\n",
       "      <td>1.09491</td>\n",
       "      <td>1.095224</td>\n",
       "      <td>1.094794</td>\n",
       "      <td>1.095654</td>\n",
       "      <td>51.923077</td>\n",
       "      <td>3.626151</td>\n",
       "      <td>3.143178</td>\n",
       "    </tr>\n",
       "    <tr>\n",
       "      <th>2024-01-12 21:45:00</th>\n",
       "      <td>1.09495</td>\n",
       "      <td>1.095219</td>\n",
       "      <td>1.094788</td>\n",
       "      <td>1.095649</td>\n",
       "      <td>50.000000</td>\n",
       "      <td>3.807389</td>\n",
       "      <td>3.626151</td>\n",
       "    </tr>\n",
       "    <tr>\n",
       "      <th>2024-01-12 21:46:00</th>\n",
       "      <td>1.09498</td>\n",
       "      <td>1.095214</td>\n",
       "      <td>1.094784</td>\n",
       "      <td>1.095643</td>\n",
       "      <td>57.142857</td>\n",
       "      <td>4.041537</td>\n",
       "      <td>3.807389</td>\n",
       "    </tr>\n",
       "    <tr>\n",
       "      <th>2024-01-12 21:47:00</th>\n",
       "      <td>1.09512</td>\n",
       "      <td>1.095209</td>\n",
       "      <td>1.094785</td>\n",
       "      <td>1.095634</td>\n",
       "      <td>66.666667</td>\n",
       "      <td>4.269714</td>\n",
       "      <td>4.041537</td>\n",
       "    </tr>\n",
       "    <tr>\n",
       "      <th>2024-01-12 21:48:00</th>\n",
       "      <td>1.09516</td>\n",
       "      <td>1.095206</td>\n",
       "      <td>1.094785</td>\n",
       "      <td>1.095628</td>\n",
       "      <td>76.666667</td>\n",
       "      <td>4.675366</td>\n",
       "      <td>4.269714</td>\n",
       "    </tr>\n",
       "    <tr>\n",
       "      <th>2024-01-12 21:49:00</th>\n",
       "      <td>1.09506</td>\n",
       "      <td>1.095203</td>\n",
       "      <td>1.094782</td>\n",
       "      <td>1.095624</td>\n",
       "      <td>62.500000</td>\n",
       "      <td>4.228908</td>\n",
       "      <td>4.675366</td>\n",
       "    </tr>\n",
       "    <tr>\n",
       "      <th>2024-01-12 21:50:00</th>\n",
       "      <td>1.09512</td>\n",
       "      <td>1.095201</td>\n",
       "      <td>1.094780</td>\n",
       "      <td>1.095621</td>\n",
       "      <td>67.647059</td>\n",
       "      <td>3.826835</td>\n",
       "      <td>4.228908</td>\n",
       "    </tr>\n",
       "    <tr>\n",
       "      <th>2024-01-12 21:51:00</th>\n",
       "      <td>1.09508</td>\n",
       "      <td>1.095197</td>\n",
       "      <td>1.094779</td>\n",
       "      <td>1.095615</td>\n",
       "      <td>67.647059</td>\n",
       "      <td>3.016919</td>\n",
       "      <td>3.826835</td>\n",
       "    </tr>\n",
       "    <tr>\n",
       "      <th>2024-01-12 21:52:00</th>\n",
       "      <td>1.09509</td>\n",
       "      <td>1.095194</td>\n",
       "      <td>1.094778</td>\n",
       "      <td>1.095610</td>\n",
       "      <td>68.115942</td>\n",
       "      <td>2.397575</td>\n",
       "      <td>3.016919</td>\n",
       "    </tr>\n",
       "    <tr>\n",
       "      <th>2024-01-12 21:53:00</th>\n",
       "      <td>1.09512</td>\n",
       "      <td>1.095191</td>\n",
       "      <td>1.094777</td>\n",
       "      <td>1.095605</td>\n",
       "      <td>67.647059</td>\n",
       "      <td>1.876503</td>\n",
       "      <td>2.397575</td>\n",
       "    </tr>\n",
       "    <tr>\n",
       "      <th>2024-01-12 21:54:00</th>\n",
       "      <td>1.09499</td>\n",
       "      <td>1.095186</td>\n",
       "      <td>1.094774</td>\n",
       "      <td>1.095599</td>\n",
       "      <td>56.250000</td>\n",
       "      <td>0.697661</td>\n",
       "      <td>1.876503</td>\n",
       "    </tr>\n",
       "    <tr>\n",
       "      <th>2024-01-12 21:55:00</th>\n",
       "      <td>1.09499</td>\n",
       "      <td>1.095183</td>\n",
       "      <td>1.094769</td>\n",
       "      <td>1.095596</td>\n",
       "      <td>60.000000</td>\n",
       "      <td>-0.457288</td>\n",
       "      <td>0.697661</td>\n",
       "    </tr>\n",
       "    <tr>\n",
       "      <th>2024-01-12 21:56:00</th>\n",
       "      <td>1.09500</td>\n",
       "      <td>1.095179</td>\n",
       "      <td>1.094766</td>\n",
       "      <td>1.095591</td>\n",
       "      <td>57.142857</td>\n",
       "      <td>-1.413103</td>\n",
       "      <td>-0.457288</td>\n",
       "    </tr>\n",
       "    <tr>\n",
       "      <th>2024-01-12 21:57:00</th>\n",
       "      <td>1.09508</td>\n",
       "      <td>1.095175</td>\n",
       "      <td>1.094766</td>\n",
       "      <td>1.095583</td>\n",
       "      <td>59.459459</td>\n",
       "      <td>-1.607638</td>\n",
       "      <td>-1.413103</td>\n",
       "    </tr>\n",
       "    <tr>\n",
       "      <th>2024-01-12 21:58:00</th>\n",
       "      <td>1.09508</td>\n",
       "      <td>1.095171</td>\n",
       "      <td>1.094767</td>\n",
       "      <td>1.095574</td>\n",
       "      <td>61.971831</td>\n",
       "      <td>-0.911107</td>\n",
       "      <td>-1.607638</td>\n",
       "    </tr>\n",
       "  </tbody>\n",
       "</table>\n",
       "</div>"
      ],
      "text/plain": [
       "                     EUR_USD       SMA     Lower     Upper        RSI  \\\n",
       "time                                                                    \n",
       "2024-01-12 21:39:00  1.09488  1.095257  1.094830  1.095683  32.000000   \n",
       "2024-01-12 21:40:00  1.09489  1.095249  1.094824  1.095674  34.000000   \n",
       "2024-01-12 21:41:00  1.09484  1.095241  1.094815  1.095668  34.000000   \n",
       "2024-01-12 21:42:00  1.09490  1.095235  1.094808  1.095661  42.592593   \n",
       "2024-01-12 21:43:00  1.09494  1.095230  1.094801  1.095659  49.090909   \n",
       "2024-01-12 21:44:00  1.09491  1.095224  1.094794  1.095654  51.923077   \n",
       "2024-01-12 21:45:00  1.09495  1.095219  1.094788  1.095649  50.000000   \n",
       "2024-01-12 21:46:00  1.09498  1.095214  1.094784  1.095643  57.142857   \n",
       "2024-01-12 21:47:00  1.09512  1.095209  1.094785  1.095634  66.666667   \n",
       "2024-01-12 21:48:00  1.09516  1.095206  1.094785  1.095628  76.666667   \n",
       "2024-01-12 21:49:00  1.09506  1.095203  1.094782  1.095624  62.500000   \n",
       "2024-01-12 21:50:00  1.09512  1.095201  1.094780  1.095621  67.647059   \n",
       "2024-01-12 21:51:00  1.09508  1.095197  1.094779  1.095615  67.647059   \n",
       "2024-01-12 21:52:00  1.09509  1.095194  1.094778  1.095610  68.115942   \n",
       "2024-01-12 21:53:00  1.09512  1.095191  1.094777  1.095605  67.647059   \n",
       "2024-01-12 21:54:00  1.09499  1.095186  1.094774  1.095599  56.250000   \n",
       "2024-01-12 21:55:00  1.09499  1.095183  1.094769  1.095596  60.000000   \n",
       "2024-01-12 21:56:00  1.09500  1.095179  1.094766  1.095591  57.142857   \n",
       "2024-01-12 21:57:00  1.09508  1.095175  1.094766  1.095583  59.459459   \n",
       "2024-01-12 21:58:00  1.09508  1.095171  1.094767  1.095574  61.971831   \n",
       "\n",
       "                     rsi_slope  prev_rsi_slope  \n",
       "time                                            \n",
       "2024-01-12 21:39:00  -0.830983       -2.364581  \n",
       "2024-01-12 21:40:00   0.140138       -0.830983  \n",
       "2024-01-12 21:41:00   1.291252        0.140138  \n",
       "2024-01-12 21:42:00   2.197349        1.291252  \n",
       "2024-01-12 21:43:00   3.143178        2.197349  \n",
       "2024-01-12 21:44:00   3.626151        3.143178  \n",
       "2024-01-12 21:45:00   3.807389        3.626151  \n",
       "2024-01-12 21:46:00   4.041537        3.807389  \n",
       "2024-01-12 21:47:00   4.269714        4.041537  \n",
       "2024-01-12 21:48:00   4.675366        4.269714  \n",
       "2024-01-12 21:49:00   4.228908        4.675366  \n",
       "2024-01-12 21:50:00   3.826835        4.228908  \n",
       "2024-01-12 21:51:00   3.016919        3.826835  \n",
       "2024-01-12 21:52:00   2.397575        3.016919  \n",
       "2024-01-12 21:53:00   1.876503        2.397575  \n",
       "2024-01-12 21:54:00   0.697661        1.876503  \n",
       "2024-01-12 21:55:00  -0.457288        0.697661  \n",
       "2024-01-12 21:56:00  -1.413103       -0.457288  \n",
       "2024-01-12 21:57:00  -1.607638       -1.413103  \n",
       "2024-01-12 21:58:00  -0.911107       -1.607638  "
      ]
     },
     "execution_count": 10,
     "metadata": {},
     "output_type": "execute_result"
    }
   ],
   "source": [
    "raw_df.tail(20)"
   ]
  },
  {
   "cell_type": "code",
   "execution_count": 12,
   "id": "df954940",
   "metadata": {},
   "outputs": [],
   "source": [
    "raw_df['amount'] = raw_df['SMA'] * raw_df['rsi_slope']"
   ]
  },
  {
   "cell_type": "code",
   "execution_count": 13,
   "id": "6f1444fa",
   "metadata": {},
   "outputs": [
    {
     "data": {
      "text/html": [
       "<div>\n",
       "<style scoped>\n",
       "    .dataframe tbody tr th:only-of-type {\n",
       "        vertical-align: middle;\n",
       "    }\n",
       "\n",
       "    .dataframe tbody tr th {\n",
       "        vertical-align: top;\n",
       "    }\n",
       "\n",
       "    .dataframe thead th {\n",
       "        text-align: right;\n",
       "    }\n",
       "</style>\n",
       "<table border=\"1\" class=\"dataframe\">\n",
       "  <thead>\n",
       "    <tr style=\"text-align: right;\">\n",
       "      <th></th>\n",
       "      <th>EUR_USD</th>\n",
       "      <th>SMA</th>\n",
       "      <th>Lower</th>\n",
       "      <th>Upper</th>\n",
       "      <th>RSI</th>\n",
       "      <th>rsi_slope</th>\n",
       "      <th>prev_rsi_slope</th>\n",
       "      <th>amount</th>\n",
       "    </tr>\n",
       "    <tr>\n",
       "      <th>time</th>\n",
       "      <th></th>\n",
       "      <th></th>\n",
       "      <th></th>\n",
       "      <th></th>\n",
       "      <th></th>\n",
       "      <th></th>\n",
       "      <th></th>\n",
       "      <th></th>\n",
       "    </tr>\n",
       "  </thead>\n",
       "  <tbody>\n",
       "    <tr>\n",
       "      <th>2024-01-10 18:02:00</th>\n",
       "      <td>1.09674</td>\n",
       "      <td>1.096211</td>\n",
       "      <td>1.095292</td>\n",
       "      <td>1.097131</td>\n",
       "      <td>NaN</td>\n",
       "      <td>NaN</td>\n",
       "      <td>NaN</td>\n",
       "      <td>NaN</td>\n",
       "    </tr>\n",
       "    <tr>\n",
       "      <th>2024-01-10 18:03:00</th>\n",
       "      <td>1.09658</td>\n",
       "      <td>1.096216</td>\n",
       "      <td>1.095295</td>\n",
       "      <td>1.097138</td>\n",
       "      <td>NaN</td>\n",
       "      <td>NaN</td>\n",
       "      <td>NaN</td>\n",
       "      <td>NaN</td>\n",
       "    </tr>\n",
       "    <tr>\n",
       "      <th>2024-01-10 18:04:00</th>\n",
       "      <td>1.09641</td>\n",
       "      <td>1.096220</td>\n",
       "      <td>1.095297</td>\n",
       "      <td>1.097142</td>\n",
       "      <td>NaN</td>\n",
       "      <td>NaN</td>\n",
       "      <td>NaN</td>\n",
       "      <td>NaN</td>\n",
       "    </tr>\n",
       "    <tr>\n",
       "      <th>2024-01-10 18:05:00</th>\n",
       "      <td>1.09624</td>\n",
       "      <td>1.096222</td>\n",
       "      <td>1.095301</td>\n",
       "      <td>1.097143</td>\n",
       "      <td>NaN</td>\n",
       "      <td>NaN</td>\n",
       "      <td>NaN</td>\n",
       "      <td>NaN</td>\n",
       "    </tr>\n",
       "    <tr>\n",
       "      <th>2024-01-10 18:06:00</th>\n",
       "      <td>1.09642</td>\n",
       "      <td>1.096227</td>\n",
       "      <td>1.095307</td>\n",
       "      <td>1.097147</td>\n",
       "      <td>NaN</td>\n",
       "      <td>NaN</td>\n",
       "      <td>NaN</td>\n",
       "      <td>NaN</td>\n",
       "    </tr>\n",
       "    <tr>\n",
       "      <th>...</th>\n",
       "      <td>...</td>\n",
       "      <td>...</td>\n",
       "      <td>...</td>\n",
       "      <td>...</td>\n",
       "      <td>...</td>\n",
       "      <td>...</td>\n",
       "      <td>...</td>\n",
       "      <td>...</td>\n",
       "    </tr>\n",
       "    <tr>\n",
       "      <th>2024-01-12 21:54:00</th>\n",
       "      <td>1.09499</td>\n",
       "      <td>1.095186</td>\n",
       "      <td>1.094774</td>\n",
       "      <td>1.095599</td>\n",
       "      <td>56.250000</td>\n",
       "      <td>0.697661</td>\n",
       "      <td>1.876503</td>\n",
       "      <td>0.764068</td>\n",
       "    </tr>\n",
       "    <tr>\n",
       "      <th>2024-01-12 21:55:00</th>\n",
       "      <td>1.09499</td>\n",
       "      <td>1.095183</td>\n",
       "      <td>1.094769</td>\n",
       "      <td>1.095596</td>\n",
       "      <td>60.000000</td>\n",
       "      <td>-0.457288</td>\n",
       "      <td>0.697661</td>\n",
       "      <td>-0.500814</td>\n",
       "    </tr>\n",
       "    <tr>\n",
       "      <th>2024-01-12 21:56:00</th>\n",
       "      <td>1.09500</td>\n",
       "      <td>1.095179</td>\n",
       "      <td>1.094766</td>\n",
       "      <td>1.095591</td>\n",
       "      <td>57.142857</td>\n",
       "      <td>-1.413103</td>\n",
       "      <td>-0.457288</td>\n",
       "      <td>-1.547601</td>\n",
       "    </tr>\n",
       "    <tr>\n",
       "      <th>2024-01-12 21:57:00</th>\n",
       "      <td>1.09508</td>\n",
       "      <td>1.095175</td>\n",
       "      <td>1.094766</td>\n",
       "      <td>1.095583</td>\n",
       "      <td>59.459459</td>\n",
       "      <td>-1.607638</td>\n",
       "      <td>-1.413103</td>\n",
       "      <td>-1.760644</td>\n",
       "    </tr>\n",
       "    <tr>\n",
       "      <th>2024-01-12 21:58:00</th>\n",
       "      <td>1.09508</td>\n",
       "      <td>1.095171</td>\n",
       "      <td>1.094767</td>\n",
       "      <td>1.095574</td>\n",
       "      <td>61.971831</td>\n",
       "      <td>-0.911107</td>\n",
       "      <td>-1.607638</td>\n",
       "      <td>-0.997817</td>\n",
       "    </tr>\n",
       "  </tbody>\n",
       "</table>\n",
       "<p>3086 rows × 8 columns</p>\n",
       "</div>"
      ],
      "text/plain": [
       "                     EUR_USD       SMA     Lower     Upper        RSI  \\\n",
       "time                                                                    \n",
       "2024-01-10 18:02:00  1.09674  1.096211  1.095292  1.097131        NaN   \n",
       "2024-01-10 18:03:00  1.09658  1.096216  1.095295  1.097138        NaN   \n",
       "2024-01-10 18:04:00  1.09641  1.096220  1.095297  1.097142        NaN   \n",
       "2024-01-10 18:05:00  1.09624  1.096222  1.095301  1.097143        NaN   \n",
       "2024-01-10 18:06:00  1.09642  1.096227  1.095307  1.097147        NaN   \n",
       "...                      ...       ...       ...       ...        ...   \n",
       "2024-01-12 21:54:00  1.09499  1.095186  1.094774  1.095599  56.250000   \n",
       "2024-01-12 21:55:00  1.09499  1.095183  1.094769  1.095596  60.000000   \n",
       "2024-01-12 21:56:00  1.09500  1.095179  1.094766  1.095591  57.142857   \n",
       "2024-01-12 21:57:00  1.09508  1.095175  1.094766  1.095583  59.459459   \n",
       "2024-01-12 21:58:00  1.09508  1.095171  1.094767  1.095574  61.971831   \n",
       "\n",
       "                     rsi_slope  prev_rsi_slope    amount  \n",
       "time                                                      \n",
       "2024-01-10 18:02:00        NaN             NaN       NaN  \n",
       "2024-01-10 18:03:00        NaN             NaN       NaN  \n",
       "2024-01-10 18:04:00        NaN             NaN       NaN  \n",
       "2024-01-10 18:05:00        NaN             NaN       NaN  \n",
       "2024-01-10 18:06:00        NaN             NaN       NaN  \n",
       "...                        ...             ...       ...  \n",
       "2024-01-12 21:54:00   0.697661        1.876503  0.764068  \n",
       "2024-01-12 21:55:00  -0.457288        0.697661 -0.500814  \n",
       "2024-01-12 21:56:00  -1.413103       -0.457288 -1.547601  \n",
       "2024-01-12 21:57:00  -1.607638       -1.413103 -1.760644  \n",
       "2024-01-12 21:58:00  -0.911107       -1.607638 -0.997817  \n",
       "\n",
       "[3086 rows x 8 columns]"
      ]
     },
     "execution_count": 13,
     "metadata": {},
     "output_type": "execute_result"
    }
   ],
   "source": [
    "raw_df"
   ]
  },
  {
   "cell_type": "code",
   "execution_count": 11,
   "id": "81e57244",
   "metadata": {},
   "outputs": [],
   "source": [
    "raw_df.to_excel(\"output1.xlsx\")"
   ]
  },
  {
   "cell_type": "code",
   "execution_count": null,
   "id": "4015f15b",
   "metadata": {},
   "outputs": [],
   "source": [
    "new_df = pd.read_excel(\"output.xlsx\")"
   ]
  },
  {
   "cell_type": "code",
   "execution_count": null,
   "id": "858016c2",
   "metadata": {},
   "outputs": [],
   "source": [
    "# new_df.iloc[837]"
   ]
  },
  {
   "cell_type": "code",
   "execution_count": null,
   "id": "c81070cc",
   "metadata": {},
   "outputs": [],
   "source": [
    "slope05 = MyTT.SLOPE (raw_df[instrument].values, N=5)\n",
    "print (f\"slope: {slope05}\")"
   ]
  },
  {
   "cell_type": "code",
   "execution_count": null,
   "id": "49106793",
   "metadata": {},
   "outputs": [],
   "source": [
    "slope10 = MyTT.SLOPE (raw_df[instrument].values, N=10)\n",
    "print (f\"slope: {slope10}\")"
   ]
  },
  {
   "cell_type": "code",
   "execution_count": null,
   "id": "97a74597",
   "metadata": {},
   "outputs": [],
   "source": [
    "raw_df.loc[raw_df.index[-1], 'slope05'] = slope05\n",
    "raw_df.loc[raw_df.index[-1], 'slope10'] = slope10"
   ]
  },
  {
   "cell_type": "code",
   "execution_count": null,
   "id": "bcfa0532",
   "metadata": {},
   "outputs": [],
   "source": [
    "raw_df"
   ]
  },
  {
   "cell_type": "code",
   "execution_count": null,
   "id": "72cbd754",
   "metadata": {},
   "outputs": [],
   "source": [
    "slope05 = MyTT.SLOPE (raw_df[instrument].values, N=5)\n",
    "print (f\"slope: {slope05}\")"
   ]
  },
  {
   "cell_type": "code",
   "execution_count": null,
   "id": "3399ed1f",
   "metadata": {},
   "outputs": [],
   "source": []
  },
  {
   "cell_type": "code",
   "execution_count": null,
   "id": "b67118d5",
   "metadata": {},
   "outputs": [],
   "source": []
  },
  {
   "cell_type": "code",
   "execution_count": null,
   "id": "c3fc218f",
   "metadata": {},
   "outputs": [],
   "source": []
  },
  {
   "cell_type": "code",
   "execution_count": null,
   "id": "63804223",
   "metadata": {},
   "outputs": [],
   "source": [
    "raw_df[\"slope05\"].tail(10).dropna().size > "
   ]
  },
  {
   "cell_type": "code",
   "execution_count": null,
   "id": "027e02a2",
   "metadata": {},
   "outputs": [],
   "source": [
    "slope05_05 = MyTT.SLOPE(raw_df[\"slope05\"].tail(10).values, N=5)\n",
    "print (slope05_05)"
   ]
  },
  {
   "cell_type": "code",
   "execution_count": null,
   "id": "68b8af0c",
   "metadata": {},
   "outputs": [],
   "source": []
  },
  {
   "cell_type": "code",
   "execution_count": null,
   "id": "611c5912",
   "metadata": {},
   "outputs": [],
   "source": [
    "# new_df = raw_df.resample(\"1Min\").last()\n",
    "# new_df\n",
    "slope = MyTT.SLOPE (raw_df[instrument].iloc[:1349].values, N=5)\n",
    "print (f\"slope: {slope}\")"
   ]
  },
  {
   "cell_type": "code",
   "execution_count": null,
   "id": "24d87d3b",
   "metadata": {},
   "outputs": [],
   "source": [
    "# new_df = raw_df.resample(\"1Min\").last()\n",
    "# new_df\n",
    "slope = MyTT.SLOPE (raw_df[instrument].iloc[:1356].values, N=4)\n",
    "print (f\"slope: {slope}\")"
   ]
  },
  {
   "cell_type": "code",
   "execution_count": null,
   "id": "245ad2fd",
   "metadata": {},
   "outputs": [],
   "source": []
  },
  {
   "cell_type": "code",
   "execution_count": null,
   "id": "86b83410",
   "metadata": {},
   "outputs": [],
   "source": [
    "# new_df.resample (\"1Min\").last()"
   ]
  },
  {
   "cell_type": "code",
   "execution_count": null,
   "id": "a6f553e2",
   "metadata": {},
   "outputs": [],
   "source": [
    "# df_1 = pd.concat([raw_df, new_df])\n",
    "# df_1"
   ]
  },
  {
   "cell_type": "code",
   "execution_count": null,
   "id": "5186ca1c",
   "metadata": {},
   "outputs": [],
   "source": [
    "new_df = do_math(raw_df)\n",
    "new_df"
   ]
  },
  {
   "cell_type": "code",
   "execution_count": null,
   "id": "3012b4ab",
   "metadata": {},
   "outputs": [],
   "source": []
  },
  {
   "cell_type": "code",
   "execution_count": null,
   "id": "46a3c782",
   "metadata": {},
   "outputs": [],
   "source": [
    "new_df"
   ]
  },
  {
   "cell_type": "code",
   "execution_count": null,
   "id": "48b82994",
   "metadata": {},
   "outputs": [],
   "source": [
    "new_df['lower_slope'] = MyTT.SLOPE(new_df['Lower'], 10)"
   ]
  },
  {
   "cell_type": "code",
   "execution_count": null,
   "id": "60dada68",
   "metadata": {},
   "outputs": [],
   "source": [
    "recent_tick = datetime.strptime(\"2023-12-18T19:53:59.394378503Z\", '%Y-%m-%dT%H:%M:%S.%fZ').replace(tzinfo=None).replace(microsecond=0)\n",
    "recent_tick"
   ]
  },
  {
   "cell_type": "code",
   "execution_count": null,
   "id": "93bb3752",
   "metadata": {},
   "outputs": [],
   "source": [
    "df1 = pd.DataFrame({'EUR_USD': 2.09229}, index=[recent_tick])\n",
    "df1\n"
   ]
  },
  {
   "cell_type": "code",
   "execution_count": null,
   "id": "ced187bf",
   "metadata": {},
   "outputs": [],
   "source": [
    "df1.reset_index(inplace=True)\n",
    "df1"
   ]
  },
  {
   "cell_type": "code",
   "execution_count": null,
   "id": "eed7a2e8",
   "metadata": {},
   "outputs": [],
   "source": [
    "df1.rename(columns = {\"index\":'time'}, inplace = True)\n",
    "df1.set_index('time', inplace=True)\n"
   ]
  },
  {
   "cell_type": "code",
   "execution_count": null,
   "id": "c917b9c6",
   "metadata": {},
   "outputs": [],
   "source": [
    "df1"
   ]
  },
  {
   "cell_type": "code",
   "execution_count": null,
   "id": "52c5bdea",
   "metadata": {},
   "outputs": [],
   "source": [
    "df2 = pd.concat([raw_df, df1])\n",
    "df2"
   ]
  },
  {
   "cell_type": "code",
   "execution_count": null,
   "id": "541d3a0f",
   "metadata": {},
   "outputs": [],
   "source": [
    "df2.sort_values(by='time', ascending=False)\n",
    "df2"
   ]
  },
  {
   "cell_type": "code",
   "execution_count": null,
   "id": "8253a780",
   "metadata": {},
   "outputs": [],
   "source": [
    "if raw_df.size > SMA:\n",
    "    raw_df_1 = raw_df.tail(SMA)\n",
    "    \n",
    "raw_df_1"
   ]
  },
  {
   "cell_type": "code",
   "execution_count": null,
   "id": "05231455",
   "metadata": {},
   "outputs": [],
   "source": [
    "raw_df_1.index[-1]"
   ]
  },
  {
   "cell_type": "code",
   "execution_count": null,
   "id": "a4689b9b",
   "metadata": {},
   "outputs": [],
   "source": [
    "last_bar = df2.index[-1].replace(tzinfo=None)\n",
    "last_bar"
   ]
  },
  {
   "cell_type": "code",
   "execution_count": null,
   "id": "d7709924",
   "metadata": {},
   "outputs": [],
   "source": []
  },
  {
   "cell_type": "code",
   "execution_count": null,
   "id": "1a27cd50",
   "metadata": {},
   "outputs": [],
   "source": []
  },
  {
   "cell_type": "code",
   "execution_count": null,
   "id": "316b8feb",
   "metadata": {},
   "outputs": [],
   "source": [
    "df2.set_index('time', inplace=True)\n",
    "df2.sort_values(by='time', ascending=False)\n",
    "df2.reset_index(inplace=True)\n",
    "df2"
   ]
  },
  {
   "cell_type": "code",
   "execution_count": null,
   "id": "6eebbb50",
   "metadata": {},
   "outputs": [],
   "source": []
  },
  {
   "cell_type": "code",
   "execution_count": null,
   "id": "f9fded72",
   "metadata": {},
   "outputs": [],
   "source": []
  },
  {
   "cell_type": "code",
   "execution_count": null,
   "id": "13036243",
   "metadata": {},
   "outputs": [],
   "source": []
  },
  {
   "cell_type": "code",
   "execution_count": null,
   "id": "8a0a4859",
   "metadata": {},
   "outputs": [],
   "source": []
  },
  {
   "cell_type": "code",
   "execution_count": null,
   "id": "21cff8d5",
   "metadata": {},
   "outputs": [],
   "source": []
  },
  {
   "cell_type": "code",
   "execution_count": null,
   "id": "c09b28d5",
   "metadata": {},
   "outputs": [],
   "source": []
  },
  {
   "cell_type": "code",
   "execution_count": null,
   "id": "bf13a4d8",
   "metadata": {},
   "outputs": [],
   "source": [
    "print (\"Inside define_strategy\")\n",
    "\n",
    "SMA=125\n",
    "dev=2\n",
    "\n",
    "# ******************** define your strategy here ************************\n",
    "df[\"SMA\"] = df[instrument].rolling(SMA).mean()\n",
    "df[\"Lower\"] = df[\"SMA\"] - df[instrument].rolling(SMA).std() * dev\n",
    "df[\"Upper\"] = df[\"SMA\"] + df[instrument].rolling(SMA).std() * dev\n",
    "df[\"distance\"] = df[instrument] - df.SMA\n",
    "\n",
    "df[\"position\"] = np.where(df[instrument] < df.Lower, 1, np.nan)\n",
    "\n",
    "df[\"position\"] = np.where(df[instrument] > df.Upper, -1, df[\"position\"])\n",
    "\n",
    "df[\"position\"] = np.where(df.distance * df.distance.shift(1) < 0, 0, df[\"position\"])\n",
    "\n",
    "\n",
    "df[\"position\"] = df.position.ffill().fillna(0)\n",
    "# ***********************************************************************\n",
    "df"
   ]
  },
  {
   "cell_type": "code",
   "execution_count": null,
   "id": "fae0a7de",
   "metadata": {},
   "outputs": [],
   "source": [
    "print (\"Inside determine_action\")\n",
    "pos = None\n",
    "\n",
    "# update the latest position\n",
    "\n",
    "if df[instrument].iloc[-1] < df.Lower.iloc[-1]:\n",
    "    pos = 1\n",
    "elif df[self.instrument].iloc[-1] > df.Upper.iloc[-1]:\n",
    "    pos = -1\n",
    "\n",
    "if df.distance.iloc[-1] * df.distance.iloc[-2] < 0:\n",
    "    pos = 0\n",
    "\n",
    "df[\"position\"].iloc[-1] = pos\n"
   ]
  },
  {
   "cell_type": "code",
   "execution_count": null,
   "id": "b6f8da8d",
   "metadata": {},
   "outputs": [],
   "source": []
  },
  {
   "cell_type": "code",
   "execution_count": null,
   "id": "2bc3b37a",
   "metadata": {},
   "outputs": [],
   "source": []
  },
  {
   "cell_type": "code",
   "execution_count": null,
   "id": "33ccc19a",
   "metadata": {},
   "outputs": [],
   "source": []
  },
  {
   "cell_type": "code",
   "execution_count": null,
   "id": "e2f164f4",
   "metadata": {},
   "outputs": [],
   "source": []
  },
  {
   "cell_type": "code",
   "execution_count": null,
   "id": "ef2cf208",
   "metadata": {},
   "outputs": [],
   "source": []
  },
  {
   "cell_type": "code",
   "execution_count": null,
   "id": "eaaad972",
   "metadata": {},
   "outputs": [],
   "source": [
    "trader = ConTrader(\"oanda.cfg\", \"EUR_USD\", \"1min\", window = 1, units = 10000)"
   ]
  },
  {
   "cell_type": "code",
   "execution_count": null,
   "id": "12eaf327",
   "metadata": {},
   "outputs": [],
   "source": [
    "trader.start_trading(days = 5, max_attempts =  3, wait = 20, wait_increase = 0) # trade 200 ticks"
   ]
  },
  {
   "cell_type": "code",
   "execution_count": null,
   "id": "07800ed4",
   "metadata": {},
   "outputs": [],
   "source": [
    "trader.data"
   ]
  },
  {
   "cell_type": "code",
   "execution_count": null,
   "id": "53e012ac",
   "metadata": {},
   "outputs": [],
   "source": [
    "trader.position"
   ]
  },
  {
   "cell_type": "code",
   "execution_count": null,
   "id": "3413f031",
   "metadata": {},
   "outputs": [],
   "source": []
  },
  {
   "cell_type": "markdown",
   "id": "3e88b578",
   "metadata": {},
   "source": [
    "## Oanda: How to create Stop Loss and Take Profit Orders"
   ]
  },
  {
   "cell_type": "code",
   "execution_count": null,
   "id": "9d5d6b4e",
   "metadata": {},
   "outputs": [],
   "source": [
    "trader"
   ]
  },
  {
   "cell_type": "code",
   "execution_count": null,
   "id": "114aae82",
   "metadata": {},
   "outputs": [],
   "source": [
    "current_price = trader.data[trader.instrument].iloc[-1]\n",
    "current_price"
   ]
  },
  {
   "cell_type": "markdown",
   "id": "ac0e4974",
   "metadata": {},
   "source": [
    "__Stop Loss (distance)__"
   ]
  },
  {
   "cell_type": "markdown",
   "id": "2d7e91be",
   "metadata": {},
   "source": [
    "Distance of 0.01 means 100 pips -> works in both directions (Long and Short)"
   ]
  },
  {
   "cell_type": "markdown",
   "id": "9d88fbae",
   "metadata": {},
   "source": [
    "If Current EUR/USD FX rate is 1.08:\n",
    "- Stop Loss Price for LONG position: 1.08 - 0.01 = 1.07\n",
    "- Stop Loss Price for SHORT position: 1.08 + 0.01 = 1.09"
   ]
  },
  {
   "cell_type": "code",
   "execution_count": null,
   "id": "0f6ceaa7",
   "metadata": {},
   "outputs": [],
   "source": [
    "# open long position with sl\n",
    "order = trader.create_order(trader.instrument, trader.units, suppress = True, ret = True,\n",
    "                            sl_distance = 0.01)\n",
    "order"
   ]
  },
  {
   "cell_type": "code",
   "execution_count": null,
   "id": "7cc88929",
   "metadata": {},
   "outputs": [],
   "source": [
    "# closing trade -> limit order automatically cancelled\n",
    "order = trader.create_order(trader.instrument, -trader.units, suppress = True, ret = True)\n",
    "order"
   ]
  },
  {
   "cell_type": "markdown",
   "id": "c289a861",
   "metadata": {},
   "source": [
    "__Take Profit (price)__"
   ]
  },
  {
   "cell_type": "markdown",
   "id": "2ab8484a",
   "metadata": {},
   "source": [
    "If Current EUR/USD FX rate is 1.08:\n",
    "- Take Profit Price for LONG position must be greater -> 1.09\n",
    "- Take Profit Price for SHORT position must be less -> 1.07 "
   ]
  },
  {
   "cell_type": "code",
   "execution_count": null,
   "id": "6a5e1380",
   "metadata": {},
   "outputs": [],
   "source": [
    "# open long position with tp\n",
    "order = trader.create_order(trader.instrument, trader.units, suppress = True, ret = True,\n",
    "                            tp_price = 1.09) # adjust tp_price based on current price!\n",
    "order"
   ]
  },
  {
   "cell_type": "code",
   "execution_count": null,
   "id": "c3ebb3be",
   "metadata": {},
   "outputs": [],
   "source": [
    "# close long position\n",
    "order = trader.create_order(trader.instrument, -trader.units, suppress = True, ret = True)\n",
    "order"
   ]
  },
  {
   "cell_type": "markdown",
   "id": "f5d71e28",
   "metadata": {},
   "source": [
    "__Stop Loss and Take Profit__"
   ]
  },
  {
   "cell_type": "markdown",
   "id": "7ca646b1",
   "metadata": {},
   "source": [
    "SL and TP can be combined!"
   ]
  },
  {
   "cell_type": "code",
   "execution_count": null,
   "id": "4089741a",
   "metadata": {},
   "outputs": [],
   "source": [
    "# open long position with sl & tp\n",
    "order = trader.create_order(trader.instrument, trader.units, suppress = True, ret = True,\n",
    "                            sl_distance = 0.01, tp_price = 1.09) # adjust tp_price based on current price!\n",
    "order"
   ]
  },
  {
   "cell_type": "code",
   "execution_count": null,
   "id": "76e26365",
   "metadata": {},
   "outputs": [],
   "source": [
    "# close long position\n",
    "order = trader.create_order(trader.instrument, -trader.units, suppress = True, ret = True)\n",
    "order"
   ]
  },
  {
   "cell_type": "markdown",
   "id": "c435595f",
   "metadata": {},
   "source": [
    "__Trailing Stop Loss__"
   ]
  },
  {
   "cell_type": "markdown",
   "id": "c501e210",
   "metadata": {},
   "source": [
    "Remember: Trailing Stop Loss Price moves if price moves into the right direction (Long position: increase, Short position: decrease)"
   ]
  },
  {
   "cell_type": "code",
   "execution_count": null,
   "id": "d44f8a52",
   "metadata": {},
   "outputs": [],
   "source": [
    "# open long position with tsl\n",
    "order = trader.create_order(trader.instrument, trader.units, suppress = True, ret = True,\n",
    "                            tsl_distance = 0.01)\n",
    "order"
   ]
  },
  {
   "cell_type": "code",
   "execution_count": null,
   "id": "ba62696d",
   "metadata": {},
   "outputs": [],
   "source": [
    "# close long position\n",
    "order = trader.create_order(trader.instrument, -trader.units, suppress = True, ret = True)\n",
    "order"
   ]
  },
  {
   "cell_type": "code",
   "execution_count": null,
   "id": "668d34d2",
   "metadata": {},
   "outputs": [],
   "source": []
  },
  {
   "cell_type": "markdown",
   "id": "a61bd4b2",
   "metadata": {},
   "source": [
    "## Oanda: Stop Loss and Take Profit Orders - Pitfalls"
   ]
  },
  {
   "cell_type": "code",
   "execution_count": null,
   "id": "1aa7c703",
   "metadata": {},
   "outputs": [],
   "source": [
    "trader"
   ]
  },
  {
   "cell_type": "code",
   "execution_count": null,
   "id": "018f431b",
   "metadata": {},
   "outputs": [],
   "source": [
    "# if sl_distance is 1 pip or less -> order Cancelled.\n",
    "order = trader.create_order(trader.instrument, trader.units, suppress = True, ret = True,\n",
    "                            sl_distance = 0.0001)\n",
    "order"
   ]
  },
  {
   "cell_type": "code",
   "execution_count": null,
   "id": "9b59f56b",
   "metadata": {},
   "outputs": [],
   "source": [
    "order[\"price\"] # consequence in the Trader Bot (KeyError: \"price\")"
   ]
  },
  {
   "cell_type": "code",
   "execution_count": null,
   "id": "01600bf0",
   "metadata": {},
   "outputs": [],
   "source": [
    "# if sl_distance has too many (>5) decimals -> order Cancelled.\n",
    "order = trader.create_order(trader.instrument, trader.units, suppress = True, ret = True,\n",
    "                            sl_distance = 0.014509485)\n",
    "order"
   ]
  },
  {
   "cell_type": "code",
   "execution_count": null,
   "id": "c9a762b9",
   "metadata": {},
   "outputs": [],
   "source": [
    "# if tp_price has too many (> 2-5) decimals -> order Cancelled.\n",
    "order = trader.create_order(trader.instrument, trader.units, suppress = True, ret = True,\n",
    "                            tp_price = 1.094585684)\n",
    "order"
   ]
  },
  {
   "cell_type": "code",
   "execution_count": null,
   "id": "d4aab545",
   "metadata": {},
   "outputs": [],
   "source": [
    "# if tp_price is less (LONG) or greater (SHORT) than current price -> order Cancelled.\n",
    "order = trader.create_order(trader.instrument, trader.units, suppress = True, ret = True,\n",
    "                            tp_price = 1.06)\n",
    "order"
   ]
  },
  {
   "cell_type": "code",
   "execution_count": null,
   "id": "173b2a87",
   "metadata": {},
   "outputs": [],
   "source": []
  },
  {
   "cell_type": "markdown",
   "id": "2d2f7e6e",
   "metadata": {},
   "source": [
    "## Oanda: Setting SL Distances and TP Prices in real-time"
   ]
  },
  {
   "cell_type": "markdown",
   "id": "3357a8bb",
   "metadata": {},
   "source": [
    "__Setting SL/TSL Distance__"
   ]
  },
  {
   "cell_type": "code",
   "execution_count": null,
   "id": "b3efd067",
   "metadata": {},
   "outputs": [],
   "source": [
    "trader"
   ]
  },
  {
   "cell_type": "code",
   "execution_count": null,
   "id": "ea0af154",
   "metadata": {},
   "outputs": [],
   "source": [
    "current_price = trader.get_prices(trader.instrument)[2]\n",
    "current_price"
   ]
  },
  {
   "cell_type": "markdown",
   "id": "2e3df578",
   "metadata": {},
   "source": [
    "Typically: Define Maximum Loss in % (e.g. 1% loss -> 10% if leverage == 10)"
   ]
  },
  {
   "cell_type": "code",
   "execution_count": null,
   "id": "7f08d7f5",
   "metadata": {},
   "outputs": [],
   "source": [
    "sl_perc = 0.01 # SL Event if Price moves in the wrong direction by 1%"
   ]
  },
  {
   "cell_type": "code",
   "execution_count": null,
   "id": "60237c76",
   "metadata": {},
   "outputs": [],
   "source": [
    "sl_dist = round(current_price * sl_perc, 4) # don´t forget rounding!!!\n",
    "sl_dist"
   ]
  },
  {
   "cell_type": "code",
   "execution_count": null,
   "id": "f22d06da",
   "metadata": {},
   "outputs": [],
   "source": [
    "# sl_price_long\n",
    "current_price - sl_dist"
   ]
  },
  {
   "cell_type": "code",
   "execution_count": null,
   "id": "b9cbfdee",
   "metadata": {},
   "outputs": [],
   "source": [
    "# sl_price_short\n",
    "current_price + sl_dist"
   ]
  },
  {
   "cell_type": "markdown",
   "id": "16a4ca31",
   "metadata": {},
   "source": [
    "__Setting TP Price__"
   ]
  },
  {
   "cell_type": "code",
   "execution_count": null,
   "id": "ae6da47d",
   "metadata": {},
   "outputs": [],
   "source": [
    "target_position = 1 # Going Long"
   ]
  },
  {
   "cell_type": "code",
   "execution_count": null,
   "id": "77ef3936",
   "metadata": {},
   "outputs": [],
   "source": [
    "tp_perc = 0.01 # if Price moves by 1% in the right direction"
   ]
  },
  {
   "cell_type": "code",
   "execution_count": null,
   "id": "64885d25",
   "metadata": {},
   "outputs": [],
   "source": [
    "if target_position == 1:\n",
    "    tp_price = round(current_price * (1 + tp_perc), 2) \n",
    "elif target_position == -1:\n",
    "    tp_price = round(current_price * (1 - tp_perc), 2)     "
   ]
  },
  {
   "cell_type": "code",
   "execution_count": null,
   "id": "27cd24f7",
   "metadata": {},
   "outputs": [],
   "source": [
    "tp_price"
   ]
  },
  {
   "cell_type": "code",
   "execution_count": null,
   "id": "8bf97ac2",
   "metadata": {},
   "outputs": [],
   "source": [
    "# open long position with sl & tp\n",
    "order = trader.create_order(trader.instrument, trader.units, suppress = True, ret = True,\n",
    "                            sl_distance = sl_dist, tp_price = tp_price) # adjust tp_price based on current price!\n",
    "order"
   ]
  },
  {
   "cell_type": "code",
   "execution_count": null,
   "id": "e0bfa1a6",
   "metadata": {},
   "outputs": [],
   "source": [
    "# close long position\n",
    "order = trader.create_order(trader.instrument, -trader.units, suppress = True, ret = True)\n",
    "order"
   ]
  },
  {
   "cell_type": "code",
   "execution_count": null,
   "id": "b989a486",
   "metadata": {},
   "outputs": [],
   "source": []
  },
  {
   "cell_type": "markdown",
   "id": "02170a9c",
   "metadata": {},
   "source": [
    "## Oanda: Check for SL/TP Events"
   ]
  },
  {
   "cell_type": "markdown",
   "id": "5694ce63",
   "metadata": {},
   "source": [
    "__Problem in Trading Bot: it doesn´t record TP/SL trades__"
   ]
  },
  {
   "cell_type": "code",
   "execution_count": null,
   "id": "6b337245",
   "metadata": {},
   "outputs": [],
   "source": [
    "trader.position = 1\n",
    "trader.position # trading position recorded by the class (-1, 0, 1)"
   ]
  },
  {
   "cell_type": "code",
   "execution_count": null,
   "id": "e90b34a4",
   "metadata": {},
   "outputs": [],
   "source": [
    "exp_position = round(trader.position*trader.units, 0) # expected_position in EUR units\n",
    "exp_position"
   ]
  },
  {
   "cell_type": "code",
   "execution_count": null,
   "id": "d2b2b9dd",
   "metadata": {},
   "outputs": [],
   "source": [
    "positions = trader.get_positions() # open positions on Oanda.com\n",
    "positions"
   ]
  },
  {
   "cell_type": "code",
   "execution_count": null,
   "id": "ec838ddc",
   "metadata": {},
   "outputs": [],
   "source": [
    "# actual/true EUR/USD position in EUR units\n",
    "actual_position = 0\n",
    "for pos in positions:\n",
    "    if pos[\"instrument\"] == trader.instrument:\n",
    "        actual_position = round(float(pos[\"long\"][\"units\"]) + float(pos[\"short\"][\"units\"]), 0)\n",
    "actual_position"
   ]
  },
  {
   "cell_type": "markdown",
   "id": "a417e54b",
   "metadata": {},
   "source": [
    "__Double-Check if expected EUR/USD position != actual/true EUR/USD position__"
   ]
  },
  {
   "cell_type": "markdown",
   "id": "8e95d4c7",
   "metadata": {},
   "source": [
    "(strong indication for SL/TP Event)"
   ]
  },
  {
   "cell_type": "code",
   "execution_count": null,
   "id": "f6126b50",
   "metadata": {},
   "outputs": [],
   "source": [
    "if actual_position != exp_position: # if not equal\n",
    "    trader.position = actual_position / trader.units # set true/actual trading position\n",
    "    print(\"Go Neutral and Stop Trading Session\") # most reasonable action to be taken"
   ]
  },
  {
   "cell_type": "code",
   "execution_count": null,
   "id": "cc53e337",
   "metadata": {},
   "outputs": [],
   "source": [
    "trader.position"
   ]
  },
  {
   "cell_type": "code",
   "execution_count": null,
   "id": "6d3af7e9",
   "metadata": {},
   "outputs": [],
   "source": []
  },
  {
   "cell_type": "markdown",
   "id": "2ca16816",
   "metadata": {},
   "source": [
    "## Oanda: Adding Stop Loss & Take Profit"
   ]
  },
  {
   "cell_type": "code",
   "execution_count": null,
   "id": "4372fc98",
   "metadata": {},
   "outputs": [],
   "source": [
    "import pandas as pd\n",
    "import numpy as np\n",
    "import tpqoa\n",
    "from datetime import datetime, timedelta\n",
    "import time"
   ]
  },
  {
   "cell_type": "code",
   "execution_count": null,
   "id": "d0cda190",
   "metadata": {},
   "outputs": [],
   "source": [
    "class ConTrader(tpqoa.tpqoa):\n",
    "    def __init__(self, conf_file, instrument, bar_length, window, units, sl_perc = None, tsl_perc = None, tp_perc = None):\n",
    "        super().__init__(conf_file)\n",
    "        self.instrument = instrument\n",
    "        self.bar_length = pd.to_timedelta(bar_length)\n",
    "        self.tick_data = pd.DataFrame()\n",
    "        self.raw_data = None\n",
    "        self.data = None \n",
    "        self.last_bar = None\n",
    "        self.units = units\n",
    "        self.position = 0\n",
    "        self.profits = [] \n",
    "        self.sl_perc = sl_perc # NEW\n",
    "        self.tsl_perc = tsl_perc # NEW\n",
    "        self.tp_perc = tp_perc # NEW\n",
    "        \n",
    "        #*****************add strategy-specific attributes here******************\n",
    "        self.window = window\n",
    "        #************************************************************************\n",
    "    \n",
    "    def get_most_recent(self, days = 5):\n",
    "        while True:\n",
    "            time.sleep(2)\n",
    "            now = datetime.now(tz=timezone.utc)\n",
    "            now = now - timedelta(microseconds = now.microsecond)\n",
    "            past = now - timedelta(days = days)\n",
    "            df = self.get_history(instrument = self.instrument, start = past, end = now,\n",
    "                                   granularity = \"S5\", price = \"M\", localize = False).c.dropna().to_frame()\n",
    "            df.rename(columns = {\"c\":self.instrument}, inplace = True)\n",
    "            df = df.resample(self.bar_length, label = \"right\").last().dropna().iloc[:-1]\n",
    "            self.raw_data = df.copy()\n",
    "            self.last_bar = self.raw_data.index[-1]\n",
    "            if pd.to_datetime(datetime.now(tz=timezone.utc)).tz_localize(\"UTC\") - self.last_bar < self.bar_length:\n",
    "                break\n",
    "            \n",
    "    def start_trading(self, days, max_attempts = 5, wait = 20, wait_increase = 0): # Error Handling\n",
    "        attempt = 0\n",
    "        success = False\n",
    "        while True:\n",
    "            try:\n",
    "                self.get_most_recent(days)\n",
    "                self.stream_data(self.instrument)\n",
    "            except Exception as e:\n",
    "                print(e, end = \" | \")\n",
    "            else:\n",
    "                success = True\n",
    "                break    \n",
    "            finally:\n",
    "                attempt +=1\n",
    "                print(\"Attempt: {}\".format(attempt), end = '\\n')\n",
    "                if success == False:\n",
    "                    if attempt >= max_attempts:\n",
    "                        print(\"max_attempts reached!\")\n",
    "                        try: # try to terminate session\n",
    "                            time.sleep(wait)\n",
    "                            self.terminate_session(cause = \"Unexpected Session Stop (too many errors).\")\n",
    "                        except Exception as e:\n",
    "                            print(e, end = \" | \")\n",
    "                            print(\"Could not terminate session properly!\")\n",
    "                        finally: \n",
    "                            break\n",
    "                    else: # try again\n",
    "                        time.sleep(wait)\n",
    "                        wait += wait_increase\n",
    "                        self.tick_data = pd.DataFrame()\n",
    "        \n",
    "    def on_success(self, time, bid, ask):\n",
    "        print(self.ticks, end = '\\r', flush = True)\n",
    "        \n",
    "        recent_tick = pd.to_datetime(time)\n",
    "        \n",
    "        # define stop\n",
    "        if self.ticks >= 200:\n",
    "            self.terminate_session(cause = \"Scheduled Session End.\")\n",
    "            return\n",
    "        \n",
    "        # collect and store tick data\n",
    "        df = pd.DataFrame({self.instrument:(ask + bid)/2}, \n",
    "                          index = [recent_tick])\n",
    "        self.tick_data = pd.concat([self.tick_data, df]) \n",
    "        \n",
    "        # if a time longer than the bar_lenght has elapsed between last full bar and the most recent tick\n",
    "        if recent_tick - self.last_bar >= self.bar_length:\n",
    "            self.resample_and_join()\n",
    "            self.define_strategy()\n",
    "            #self.execute_trades() now called inside self.check_positions()\n",
    "            self.check_positions()\n",
    "            \n",
    "    def resample_and_join(self):\n",
    "        self.raw_data = pd.concat([self.raw_data, self.tick_data.resample(self.bar_length, \n",
    "                                                                          label=\"right\").last().ffill().iloc[:-1]])\n",
    "        self.tick_data = self.tick_data.iloc[-1:]\n",
    "        self.last_bar = self.raw_data.index[-1]\n",
    "        \n",
    "    def define_strategy(self): # \"strategy-specific\"\n",
    "        df = self.raw_data.copy()\n",
    "        \n",
    "        #******************** define your strategy here ************************\n",
    "        df[\"returns\"] = np.log(df[self.instrument] / df[self.instrument].shift())\n",
    "        df[\"position\"] = -np.sign(df.returns.rolling(self.window).mean())\n",
    "        #***********************************************************************\n",
    "        \n",
    "        self.data = df.copy()\n",
    "        \n",
    "    def execute_trades(self):\n",
    "        \n",
    "        # NEW - determne SL distance and TP Price\n",
    "        current_price = self.data[self.instrument].iloc[-1]\n",
    "        \n",
    "        if self.sl_perc:\n",
    "            sl_dist = round(current_price * self.sl_perc, 4) \n",
    "        else: \n",
    "            sl_dist = None\n",
    "            \n",
    "            \n",
    "        if self.tsl_perc:\n",
    "            tsl_dist = round(current_price * self.tsl_perc, 4) \n",
    "        else: \n",
    "            tsl_dist = None\n",
    "            \n",
    "        \n",
    "        if self.tp_perc:\n",
    "            if self.data[\"position\"].iloc[-1] == 1:\n",
    "                tp_price = round(current_price * (1 + self.tp_perc), 2) \n",
    "            elif self.data[\"position\"].iloc[-1] == -1:\n",
    "                tp_price = round(current_price * (1 - self.tp_perc), 2)      \n",
    "        else: \n",
    "            tp_price = None\n",
    "        \n",
    "        if self.data[\"position\"].iloc[-1] == 1:\n",
    "            if self.position == 0:\n",
    "                order = self.create_order(self.instrument, self.units, suppress = True, ret = True,\n",
    "                                          sl_distance = sl_dist, tsl_distance = tsl_dist, tp_price = tp_price)\n",
    "                self.report_trade(order, \"GOING LONG\")  \n",
    "            elif self.position == -1:\n",
    "                order = self.create_order(self.instrument, self.units * 2, suppress = True, ret = True,\n",
    "                                          sl_distance = sl_dist, tsl_distance = tsl_dist, tp_price = tp_price) \n",
    "                self.report_trade(order, \"GOING LONG\")  \n",
    "            self.position = 1\n",
    "        elif self.data[\"position\"].iloc[-1] == -1: \n",
    "            if self.position == 0:\n",
    "                order = self.create_order(self.instrument, -self.units, suppress = True, ret = True,\n",
    "                                          sl_distance = sl_dist, tsl_distance = tsl_dist, tp_price = tp_price)\n",
    "                self.report_trade(order, \"GOING SHORT\")  \n",
    "            elif self.position == 1:\n",
    "                order = self.create_order(self.instrument, -self.units * 2, suppress = True, ret = True,\n",
    "                                          sl_distance = sl_dist, tsl_distance = tsl_dist, tp_price = tp_price)\n",
    "                self.report_trade(order, \"GOING SHORT\")  \n",
    "            self.position = -1\n",
    "        elif self.data[\"position\"].iloc[-1] == 0: \n",
    "            if self.position == -1:\n",
    "                order = self.create_order(self.instrument, self.units, suppress = True, ret = True) \n",
    "                self.report_trade(order, \"GOING NEUTRAL\")  \n",
    "            elif self.position == 1:\n",
    "                order = self.create_order(self.instrument, -self.units, suppress = True, ret = True)\n",
    "                self.report_trade(order, \"GOING NEUTRAL\")  \n",
    "            self.position = 0\n",
    "    \n",
    "    def report_trade(self, order, going):  \n",
    "        self.order_id = order[\"id\"] # Added! Order_ID of the latest recorded trade\n",
    "        time = order[\"time\"]\n",
    "        units = order[\"units\"]\n",
    "        price = order[\"price\"]\n",
    "        pl = float(order[\"pl\"])\n",
    "        self.profits.append(pl)\n",
    "        cumpl = sum(self.profits)\n",
    "        print(\"\\n\" + 100* \"-\")\n",
    "        print(\"{} | {}\".format(time, going))\n",
    "        print(\"{} | units = {} | price = {} | P&L = {} | Cum P&L = {}\".format(time, units, price, pl, cumpl))\n",
    "        print(100 * \"-\" + \"\\n\")  \n",
    "        \n",
    "    def terminate_session(self, cause):\n",
    "        self.stop_stream = True\n",
    "        if self.position != 0:\n",
    "            close_order = self.create_order(self.instrument, units = -self.position * self.units,\n",
    "                                            suppress = True, ret = True) \n",
    "            self.report_trade(close_order, \"GOING NEUTRAL\")\n",
    "            self.position = 0\n",
    "        print(cause, end = \" | \")\n",
    "    \n",
    "    def check_positions(self): # NEW!\n",
    "        exp_position = self.position*self.units # get current (exp.) position\n",
    "        \n",
    "        # get current actual position\n",
    "        try:\n",
    "            positions = self.get_positions()\n",
    "            actual_position = 0\n",
    "            for pos in positions:\n",
    "                if pos[\"instrument\"] == self.instrument:\n",
    "                    actual_position = round(float(pos[\"long\"][\"units\"]) + float(pos[\"short\"][\"units\"]), 0)\n",
    "        except:\n",
    "            actual_position = exp_position \n",
    "        \n",
    "        if actual_position != exp_position: # if mismatch (sl/tp triggered)\n",
    "            self.position = actual_position / self.units # update self.position\n",
    "            try:\n",
    "                latest_actions = self.get_transactions(self.order_id) # get all actions since last recorded trade (excl.)\n",
    "                for action in latest_actions:\n",
    "                    if action[\"type\"] == \"ORDER_FILL\": # last filled order/trade (sl/tp trade!) \n",
    "                        self.report_trade(action, \"GOING NEUTRAL\") # report sl/tp trade\n",
    "            except:\n",
    "                pass\n",
    "            finally:\n",
    "                self.terminate_session(\"SL/TP Event!\") # stop session\n",
    "        elif self.position != self.data[\"position\"].iloc[-1]: # if no mismatch and trade required\n",
    "            self.execute_trades()\n",
    "        else: # if no mismatch and no trade required\n",
    "            pass"
   ]
  },
  {
   "cell_type": "code",
   "execution_count": null,
   "id": "4b7bd426",
   "metadata": {},
   "outputs": [],
   "source": [
    "trader = ConTrader(\"oanda.cfg\", \"EUR_USD\", \"1min\", window = 1, units = 10000,\n",
    "                   sl_perc = 0.01, tp_perc = 0.01)"
   ]
  },
  {
   "cell_type": "code",
   "execution_count": null,
   "id": "141accde",
   "metadata": {},
   "outputs": [],
   "source": [
    "trader.start_trading(days = 5, max_attempts =  3, wait = 20, wait_increase = 0)"
   ]
  },
  {
   "cell_type": "code",
   "execution_count": null,
   "id": "dd691f3d",
   "metadata": {},
   "outputs": [],
   "source": []
  },
  {
   "cell_type": "markdown",
   "id": "3c3c01f2",
   "metadata": {},
   "source": [
    "## IBKR: Contrader Class without Take Profit & Stop Loss (Recap)"
   ]
  },
  {
   "cell_type": "markdown",
   "id": "78f3ad48",
   "metadata": {},
   "source": [
    "_Disclaimer: <br>\n",
    "The following illustrative examples are for general information and educational purposes only. <br>\n",
    "It is neither investment advice nor a recommendation to trade, invest or take whatsoever actions.<br>\n",
    "The below code should only be used in combination with an IBKR Practice/Demo Account and NOT with a Live Trading Account._"
   ]
  },
  {
   "cell_type": "code",
   "execution_count": null,
   "id": "397c5457",
   "metadata": {},
   "outputs": [],
   "source": [
    "from ib_insync import * \n",
    "import pandas as pd\n",
    "import numpy as np\n",
    "import datetime as dt\n",
    "from IPython.display import display, clear_output\n",
    "util.startLoop()"
   ]
  },
  {
   "cell_type": "code",
   "execution_count": null,
   "id": "70872bb2",
   "metadata": {},
   "outputs": [],
   "source": [
    "def start_session():\n",
    "    global last_update, session_start\n",
    "    \n",
    "    last_update = dt.datetime.now(tz=timezone.utc) \n",
    "    session_start = pd.to_datetime(last_update).tz_localize(\"utc\")\n",
    "    \n",
    "    initialize_stream()  \n",
    "    stop_session()\n",
    "\n",
    "def initialize_stream(): \n",
    "    global bars, last_bar\n",
    "    \n",
    "    bars = ib.reqHistoricalData(\n",
    "            contract,\n",
    "            endDateTime='',\n",
    "            durationStr='1 D',\n",
    "            barSizeSetting=freq,\n",
    "            whatToShow='MIDPOINT',\n",
    "            useRTH=True,\n",
    "            formatDate=2,\n",
    "            keepUpToDate=True)\n",
    "    last_bar = bars[-1].date\n",
    "    bars.updateEvent += onBarUpdate \n",
    "    \n",
    "def onBarUpdate(bars, hasNewBar):  \n",
    "    global df, last_bar, last_update\n",
    "    \n",
    "    last_update = dt.datetime.now(tz=timezone.utc) \n",
    "    \n",
    "    if bars[-1].date > last_bar: \n",
    "        last_bar = bars[-1].date\n",
    "    \n",
    "        # Data Processing\n",
    "        df = pd.DataFrame(bars)[[\"date\", \"open\", \"high\", \"low\", \"close\"]].iloc[:-1] \n",
    "        df.set_index(\"date\", inplace = True)\n",
    "        \n",
    "        ####################### Trading Strategy ###########################\n",
    "        df = df[[\"close\"]].copy()\n",
    "        df[\"returns\"] = np.log(df[\"close\"] / df[\"close\"].shift())\n",
    "        df[\"position\"] = -np.sign(df.returns.rolling(window).mean())\n",
    "        ####################################################################\n",
    "        \n",
    "        # Trading\n",
    "        target = df[\"position\"][-1] * units\n",
    "        execute_trade(target = target)\n",
    "        \n",
    "        # Display\n",
    "        clear_output(wait=True)\n",
    "        display(df)\n",
    "    else:\n",
    "        try:\n",
    "            trade_reporting()\n",
    "        except:\n",
    "            pass\n",
    "\n",
    "def execute_trade(target):\n",
    "    global current_pos\n",
    "    \n",
    "    # 1. get current Position\n",
    "    try:\n",
    "        current_pos = [pos.position for pos in ib.positions() if pos.contract.conId == conID][0]\n",
    "    except:\n",
    "        current_pos = 0\n",
    "         \n",
    "    # 2. identify required trades\n",
    "    trades = target - current_pos\n",
    "        \n",
    "    # 3. trade execution\n",
    "    if trades > 0:\n",
    "        side = \"BUY\"\n",
    "        order = MarketOrder(side, abs(trades))\n",
    "        trade = ib.placeOrder(cfd, order)  \n",
    "    elif trades < 0:\n",
    "        side = \"SELL\"\n",
    "        order = MarketOrder(side, abs(trades))\n",
    "        trade = ib.placeOrder(cfd, order)\n",
    "    else:\n",
    "        pass\n",
    "\n",
    "def trade_reporting():\n",
    "    global report\n",
    "    \n",
    "    fill_df = util.df([fs.execution for fs in ib.fills()])[[\"execId\", \"time\", \"side\", \"cumQty\", \"avgPrice\"]].set_index(\"execId\")\n",
    "    profit_df = util.df([fs.commissionReport for fs in ib.fills()])[[\"execId\", \"realizedPNL\"]].set_index(\"execId\")\n",
    "    report = pd.concat([fill_df, profit_df], axis = 1).set_index(\"time\").loc[session_start:]\n",
    "    report = report.groupby(\"time\").agg({\"side\":\"first\", \"cumQty\":\"max\", \"avgPrice\":\"mean\", \"realizedPNL\":\"sum\"})\n",
    "    report[\"cumPNL\"] = report.realizedPNL.cumsum()\n",
    "        \n",
    "    clear_output(wait=True)\n",
    "    display(df, report)\n",
    "\n",
    "def stop_session():\n",
    "    while True:\n",
    "        ib.sleep(5) \n",
    "        if dt.datetime.now(tz=timezone.utc).time() >= end_time:\n",
    "            execute_trade(target = 0) \n",
    "            ib.cancelHistoricalData(bars) \n",
    "            ib.sleep(10)\n",
    "            try:\n",
    "                trade_reporting() \n",
    "            except:\n",
    "                pass\n",
    "            print(\"Session Stopped (planned).\")\n",
    "            ib.disconnect()\n",
    "            break\n",
    "        elif dt.datetime.now(tz=timezone.utc) - last_update > dt.timedelta(seconds=120):\n",
    "                # if there was no streaming update in the last 120 seconds\n",
    "                ib.cancelHistoricalData(bars)\n",
    "                ib.sleep(5)\n",
    "                try: # try to reestablish stream\n",
    "                    initialize_stream()\n",
    "                except: # stop session\n",
    "                    ib.sleep(5)\n",
    "                    try:\n",
    "                        execute_trade(target = 0) # close open position \n",
    "                    except:\n",
    "                        pass\n",
    "                    ib.sleep(10)\n",
    "                    try:\n",
    "                        trade_reporting() # final reporting\n",
    "                    except:\n",
    "                        pass\n",
    "                    print(\"Session Stopped - No Connection.\")\n",
    "                    ib.disconnect()\n",
    "                    break\n",
    "        else:\n",
    "            pass"
   ]
  },
  {
   "cell_type": "code",
   "execution_count": null,
   "id": "11585f30",
   "metadata": {},
   "outputs": [],
   "source": [
    "ib = IB()\n",
    "ib.connect()"
   ]
  },
  {
   "cell_type": "code",
   "execution_count": null,
   "id": "c0646526",
   "metadata": {},
   "outputs": [],
   "source": [
    "# strategy parameters\n",
    "freq = \"1 min\"\n",
    "window = 1\n",
    "units = 1000\n",
    "end_time = (dt.datetime.now(tz=timezone.utc) + dt.timedelta(seconds = 330)).time() # stop condition (5.5 mins from now)\n",
    "contract = Forex('EURUSD') \n",
    "ib.qualifyContracts(contract)\n",
    "cfd = CFD(\"EUR\", currency = \"USD\")\n",
    "ib.qualifyContracts(cfd)\n",
    "conID = cfd.conId"
   ]
  },
  {
   "cell_type": "code",
   "execution_count": null,
   "id": "893a5a44",
   "metadata": {},
   "outputs": [],
   "source": [
    "start_session()"
   ]
  },
  {
   "cell_type": "code",
   "execution_count": null,
   "id": "c1f62b22",
   "metadata": {},
   "outputs": [],
   "source": []
  },
  {
   "cell_type": "markdown",
   "id": "3087cdda",
   "metadata": {},
   "source": [
    "## IBKR: How to create Stop Loss and Take Profit Orders"
   ]
  },
  {
   "cell_type": "code",
   "execution_count": null,
   "id": "cfdb97bb",
   "metadata": {},
   "outputs": [],
   "source": [
    "from ib_insync import * \n",
    "import pandas as pd\n",
    "import numpy as np\n",
    "import datetime as dt\n",
    "from IPython.display import display, clear_output\n",
    "util.startLoop()"
   ]
  },
  {
   "cell_type": "code",
   "execution_count": null,
   "id": "3af93717",
   "metadata": {},
   "outputs": [],
   "source": [
    "ib = IB()\n",
    "ib.connect()"
   ]
  },
  {
   "cell_type": "code",
   "execution_count": null,
   "id": "5db2df55",
   "metadata": {},
   "outputs": [],
   "source": [
    "cfd = CFD(\"EUR\", currency = \"USD\")\n",
    "ib.qualifyContracts(cfd)\n",
    "conID = cfd.conId"
   ]
  },
  {
   "cell_type": "code",
   "execution_count": null,
   "id": "96456d46",
   "metadata": {},
   "outputs": [],
   "source": [
    "def BracketOrder(parentOrderId, childOrderId1, childOrderId2,\n",
    "                 action, quantity, stopLossPrice = None, takeProfitPrice = None):\n",
    "    global stopLoss, takeProfit\n",
    "    \n",
    "    # Market Order (parent) - GO LONG or GO SHORT\n",
    "    parent = Order()\n",
    "    parent.orderId = parentOrderId\n",
    "    parent.action = action\n",
    "    parent.orderType = \"MKT\"\n",
    "    parent.totalQuantity = quantity\n",
    "    if not stopLossPrice and not takeProfitPrice: # if no sl/tp specified\n",
    "        parent.transmit = True # transmit mkt order only\n",
    "    else:\n",
    "        parent.transmit = False\n",
    "        \n",
    "    bracketOrder = [parent]\n",
    "\n",
    "    if stopLossPrice: # if sl specified\n",
    "        # attached Stop Loss Order (child) \n",
    "        stopLoss = Order()\n",
    "        stopLoss.orderId = childOrderId1\n",
    "        stopLoss.action = \"SELL\" if action == \"BUY\" else \"BUY\"\n",
    "        stopLoss.orderType = \"STP\"\n",
    "        stopLoss.auxPrice = stopLossPrice\n",
    "        stopLoss.totalQuantity = quantity\n",
    "        stopLoss.parentId = parentOrderId\n",
    "        if not takeProfitPrice: # if no tp specified\n",
    "            stopLoss.transmit = True # transmit mkt order and sl order\n",
    "        else:\n",
    "            stopLoss.transmit = False\n",
    "        bracketOrder.append(stopLoss)\n",
    "    \n",
    "    if takeProfitPrice:\n",
    "        # attached Take Profit Order (child)\n",
    "        takeProfit = Order()\n",
    "        takeProfit.orderId = childOrderId2\n",
    "        takeProfit.action = \"SELL\" if action == \"BUY\" else \"BUY\"\n",
    "        takeProfit.orderType = \"LMT\"\n",
    "        takeProfit.totalQuantity = quantity\n",
    "        takeProfit.lmtPrice = takeProfitPrice\n",
    "        takeProfit.parentId = parentOrderId\n",
    "        takeProfit.transmit = True # transmit all three orders\n",
    "        bracketOrder.append(takeProfit)\n",
    "        \n",
    "    return bracketOrder "
   ]
  },
  {
   "cell_type": "code",
   "execution_count": null,
   "id": "f4a2d28d",
   "metadata": {},
   "outputs": [],
   "source": [
    "# 1. BracketOrder with Mkt Order and SL (optional) and TP (optional)\n",
    "bracket = BracketOrder(parentOrderId = ib.client.getReqId(), \n",
    "                       childOrderId1 = ib.client.getReqId(), \n",
    "                       childOrderId2 = ib.client.getReqId(),\n",
    "                       action = \"BUY\",\n",
    "                       quantity = 1000,\n",
    "                       stopLossPrice = None, \n",
    "                       takeProfitPrice = None,\n",
    "                      )\n",
    "bracket"
   ]
  },
  {
   "cell_type": "code",
   "execution_count": null,
   "id": "2166ec36",
   "metadata": {},
   "outputs": [],
   "source": [
    "# place all orders in BracketOrder\n",
    "for o in bracket:\n",
    "    ib.placeOrder(cfd, o)"
   ]
  },
  {
   "cell_type": "code",
   "execution_count": null,
   "id": "8400868b",
   "metadata": {},
   "outputs": [],
   "source": [
    "# close all positions/orders\n",
    "try:\n",
    "    ib.cancelOrder(stopLoss)\n",
    "except:\n",
    "    pass\n",
    "try:\n",
    "    ib.cancelOrder(takeProfit)\n",
    "except:\n",
    "    pass\n",
    "order = MarketOrder(\"Sell\", 1000)\n",
    "ib.placeOrder(cfd, order)"
   ]
  },
  {
   "cell_type": "code",
   "execution_count": null,
   "id": "324b6584",
   "metadata": {},
   "outputs": [],
   "source": []
  },
  {
   "cell_type": "markdown",
   "id": "782242b1",
   "metadata": {},
   "source": [
    "## IBKR: Stop Loss and Take Profit - Pitfalls and other Considerations"
   ]
  },
  {
   "cell_type": "markdown",
   "id": "00876b94",
   "metadata": {},
   "source": [
    "__Be careful__: \n",
    "- SL Price must be below (above) Market Entry Price in Long (Short) position\n",
    "- TP Price must be above (below) Market Entry Price in Long (Short) position\n",
    "- Stop Loss and Take Profit Prices must be limited to [5] decimals [EUR/USD]"
   ]
  },
  {
   "cell_type": "markdown",
   "id": "f7144287",
   "metadata": {},
   "source": [
    "__Setting Stop Loss Price and Take Profit Price__"
   ]
  },
  {
   "cell_type": "markdown",
   "id": "81ae8801",
   "metadata": {},
   "source": [
    "Typically: Define Maximum Loss & Take Profit in % (e.g. 1% loss -> 10% if leverage == 10)"
   ]
  },
  {
   "cell_type": "code",
   "execution_count": null,
   "id": "a677e7df",
   "metadata": {},
   "outputs": [],
   "source": [
    "sl_perc = 0.01 # SL Event if Price moves into the wrong direction by 1%\n",
    "tp_perc = 0.01 # TP Event if Price moves into the right direction by 1%"
   ]
  },
  {
   "cell_type": "code",
   "execution_count": null,
   "id": "328af374",
   "metadata": {},
   "outputs": [],
   "source": [
    "current_price = 1.10"
   ]
  },
  {
   "cell_type": "code",
   "execution_count": null,
   "id": "98856b86",
   "metadata": {},
   "outputs": [],
   "source": [
    "target = -1 # (Target Position: -1/0/1)"
   ]
  },
  {
   "cell_type": "code",
   "execution_count": null,
   "id": "7a29eb2f",
   "metadata": {},
   "outputs": [],
   "source": [
    "if sl_perc:\n",
    "        if target > 0: # LONG\n",
    "            sl_price = round(current_price * (1 - sl_perc), 4) \n",
    "        elif target < 0: # SHORT\n",
    "            sl_price = round(current_price * (1 + sl_perc), 4)      \n",
    "        else: \n",
    "            sl_price = None\n",
    "\n",
    "if tp_perc:\n",
    "        if target > 0: # LONG\n",
    "            tp_price = round(current_price * (1 + tp_perc), 4) \n",
    "        elif target < 0: # SHORT\n",
    "            tp_price = round(current_price * (1 - tp_perc), 4)      \n",
    "        else: \n",
    "            tp_price = None"
   ]
  },
  {
   "cell_type": "code",
   "execution_count": null,
   "id": "a0b3da7b",
   "metadata": {},
   "outputs": [],
   "source": [
    "sl_price"
   ]
  },
  {
   "cell_type": "code",
   "execution_count": null,
   "id": "e5fb3d9d",
   "metadata": {},
   "outputs": [],
   "source": [
    "tp_price"
   ]
  },
  {
   "cell_type": "markdown",
   "id": "83ce2add",
   "metadata": {},
   "source": [
    "__Identification of SL/TP Events__"
   ]
  },
  {
   "cell_type": "markdown",
   "id": "d9e6b5ea",
   "metadata": {},
   "source": [
    "Problem in Trading Bot: it doesn´t record TP/SL trades"
   ]
  },
  {
   "cell_type": "markdown",
   "id": "de011e53",
   "metadata": {},
   "source": [
    "Solution: Check if expected trading position == actual trading position (if not: very likely SL/TP Event)"
   ]
  },
  {
   "cell_type": "code",
   "execution_count": null,
   "id": "873dc3b1",
   "metadata": {},
   "outputs": [],
   "source": []
  },
  {
   "cell_type": "markdown",
   "id": "29f4d23c",
   "metadata": {},
   "source": [
    "## IBKR: Adding Stop Loss and Take Profit to the Class"
   ]
  },
  {
   "cell_type": "code",
   "execution_count": null,
   "id": "92c1f896",
   "metadata": {},
   "outputs": [],
   "source": [
    "from ib_insync import * \n",
    "import pandas as pd\n",
    "import numpy as np\n",
    "import datetime as dt\n",
    "from IPython.display import display, clear_output\n",
    "util.startLoop()"
   ]
  },
  {
   "cell_type": "code",
   "execution_count": null,
   "id": "6676dff3",
   "metadata": {},
   "outputs": [],
   "source": [
    "def start_session():\n",
    "    global last_update, session_start, exp_pos, current_pos\n",
    "    \n",
    "    exp_pos = 0 # Added\n",
    "    current_pos = 0 # Added\n",
    "    last_update = dt.datetime.now(tz=timezone.utc)\n",
    "    session_start = pd.to_datetime(last_update).tz_localize(\"utc\")\n",
    "    \n",
    "    initialize_stream()  \n",
    "    stop_session()\n",
    "\n",
    "def initialize_stream(): \n",
    "    global bars, last_bar\n",
    "    \n",
    "    bars = ib.reqHistoricalData(\n",
    "            contract,\n",
    "            endDateTime='',\n",
    "            durationStr='1 D',\n",
    "            barSizeSetting=freq,\n",
    "            whatToShow='MIDPOINT',\n",
    "            useRTH=True,\n",
    "            formatDate=2,\n",
    "            keepUpToDate=True)\n",
    "    last_bar = bars[-1].date\n",
    "    bars.updateEvent += onBarUpdate \n",
    "    \n",
    "def onBarUpdate(bars, hasNewBar):  \n",
    "    global df, last_bar, last_update\n",
    "    \n",
    "    last_update = dt.datetime.now(tz=timezone.utc)\n",
    "    \n",
    "    if bars[-1].date > last_bar: \n",
    "        last_bar = bars[-1].date\n",
    "    \n",
    "        # Data Processing\n",
    "        df = pd.DataFrame(bars)[[\"date\", \"open\", \"high\", \"low\", \"close\"]].iloc[:-1] \n",
    "        df.set_index(\"date\", inplace = True)\n",
    "        \n",
    "        ####################### Trading Strategy ###########################\n",
    "        df = df[[\"close\"]].copy()\n",
    "        df[\"returns\"] = np.log(df[\"close\"] / df[\"close\"].shift())\n",
    "        df[\"position\"] = -np.sign(df.returns.rolling(window).mean())\n",
    "        ####################################################################\n",
    "        \n",
    "        # Trading\n",
    "        target = df[\"position\"][-1] * units\n",
    "        execute_trade(target = target)\n",
    "        \n",
    "        # Display\n",
    "        clear_output(wait=True)\n",
    "        display(df)\n",
    "    else:\n",
    "        try:\n",
    "            trade_reporting()\n",
    "        except:\n",
    "            pass\n",
    "\n",
    "def execute_trade(target): # Modified!!!\n",
    "    global exp_pos\n",
    "         \n",
    "    # 1. identify required trades\n",
    "    trades = target - exp_pos\n",
    "    \n",
    "    # 2. determine SL Price and TP Price\n",
    "    current_price = df.close.iloc[-1]\n",
    "\n",
    "    if sl_perc:\n",
    "        if target > 0: # LONG\n",
    "            sl_price = round(current_price * (1 - sl_perc), 4) \n",
    "        elif target < 0: # SHORT\n",
    "            sl_price = round(current_price * (1 + sl_perc), 4)      \n",
    "    else: \n",
    "        sl_price = None\n",
    "\n",
    "    if tp_perc:\n",
    "        if target > 0: # LONG\n",
    "            tp_price = round(current_price * (1 + tp_perc), 4) \n",
    "        elif target < 0: # SHORT\n",
    "            tp_price = round(current_price * (1 - tp_perc), 4)      \n",
    "    else: \n",
    "        tp_price = None\n",
    "        \n",
    "    # 3. trade execution\n",
    "    if target > 0: # GOING LONG\n",
    "        if current_pos == 0: # from NEUTRAL\n",
    "            go_long_short(side = \"BUY\", target = target, sl_price = sl_price, tp_price = tp_price) \n",
    "        elif current_pos < 0: # from SHORT:\n",
    "            cancel_orders() # cancel sl/tp orders\n",
    "            go_neutral(side = \"BUY\", trades = current_pos)\n",
    "            go_long_short(side = \"BUY\", target = target, sl_price = sl_price, tp_price = tp_price)\n",
    "    elif target < 0: # GOING SHORT\n",
    "        if current_pos == 0: # from NEUTRAL  \n",
    "            go_long_short(side = \"SELL\", target = abs(target), sl_price = sl_price, tp_price = tp_price) \n",
    "        elif current_pos > 0: # from LONG\n",
    "            cancel_orders() # cancel sl/tp orders\n",
    "            go_neutral(side = \"SELL\", trades = current_pos)\n",
    "            go_long_short(side = \"SELL\", target = abs(target), sl_price = sl_price, tp_price = tp_price)\n",
    "    else: # GOING NEUTRAL\n",
    "        if current_pos < 0: # from SHORT\n",
    "            cancel_orders() # cancel sl/tp orders\n",
    "            go_neutral(side = \"BUY\", trades = current_pos)\n",
    "        elif current_pos > 0: # from LONG:\n",
    "            cancel_orders() # cancel sl/tp orders\n",
    "            go_neutral(side = \"SELL\", trades = current_pos)\n",
    "    exp_pos = target\n",
    "\n",
    "def go_long_short(side, target, sl_price, tp_price): # NEW Go Long/Short starting from Neutral posistion\n",
    "    bracket = BracketOrder(parentOrderId = ib.client.getReqId(), \n",
    "                           childOrderId1 = ib.client.getReqId(), \n",
    "                            childOrderId2 = ib.client.getReqId(),\n",
    "                            action = side,\n",
    "                            quantity = target,\n",
    "                            stopLossPrice = sl_price, \n",
    "                            takeProfitPrice = tp_price,\n",
    "                          )\n",
    "    for o in bracket:\n",
    "        order = ib.placeOrder(cfd, o)\n",
    "    \n",
    "def go_neutral(side, trades): # Close Long/Short position\n",
    "    order = MarketOrder(side, abs(trades))\n",
    "    trade = ib.placeOrder(cfd, order)    \n",
    "    \n",
    "def cancel_orders(): # cancel SL/TP orders\n",
    "    try:\n",
    "        sl_cancel = ib.cancelOrder(stopLoss)\n",
    "    except:\n",
    "        pass\n",
    "    try:\n",
    "        tp_cancel = ib.cancelOrder(takeProfit)\n",
    "    except:\n",
    "        pass \n",
    "\n",
    "def BracketOrder(parentOrderId, childOrderId1, childOrderId2,\n",
    "                 action, quantity, stopLossPrice, takeProfitPrice): # NEW\n",
    "    global stopLoss, takeProfit\n",
    "    \n",
    "    # Market Order (parent) - GO LONG or GO SHORT\n",
    "    parent = Order()\n",
    "    parent.orderId = parentOrderId\n",
    "    parent.action = action\n",
    "    parent.orderType = \"MKT\"\n",
    "    parent.totalQuantity = quantity\n",
    "    if not stopLossPrice and not takeProfitPrice: \n",
    "        parent.transmit = True\n",
    "    else:\n",
    "        parent.transmit = False\n",
    "        \n",
    "    bracketOrder = [parent]\n",
    "\n",
    "    if stopLossPrice:\n",
    "        # attached Stop Loss Order (child) \n",
    "        stopLoss = Order()\n",
    "        stopLoss.orderId = childOrderId1\n",
    "        stopLoss.action = \"SELL\" if action == \"BUY\" else \"BUY\"\n",
    "        stopLoss.orderType = \"STP\"\n",
    "        stopLoss.auxPrice = stopLossPrice\n",
    "        stopLoss.totalQuantity = quantity\n",
    "        stopLoss.parentId = parentOrderId\n",
    "        if not takeProfitPrice: \n",
    "            stopLoss.transmit = True\n",
    "        else:\n",
    "            stopLoss.transmit = False\n",
    "        bracketOrder.append(stopLoss)\n",
    "    \n",
    "    if takeProfitPrice:\n",
    "        # attached Take Profit Order (child)\n",
    "        takeProfit = Order()\n",
    "        takeProfit.orderId = childOrderId2\n",
    "        takeProfit.action = \"SELL\" if action == \"BUY\" else \"BUY\"\n",
    "        takeProfit.orderType = \"LMT\"\n",
    "        takeProfit.totalQuantity = quantity\n",
    "        takeProfit.lmtPrice = takeProfitPrice\n",
    "        takeProfit.parentId = parentOrderId\n",
    "        takeProfit.transmit = True\n",
    "        bracketOrder.append(takeProfit)\n",
    "        \n",
    "    return bracketOrder \n",
    "    \n",
    "def trade_reporting():\n",
    "    global report\n",
    "    \n",
    "    fill_df = util.df([fs.execution for fs in ib.fills()])[[\"execId\", \"time\", \"side\", \"shares\", \"avgPrice\"]].set_index(\"execId\")\n",
    "    profit_df = util.df([fs.commissionReport for fs in ib.fills()])[[\"execId\", \"realizedPNL\"]].set_index(\"execId\")\n",
    "    report = pd.concat([fill_df, profit_df], axis = 1).set_index(\"time\").loc[session_start:]\n",
    "    report = report.groupby([\"time\", \"side\"]).agg({\"shares\":\"sum\", \"avgPrice\":\"mean\", \"realizedPNL\":\"sum\"}).reset_index().set_index(\"time\")\n",
    "    report[\"cumPNL\"] = report.realizedPNL.cumsum()\n",
    "        \n",
    "    clear_output(wait=True)\n",
    "    display(df, report)\n",
    "\n",
    "def stop_session(): # Third case added\n",
    "    global current_pos\n",
    "    \n",
    "    while True:\n",
    "        ib.sleep(5) \n",
    "        try:\n",
    "            current_pos = [pos.position for pos in ib.positions() if pos.contract.conId == conID][0]\n",
    "        except:\n",
    "            current_pos = 0\n",
    "        if dt.datetime.now(tz=timezone.utc).time() >= end_time:\n",
    "            execute_trade(target = 0) \n",
    "            ib.cancelHistoricalData(bars) \n",
    "            ib.sleep(10)\n",
    "            try:\n",
    "                trade_reporting() \n",
    "            except:\n",
    "                pass\n",
    "            print(\"Session Stopped (planned).\")\n",
    "            ib.disconnect()\n",
    "            break\n",
    "        elif exp_pos != current_pos: # if SL/TP Event\n",
    "            ib.sleep(5)\n",
    "            try:\n",
    "                current_pos = [pos.position for pos in ib.positions() if pos.contract.conId == conID][0]\n",
    "            except:\n",
    "                current_pos = 0\n",
    "            if exp_pos != current_pos:\n",
    "                execute_trade(target = 0) \n",
    "                ib.cancelHistoricalData(bars) \n",
    "                ib.sleep(10)\n",
    "                try:\n",
    "                    trade_reporting() \n",
    "                except:\n",
    "                    pass\n",
    "                print(\"Session Stopped (SL/TP Event).\")\n",
    "                ib.disconnect()\n",
    "                break\n",
    "            else:\n",
    "                pass\n",
    "        elif dt.datetime.now(tz=timezone.utc) - last_update > dt.timedelta(seconds=120):\n",
    "                # if there was no streaming update in the last 120 seconds\n",
    "                ib.cancelHistoricalData(bars)\n",
    "                ib.sleep(5)\n",
    "                try: # try to reestablish stream\n",
    "                    initialize_stream()\n",
    "                except: # stop session\n",
    "                    ib.sleep(5)\n",
    "                    try:\n",
    "                        execute_trade(target = 0) # close open position \n",
    "                    except:\n",
    "                        pass\n",
    "                    ib.sleep(10)\n",
    "                    try:\n",
    "                        trade_reporting() # final reporting\n",
    "                    except:\n",
    "                        pass\n",
    "                    print(\"Session Stopped - No Connection.\")\n",
    "                    ib.disconnect()\n",
    "                    break\n",
    "        else:\n",
    "            pass"
   ]
  },
  {
   "cell_type": "code",
   "execution_count": null,
   "id": "b1052748",
   "metadata": {},
   "outputs": [],
   "source": [
    "ib = IB()\n",
    "ib.connect()"
   ]
  },
  {
   "cell_type": "code",
   "execution_count": null,
   "id": "2b2f37d5",
   "metadata": {},
   "outputs": [],
   "source": [
    "# strategy parameters\n",
    "freq = \"1 min\"\n",
    "window = 1\n",
    "units = 1000\n",
    "end_time = (dt.datetime.now(tz=timezone.utc) + dt.timedelta(seconds = 330)).time() # stop condition (5.5 mins from now)\n",
    "sl_perc = 0.1\n",
    "tp_perc = 0.1\n",
    "contract = Forex('EURUSD') \n",
    "ib.qualifyContracts(contract)\n",
    "cfd = CFD(\"EUR\", currency = \"USD\")\n",
    "ib.qualifyContracts(cfd)\n",
    "conID = cfd.conId"
   ]
  },
  {
   "cell_type": "code",
   "execution_count": null,
   "id": "e91a5d30",
   "metadata": {},
   "outputs": [],
   "source": [
    "start_session()"
   ]
  },
  {
   "cell_type": "code",
   "execution_count": null,
   "id": "32371467",
   "metadata": {},
   "outputs": [],
   "source": []
  }
 ],
 "metadata": {
  "kernelspec": {
   "display_name": "Python 3 (ipykernel)",
   "language": "python",
   "name": "python3"
  },
  "language_info": {
   "codemirror_mode": {
    "name": "ipython",
    "version": 3
   },
   "file_extension": ".py",
   "mimetype": "text/x-python",
   "name": "python",
   "nbconvert_exporter": "python",
   "pygments_lexer": "ipython3",
   "version": "3.10.9"
  }
 },
 "nbformat": 4,
 "nbformat_minor": 5
}
