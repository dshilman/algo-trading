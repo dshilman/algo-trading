{
 "cells": [
  {
   "cell_type": "markdown",
   "id": "646af6f8",
   "metadata": {},
   "source": [
    "\n",
    "# New OANDA API"
   ]
  },
  {
   "cell_type": "code",
   "execution_count": 1,
   "id": "f8eb7eeb",
   "metadata": {},
   "outputs": [],
   "source": [
    "import pandas as pd\n",
    "import numpy as np\n",
    "from datetime import datetime, timedelta, timezone\n",
    "import time\n",
    "import pytz\n",
    "from datetime import datetime\n",
    "import matplotlib.pyplot as plt\n",
    "\n",
    "import sys\n",
    "sys.path.append(\"../\")\n",
    "from trading.oanda_api import OandaApi\n",
    "from trading import tech_indicatrors"
   ]
  },
  {
   "cell_type": "code",
   "execution_count": 2,
   "id": "150c60bd",
   "metadata": {},
   "outputs": [],
   "source": [
    "instrument = \"EUR_HKD\""
   ]
  },
  {
   "cell_type": "code",
   "execution_count": null,
   "id": "8f7673da",
   "metadata": {},
   "outputs": [],
   "source": [
    "api = OandaApi(\"../../config/oanda.cfg\")"
   ]
  },
  {
   "cell_type": "code",
   "execution_count": null,
   "id": "0148ad6b",
   "metadata": {},
   "outputs": [],
   "source": [
    "raw_df = api.get_candles_df(pair_name = instrument, days = 10)"
   ]
  },
  {
   "cell_type": "code",
   "execution_count": null,
   "id": "0c7e2168",
   "metadata": {},
   "outputs": [],
   "source": [
    "raw_df"
   ]
  },
  {
   "cell_type": "code",
   "execution_count": null,
   "id": "553b9792",
   "metadata": {},
   "outputs": [],
   "source": [
    "units =  api.get_positions(instrument)\n",
    "units\n"
   ]
  },
  {
   "cell_type": "code",
   "execution_count": null,
   "id": "c0b227eb",
   "metadata": {},
   "outputs": [],
   "source": [
    "api.stream_prices(instrument)"
   ]
  },
  {
   "cell_type": "code",
   "execution_count": null,
   "id": "e2f164f4",
   "metadata": {},
   "outputs": [],
   "source": []
  },
  {
   "cell_type": "code",
   "execution_count": null,
   "id": "ef2cf208",
   "metadata": {},
   "outputs": [],
   "source": []
  },
  {
   "cell_type": "code",
   "execution_count": null,
   "id": "32371467",
   "metadata": {},
   "outputs": [],
   "source": []
  }
 ],
 "metadata": {
  "kernelspec": {
   "display_name": "Python 3 (ipykernel)",
   "language": "python",
   "name": "python3"
  },
  "language_info": {
   "codemirror_mode": {
    "name": "ipython",
    "version": 3
   },
   "file_extension": ".py",
   "mimetype": "text/x-python",
   "name": "python",
   "nbconvert_exporter": "python",
   "pygments_lexer": "ipython3",
   "version": "3.10.9"
  }
 },
 "nbformat": 4,
 "nbformat_minor": 5
}
