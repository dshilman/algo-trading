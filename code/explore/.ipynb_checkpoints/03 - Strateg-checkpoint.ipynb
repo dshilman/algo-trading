{
 "cells": [
  {
   "cell_type": "markdown",
   "id": "646af6f8",
   "metadata": {},
   "source": [
    "\n",
    "# Adding Limit Orders to the Trading Bot (Take Profit & Stop Loss) "
   ]
  },
  {
   "cell_type": "code",
   "execution_count": 1,
   "id": "f8eb7eeb",
   "metadata": {},
   "outputs": [],
   "source": [
    "import sys\n",
    "sys.path.append(\"../\")\n",
    "from trading.api import OANDA_API\n",
    "import pandas as pd\n",
    "import numpy as np\n",
    "import tpqoa\n",
    "from datetime import datetime, timedelta, timezone\n",
    "import time\n",
    "import pytz\n",
    "from datetime import datetime\n",
    "\n",
    "import matplotlib.pyplot as plt\n",
    "from trading import MyTT"
   ]
  },
  {
   "cell_type": "code",
   "execution_count": 2,
   "id": "150c60bd",
   "metadata": {},
   "outputs": [],
   "source": [
    "instrument = \"EUR_USD\"\n",
    "bar_length = timedelta(minutes = 1)\n",
    "SMA = 200\n",
    "dev = 2"
   ]
  },
  {
   "cell_type": "code",
   "execution_count": 3,
   "id": "bc30806d",
   "metadata": {},
   "outputs": [],
   "source": [
    "# raw_data = None\n",
    "# now = datetime.utcnow()\n",
    "       \n",
    "# now = now - timedelta(microseconds = now.microsecond)\n",
    "# past = now - timedelta(days = 2)\n",
    "\n",
    "\n",
    "# print (f\"Getting candles for {instrument}, from {past} to {now}\")\n",
    "\n",
    "# raw_df = tpqoa.tpqoa(\"../../config/oanda_demo.cfg\").get_history(instrument = instrument, start = past, end = now,\n",
    "#                        granularity = \"S30\", price = \"M\", localize = True).c.dropna().to_frame()\n",
    "\n",
    "# raw_df.rename(columns = {\"c\":instrument}, inplace = True)\n",
    "\n",
    "\n",
    "# # last_bar = raw_data.index[-1].to_pydatetime().replace(tzinfo=None)\n",
    "        "
   ]
  },
  {
   "cell_type": "code",
   "execution_count": 4,
   "id": "8f7673da",
   "metadata": {},
   "outputs": [],
   "source": [
    "# raw_df = pd.read_pickle(f\"../../data/backtest_{instrument}.pcl\")"
   ]
  },
  {
   "cell_type": "code",
   "execution_count": 30,
   "id": "0148ad6b",
   "metadata": {},
   "outputs": [],
   "source": [
    "api = OANDA_API(\"../../config/oanda.cfg\")\n",
    "raw_df = api.get_history_with_all_prices(instrument, 30)"
   ]
  },
  {
   "cell_type": "code",
   "execution_count": 31,
   "id": "0c7e2168",
   "metadata": {},
   "outputs": [
    {
     "data": {
      "text/html": [
       "<div>\n",
       "<style scoped>\n",
       "    .dataframe tbody tr th:only-of-type {\n",
       "        vertical-align: middle;\n",
       "    }\n",
       "\n",
       "    .dataframe tbody tr th {\n",
       "        vertical-align: top;\n",
       "    }\n",
       "\n",
       "    .dataframe thead th {\n",
       "        text-align: right;\n",
       "    }\n",
       "</style>\n",
       "<table border=\"1\" class=\"dataframe\">\n",
       "  <thead>\n",
       "    <tr style=\"text-align: right;\">\n",
       "      <th></th>\n",
       "      <th>ask</th>\n",
       "      <th>bid</th>\n",
       "      <th>EUR_USD</th>\n",
       "    </tr>\n",
       "    <tr>\n",
       "      <th>time</th>\n",
       "      <th></th>\n",
       "      <th></th>\n",
       "      <th></th>\n",
       "    </tr>\n",
       "  </thead>\n",
       "  <tbody>\n",
       "    <tr>\n",
       "      <th>2024-02-13 13:55:30</th>\n",
       "      <td>1.07113</td>\n",
       "      <td>1.07098</td>\n",
       "      <td>1.071055</td>\n",
       "    </tr>\n",
       "    <tr>\n",
       "      <th>2024-02-13 13:56:00</th>\n",
       "      <td>1.07106</td>\n",
       "      <td>1.07091</td>\n",
       "      <td>1.070985</td>\n",
       "    </tr>\n",
       "    <tr>\n",
       "      <th>2024-02-13 13:56:30</th>\n",
       "      <td>1.07103</td>\n",
       "      <td>1.07089</td>\n",
       "      <td>1.070960</td>\n",
       "    </tr>\n",
       "    <tr>\n",
       "      <th>2024-02-13 13:57:00</th>\n",
       "      <td>1.07075</td>\n",
       "      <td>1.07060</td>\n",
       "      <td>1.070675</td>\n",
       "    </tr>\n",
       "    <tr>\n",
       "      <th>2024-02-13 13:57:30</th>\n",
       "      <td>1.07064</td>\n",
       "      <td>1.07048</td>\n",
       "      <td>1.070560</td>\n",
       "    </tr>\n",
       "    <tr>\n",
       "      <th>...</th>\n",
       "      <td>...</td>\n",
       "      <td>...</td>\n",
       "      <td>...</td>\n",
       "    </tr>\n",
       "    <tr>\n",
       "      <th>2024-02-23 13:53:30</th>\n",
       "      <td>1.08317</td>\n",
       "      <td>1.08302</td>\n",
       "      <td>1.083095</td>\n",
       "    </tr>\n",
       "    <tr>\n",
       "      <th>2024-02-23 13:54:00</th>\n",
       "      <td>1.08316</td>\n",
       "      <td>1.08302</td>\n",
       "      <td>1.083090</td>\n",
       "    </tr>\n",
       "    <tr>\n",
       "      <th>2024-02-23 13:54:30</th>\n",
       "      <td>1.08309</td>\n",
       "      <td>1.08294</td>\n",
       "      <td>1.083015</td>\n",
       "    </tr>\n",
       "    <tr>\n",
       "      <th>2024-02-23 13:55:00</th>\n",
       "      <td>1.08319</td>\n",
       "      <td>1.08305</td>\n",
       "      <td>1.083120</td>\n",
       "    </tr>\n",
       "    <tr>\n",
       "      <th>2024-02-23 13:55:30</th>\n",
       "      <td>1.08317</td>\n",
       "      <td>1.08301</td>\n",
       "      <td>1.083090</td>\n",
       "    </tr>\n",
       "  </tbody>\n",
       "</table>\n",
       "<p>22510 rows × 3 columns</p>\n",
       "</div>"
      ],
      "text/plain": [
       "                         ask      bid   EUR_USD\n",
       "time                                           \n",
       "2024-02-13 13:55:30  1.07113  1.07098  1.071055\n",
       "2024-02-13 13:56:00  1.07106  1.07091  1.070985\n",
       "2024-02-13 13:56:30  1.07103  1.07089  1.070960\n",
       "2024-02-13 13:57:00  1.07075  1.07060  1.070675\n",
       "2024-02-13 13:57:30  1.07064  1.07048  1.070560\n",
       "...                      ...      ...       ...\n",
       "2024-02-23 13:53:30  1.08317  1.08302  1.083095\n",
       "2024-02-23 13:54:00  1.08316  1.08302  1.083090\n",
       "2024-02-23 13:54:30  1.08309  1.08294  1.083015\n",
       "2024-02-23 13:55:00  1.08319  1.08305  1.083120\n",
       "2024-02-23 13:55:30  1.08317  1.08301  1.083090\n",
       "\n",
       "[22510 rows x 3 columns]"
      ]
     },
     "execution_count": 31,
     "metadata": {},
     "output_type": "execute_result"
    }
   ],
   "source": [
    "raw_df"
   ]
  },
  {
   "cell_type": "code",
   "execution_count": 32,
   "id": "553b9792",
   "metadata": {},
   "outputs": [
    {
     "data": {
      "text/html": [
       "<div>\n",
       "<style scoped>\n",
       "    .dataframe tbody tr th:only-of-type {\n",
       "        vertical-align: middle;\n",
       "    }\n",
       "\n",
       "    .dataframe tbody tr th {\n",
       "        vertical-align: top;\n",
       "    }\n",
       "\n",
       "    .dataframe thead th {\n",
       "        text-align: right;\n",
       "    }\n",
       "</style>\n",
       "<table border=\"1\" class=\"dataframe\">\n",
       "  <thead>\n",
       "    <tr style=\"text-align: right;\">\n",
       "      <th></th>\n",
       "      <th>ask</th>\n",
       "      <th>bid</th>\n",
       "      <th>EUR_USD</th>\n",
       "      <th>SMA</th>\n",
       "      <th>std</th>\n",
       "      <th>std_sma</th>\n",
       "      <th>Lower</th>\n",
       "      <th>Upper</th>\n",
       "    </tr>\n",
       "    <tr>\n",
       "      <th>time</th>\n",
       "      <th></th>\n",
       "      <th></th>\n",
       "      <th></th>\n",
       "      <th></th>\n",
       "      <th></th>\n",
       "      <th></th>\n",
       "      <th></th>\n",
       "      <th></th>\n",
       "    </tr>\n",
       "  </thead>\n",
       "  <tbody>\n",
       "    <tr>\n",
       "      <th>2024-02-13 13:55:30</th>\n",
       "      <td>1.07113</td>\n",
       "      <td>1.07098</td>\n",
       "      <td>1.071055</td>\n",
       "      <td>NaN</td>\n",
       "      <td>NaN</td>\n",
       "      <td>NaN</td>\n",
       "      <td>NaN</td>\n",
       "      <td>NaN</td>\n",
       "    </tr>\n",
       "    <tr>\n",
       "      <th>2024-02-13 13:56:00</th>\n",
       "      <td>1.07106</td>\n",
       "      <td>1.07091</td>\n",
       "      <td>1.070985</td>\n",
       "      <td>NaN</td>\n",
       "      <td>NaN</td>\n",
       "      <td>NaN</td>\n",
       "      <td>NaN</td>\n",
       "      <td>NaN</td>\n",
       "    </tr>\n",
       "    <tr>\n",
       "      <th>2024-02-13 13:56:30</th>\n",
       "      <td>1.07103</td>\n",
       "      <td>1.07089</td>\n",
       "      <td>1.070960</td>\n",
       "      <td>NaN</td>\n",
       "      <td>NaN</td>\n",
       "      <td>NaN</td>\n",
       "      <td>NaN</td>\n",
       "      <td>NaN</td>\n",
       "    </tr>\n",
       "    <tr>\n",
       "      <th>2024-02-13 13:57:00</th>\n",
       "      <td>1.07075</td>\n",
       "      <td>1.07060</td>\n",
       "      <td>1.070675</td>\n",
       "      <td>NaN</td>\n",
       "      <td>NaN</td>\n",
       "      <td>NaN</td>\n",
       "      <td>NaN</td>\n",
       "      <td>NaN</td>\n",
       "    </tr>\n",
       "    <tr>\n",
       "      <th>2024-02-13 13:57:30</th>\n",
       "      <td>1.07064</td>\n",
       "      <td>1.07048</td>\n",
       "      <td>1.070560</td>\n",
       "      <td>NaN</td>\n",
       "      <td>NaN</td>\n",
       "      <td>NaN</td>\n",
       "      <td>NaN</td>\n",
       "      <td>NaN</td>\n",
       "    </tr>\n",
       "    <tr>\n",
       "      <th>...</th>\n",
       "      <td>...</td>\n",
       "      <td>...</td>\n",
       "      <td>...</td>\n",
       "      <td>...</td>\n",
       "      <td>...</td>\n",
       "      <td>...</td>\n",
       "      <td>...</td>\n",
       "      <td>...</td>\n",
       "    </tr>\n",
       "    <tr>\n",
       "      <th>2024-02-23 13:53:30</th>\n",
       "      <td>1.08317</td>\n",
       "      <td>1.08302</td>\n",
       "      <td>1.083095</td>\n",
       "      <td>1.083294</td>\n",
       "      <td>0.000191</td>\n",
       "      <td>0.000205</td>\n",
       "      <td>1.082580</td>\n",
       "      <td>1.084007</td>\n",
       "    </tr>\n",
       "    <tr>\n",
       "      <th>2024-02-23 13:54:00</th>\n",
       "      <td>1.08316</td>\n",
       "      <td>1.08302</td>\n",
       "      <td>1.083090</td>\n",
       "      <td>1.083296</td>\n",
       "      <td>0.000188</td>\n",
       "      <td>0.000205</td>\n",
       "      <td>1.082587</td>\n",
       "      <td>1.084005</td>\n",
       "    </tr>\n",
       "    <tr>\n",
       "      <th>2024-02-23 13:54:30</th>\n",
       "      <td>1.08309</td>\n",
       "      <td>1.08294</td>\n",
       "      <td>1.083015</td>\n",
       "      <td>1.083297</td>\n",
       "      <td>0.000187</td>\n",
       "      <td>0.000205</td>\n",
       "      <td>1.082593</td>\n",
       "      <td>1.084002</td>\n",
       "    </tr>\n",
       "    <tr>\n",
       "      <th>2024-02-23 13:55:00</th>\n",
       "      <td>1.08319</td>\n",
       "      <td>1.08305</td>\n",
       "      <td>1.083120</td>\n",
       "      <td>1.083300</td>\n",
       "      <td>0.000186</td>\n",
       "      <td>0.000205</td>\n",
       "      <td>1.082603</td>\n",
       "      <td>1.083997</td>\n",
       "    </tr>\n",
       "    <tr>\n",
       "      <th>2024-02-23 13:55:30</th>\n",
       "      <td>1.08317</td>\n",
       "      <td>1.08301</td>\n",
       "      <td>1.083090</td>\n",
       "      <td>1.083303</td>\n",
       "      <td>0.000180</td>\n",
       "      <td>0.000205</td>\n",
       "      <td>1.082612</td>\n",
       "      <td>1.083993</td>\n",
       "    </tr>\n",
       "  </tbody>\n",
       "</table>\n",
       "<p>22510 rows × 8 columns</p>\n",
       "</div>"
      ],
      "text/plain": [
       "                         ask      bid   EUR_USD       SMA       std   std_sma  \\\n",
       "time                                                                            \n",
       "2024-02-13 13:55:30  1.07113  1.07098  1.071055       NaN       NaN       NaN   \n",
       "2024-02-13 13:56:00  1.07106  1.07091  1.070985       NaN       NaN       NaN   \n",
       "2024-02-13 13:56:30  1.07103  1.07089  1.070960       NaN       NaN       NaN   \n",
       "2024-02-13 13:57:00  1.07075  1.07060  1.070675       NaN       NaN       NaN   \n",
       "2024-02-13 13:57:30  1.07064  1.07048  1.070560       NaN       NaN       NaN   \n",
       "...                      ...      ...       ...       ...       ...       ...   \n",
       "2024-02-23 13:53:30  1.08317  1.08302  1.083095  1.083294  0.000191  0.000205   \n",
       "2024-02-23 13:54:00  1.08316  1.08302  1.083090  1.083296  0.000188  0.000205   \n",
       "2024-02-23 13:54:30  1.08309  1.08294  1.083015  1.083297  0.000187  0.000205   \n",
       "2024-02-23 13:55:00  1.08319  1.08305  1.083120  1.083300  0.000186  0.000205   \n",
       "2024-02-23 13:55:30  1.08317  1.08301  1.083090  1.083303  0.000180  0.000205   \n",
       "\n",
       "                        Lower     Upper  \n",
       "time                                     \n",
       "2024-02-13 13:55:30       NaN       NaN  \n",
       "2024-02-13 13:56:00       NaN       NaN  \n",
       "2024-02-13 13:56:30       NaN       NaN  \n",
       "2024-02-13 13:57:00       NaN       NaN  \n",
       "2024-02-13 13:57:30       NaN       NaN  \n",
       "...                       ...       ...  \n",
       "2024-02-23 13:53:30  1.082580  1.084007  \n",
       "2024-02-23 13:54:00  1.082587  1.084005  \n",
       "2024-02-23 13:54:30  1.082593  1.084002  \n",
       "2024-02-23 13:55:00  1.082603  1.083997  \n",
       "2024-02-23 13:55:30  1.082612  1.083993  \n",
       "\n",
       "[22510 rows x 8 columns]"
      ]
     },
     "execution_count": 32,
     "metadata": {},
     "output_type": "execute_result"
    }
   ],
   "source": [
    "df = raw_df.copy()\n",
    "    \n",
    "df[\"SMA\"] = df[instrument].rolling(SMA).mean()\n",
    "std = df[instrument].rolling(SMA).std() * dev\n",
    "\n",
    "df[\"Lower\"] = df[\"SMA\"] - std\n",
    "df[\"Upper\"] = df[\"SMA\"] + std\n",
    "\n",
    "df\n"
   ]
  },
  {
   "cell_type": "code",
   "execution_count": 34,
   "id": "c0b227eb",
   "metadata": {},
   "outputs": [],
   "source": [
    "filtered_df = df.query(\"time >= '2024-02-02 12:40:00' and time < '2024-02-02 13:31:00'\")"
   ]
  },
  {
   "cell_type": "code",
   "execution_count": 36,
   "id": "2bc3b37a",
   "metadata": {},
   "outputs": [
    {
     "data": {
      "text/plain": [
       "-5e-06"
      ]
     },
     "execution_count": 36,
     "metadata": {},
     "output_type": "execute_result"
    }
   ],
   "source": [
    "# M = filtered_df[\"SMA\"].values\n",
    "# M = pd.Series(M)\n",
    "# poly = np.polyfit(M.index, M.values, deg=1)\n",
    "# poly\n",
    "slope = MyTT.SLOPE(filtered_df[instrument].values)\n",
    "slope = round(slope, 6)\n",
    "slope"
   ]
  },
  {
   "cell_type": "code",
   "execution_count": 37,
   "id": "46c44b48",
   "metadata": {},
   "outputs": [
    {
     "data": {
      "text/plain": [
       "'-0.000005'"
      ]
     },
     "execution_count": 37,
     "metadata": {},
     "output_type": "execute_result"
    }
   ],
   "source": [
    "'{0:f}'.format(slope)"
   ]
  },
  {
   "cell_type": "code",
   "execution_count": null,
   "id": "2f87fd46",
   "metadata": {},
   "outputs": [],
   "source": []
  },
  {
   "cell_type": "code",
   "execution_count": 38,
   "id": "33ccc19a",
   "metadata": {},
   "outputs": [
    {
     "data": {
      "text/plain": [
       "<Axes: xlabel='time'>"
      ]
     },
     "execution_count": 38,
     "metadata": {},
     "output_type": "execute_result"
    },
    {
     "data": {
      "image/png": "[encoded data removed]",
      "text/plain": [
       "<Figure size 1200x800 with 1 Axes>"
      ]
     },
     "metadata": {},
     "output_type": "display_data"
    }
   ],
   "source": [
    "filtered_df[instrument].plot(figsize = (12, 8))\n",
    "filtered_df[\"SMA\"].plot(figsize = (12, 8))"
   ]
  },
  {
   "cell_type": "code",
   "execution_count": null,
   "id": "e2f164f4",
   "metadata": {},
   "outputs": [],
   "source": []
  },
  {
   "cell_type": "code",
   "execution_count": null,
   "id": "ef2cf208",
   "metadata": {},
   "outputs": [],
   "source": []
  },
  {
   "cell_type": "code",
   "execution_count": null,
   "id": "32371467",
   "metadata": {},
   "outputs": [],
   "source": []
  }
 ],
 "metadata": {
  "kernelspec": {
   "display_name": "Python 3 (ipykernel)",
   "language": "python",
   "name": "python3"
  },
  "language_info": {
   "codemirror_mode": {
    "name": "ipython",
    "version": 3
   },
   "file_extension": ".py",
   "mimetype": "text/x-python",
   "name": "python",
   "nbconvert_exporter": "python",
   "pygments_lexer": "ipython3",
   "version": "3.10.9"
  }
 },
 "nbformat": 4,
 "nbformat_minor": 5
}
