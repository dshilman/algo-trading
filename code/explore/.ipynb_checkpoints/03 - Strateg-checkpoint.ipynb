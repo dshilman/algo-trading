{
 "cells": [
  {
   "cell_type": "markdown",
   "id": "646af6f8",
   "metadata": {},
   "source": [
    "\n",
    "# Adding Limit Orders to the Trading Bot (Take Profit & Stop Loss) "
   ]
  },
  {
   "cell_type": "code",
   "execution_count": 2,
   "id": "f8eb7eeb",
   "metadata": {},
   "outputs": [],
   "source": [
    "import sys\n",
    "sys.path.append(\"../\")\n",
    "from trading.api import OANDA_API\n",
    "import pandas as pd\n",
    "import numpy as np\n",
    "import tpqoa\n",
    "from datetime import datetime, timedelta, timezone\n",
    "import time\n",
    "import pytz\n",
    "from datetime import datetime\n",
    "\n",
    "import matplotlib.pyplot as plt\n"
   ]
  },
  {
   "cell_type": "code",
   "execution_count": 3,
   "id": "150c60bd",
   "metadata": {},
   "outputs": [],
   "source": [
    "instrument = \"EUR_HKD\"\n",
    "bar_length = timedelta(minutes = 1)\n",
    "SMA = 200\n",
    "dev = 2"
   ]
  },
  {
   "cell_type": "code",
   "execution_count": 4,
   "id": "bc30806d",
   "metadata": {},
   "outputs": [],
   "source": [
    "# raw_data = None\n",
    "# now = datetime.utcnow()\n",
    "       \n",
    "# now = now - timedelta(microseconds = now.microsecond)\n",
    "# past = now - timedelta(days = 2)\n",
    "\n",
    "\n",
    "# print (f\"Getting candles for {instrument}, from {past} to {now}\")\n",
    "\n",
    "# raw_df = tpqoa.tpqoa(\"../../config/oanda_demo.cfg\").get_history(instrument = instrument, start = past, end = now,\n",
    "#                        granularity = \"S30\", price = \"M\", localize = True).c.dropna().to_frame()\n",
    "\n",
    "# raw_df.rename(columns = {\"c\":instrument}, inplace = True)\n",
    "\n",
    "\n",
    "# # last_bar = raw_data.index[-1].to_pydatetime().replace(tzinfo=None)\n",
    "        "
   ]
  },
  {
   "cell_type": "code",
   "execution_count": 5,
   "id": "8f7673da",
   "metadata": {},
   "outputs": [],
   "source": [
    "# raw_df = pd.read_pickle(f\"../../data/backtest_{instrument}.pcl\")"
   ]
  },
  {
   "cell_type": "code",
   "execution_count": 6,
   "id": "0148ad6b",
   "metadata": {},
   "outputs": [],
   "source": [
    "api = OANDA_API(\"../../config/oanda.cfg\")\n",
    "raw_df = api.get_history_with_all_prices(instrument, 10)"
   ]
  },
  {
   "cell_type": "code",
   "execution_count": 7,
   "id": "0c7e2168",
   "metadata": {},
   "outputs": [
    {
     "data": {
      "text/html": [
       "<div>\n",
       "<style scoped>\n",
       "    .dataframe tbody tr th:only-of-type {\n",
       "        vertical-align: middle;\n",
       "    }\n",
       "\n",
       "    .dataframe tbody tr th {\n",
       "        vertical-align: top;\n",
       "    }\n",
       "\n",
       "    .dataframe thead th {\n",
       "        text-align: right;\n",
       "    }\n",
       "</style>\n",
       "<table border=\"1\" class=\"dataframe\">\n",
       "  <thead>\n",
       "    <tr style=\"text-align: right;\">\n",
       "      <th></th>\n",
       "      <th>ask</th>\n",
       "      <th>bid</th>\n",
       "      <th>EUR_HKD</th>\n",
       "    </tr>\n",
       "    <tr>\n",
       "      <th>time</th>\n",
       "      <th></th>\n",
       "      <th></th>\n",
       "      <th></th>\n",
       "    </tr>\n",
       "  </thead>\n",
       "  <tbody>\n",
       "    <tr>\n",
       "      <th>2024-02-19 19:49:30</th>\n",
       "      <td>8.43222</td>\n",
       "      <td>8.43066</td>\n",
       "      <td>8.431440</td>\n",
       "    </tr>\n",
       "    <tr>\n",
       "      <th>2024-02-19 19:50:00</th>\n",
       "      <td>8.43225</td>\n",
       "      <td>8.43064</td>\n",
       "      <td>8.431445</td>\n",
       "    </tr>\n",
       "    <tr>\n",
       "      <th>2024-02-19 19:50:30</th>\n",
       "      <td>8.43203</td>\n",
       "      <td>8.43036</td>\n",
       "      <td>8.431195</td>\n",
       "    </tr>\n",
       "    <tr>\n",
       "      <th>2024-02-19 19:51:00</th>\n",
       "      <td>8.43202</td>\n",
       "      <td>8.43048</td>\n",
       "      <td>8.431250</td>\n",
       "    </tr>\n",
       "    <tr>\n",
       "      <th>2024-02-19 19:51:30</th>\n",
       "      <td>8.43181</td>\n",
       "      <td>8.43024</td>\n",
       "      <td>8.431025</td>\n",
       "    </tr>\n",
       "    <tr>\n",
       "      <th>...</th>\n",
       "      <td>...</td>\n",
       "      <td>...</td>\n",
       "      <td>...</td>\n",
       "    </tr>\n",
       "    <tr>\n",
       "      <th>2024-02-29 19:47:30</th>\n",
       "      <td>8.45940</td>\n",
       "      <td>8.45803</td>\n",
       "      <td>8.458715</td>\n",
       "    </tr>\n",
       "    <tr>\n",
       "      <th>2024-02-29 19:48:00</th>\n",
       "      <td>8.45917</td>\n",
       "      <td>8.45790</td>\n",
       "      <td>8.458535</td>\n",
       "    </tr>\n",
       "    <tr>\n",
       "      <th>2024-02-29 19:48:30</th>\n",
       "      <td>8.45930</td>\n",
       "      <td>8.45780</td>\n",
       "      <td>8.458550</td>\n",
       "    </tr>\n",
       "    <tr>\n",
       "      <th>2024-02-29 19:49:00</th>\n",
       "      <td>8.45925</td>\n",
       "      <td>8.45780</td>\n",
       "      <td>8.458525</td>\n",
       "    </tr>\n",
       "    <tr>\n",
       "      <th>2024-02-29 19:49:30</th>\n",
       "      <td>8.45930</td>\n",
       "      <td>8.45780</td>\n",
       "      <td>8.458550</td>\n",
       "    </tr>\n",
       "  </tbody>\n",
       "</table>\n",
       "<p>22485 rows × 3 columns</p>\n",
       "</div>"
      ],
      "text/plain": [
       "                         ask      bid   EUR_HKD\n",
       "time                                           \n",
       "2024-02-19 19:49:30  8.43222  8.43066  8.431440\n",
       "2024-02-19 19:50:00  8.43225  8.43064  8.431445\n",
       "2024-02-19 19:50:30  8.43203  8.43036  8.431195\n",
       "2024-02-19 19:51:00  8.43202  8.43048  8.431250\n",
       "2024-02-19 19:51:30  8.43181  8.43024  8.431025\n",
       "...                      ...      ...       ...\n",
       "2024-02-29 19:47:30  8.45940  8.45803  8.458715\n",
       "2024-02-29 19:48:00  8.45917  8.45790  8.458535\n",
       "2024-02-29 19:48:30  8.45930  8.45780  8.458550\n",
       "2024-02-29 19:49:00  8.45925  8.45780  8.458525\n",
       "2024-02-29 19:49:30  8.45930  8.45780  8.458550\n",
       "\n",
       "[22485 rows x 3 columns]"
      ]
     },
     "execution_count": 7,
     "metadata": {},
     "output_type": "execute_result"
    }
   ],
   "source": [
    "raw_df"
   ]
  },
  {
   "cell_type": "code",
   "execution_count": 8,
   "id": "553b9792",
   "metadata": {},
   "outputs": [
    {
     "ename": "AttributeError",
     "evalue": "'OANDA_API' object has no attribute 'get_positions'",
     "output_type": "error",
     "traceback": [
      "\u001b[1;31m---------------------------------------------------------------------------\u001b[0m",
      "\u001b[1;31mAttributeError\u001b[0m                            Traceback (most recent call last)",
      "Cell \u001b[1;32mIn[8], line 1\u001b[0m\n\u001b[1;32m----> 1\u001b[0m units \u001b[38;5;241m=\u001b[39m  \u001b[43mapi\u001b[49m\u001b[38;5;241;43m.\u001b[39;49m\u001b[43mget_positions\u001b[49m(instrument)\n\u001b[0;32m      2\u001b[0m units\n",
      "\u001b[1;31mAttributeError\u001b[0m: 'OANDA_API' object has no attribute 'get_positions'"
     ]
    }
   ],
   "source": []
  },
  {
   "cell_type": "code",
   "execution_count": null,
   "id": "c0b227eb",
   "metadata": {},
   "outputs": [],
   "source": [
    "filtered_df = df.query(\"time >= '2024-02-12 06:45:00' and time < '2024-02-12 08:25:00'\")"
   ]
  },
  {
   "cell_type": "code",
   "execution_count": null,
   "id": "2bc3b37a",
   "metadata": {},
   "outputs": [],
   "source": [
    "# M = filtered_df[\"SMA\"].values\n",
    "# M = pd.Series(M)\n",
    "# poly = np.polyfit(M.index, M.values, deg=1)\n",
    "# poly\n",
    "slope = MyTT.SLOPE(filtered_df[instrument].values)\n",
    "slope = round(slope, 6)\n",
    "slope"
   ]
  },
  {
   "cell_type": "code",
   "execution_count": null,
   "id": "46c44b48",
   "metadata": {},
   "outputs": [],
   "source": [
    "'{0:f}'.format(slope)"
   ]
  },
  {
   "cell_type": "code",
   "execution_count": null,
   "id": "2f87fd46",
   "metadata": {},
   "outputs": [],
   "source": []
  },
  {
   "cell_type": "code",
   "execution_count": null,
   "id": "33ccc19a",
   "metadata": {},
   "outputs": [],
   "source": [
    "filtered_df[instrument].plot(figsize = (12, 8))\n",
    "filtered_df[\"SMA\"].plot(figsize = (12, 8))"
   ]
  },
  {
   "cell_type": "code",
   "execution_count": null,
   "id": "e2f164f4",
   "metadata": {},
   "outputs": [],
   "source": []
  },
  {
   "cell_type": "code",
   "execution_count": null,
   "id": "ef2cf208",
   "metadata": {},
   "outputs": [],
   "source": []
  },
  {
   "cell_type": "code",
   "execution_count": null,
   "id": "32371467",
   "metadata": {},
   "outputs": [],
   "source": []
  }
 ],
 "metadata": {
  "kernelspec": {
   "display_name": "Python 3 (ipykernel)",
   "language": "python",
   "name": "python3"
  },
  "language_info": {
   "codemirror_mode": {
    "name": "ipython",
    "version": 3
   },
   "file_extension": ".py",
   "mimetype": "text/x-python",
   "name": "python",
   "nbconvert_exporter": "python",
   "pygments_lexer": "ipython3",
   "version": "3.10.9"
  }
 },
 "nbformat": 4,
 "nbformat_minor": 5
}
