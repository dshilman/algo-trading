{
 "cells": [
  {
   "cell_type": "markdown",
   "id": "22dfa5b7",
   "metadata": {},
   "source": [
    "## Oanda: Contrader Class without Take Profit & Stop Loss (Recap)"
   ]
  },
  {
   "cell_type": "code",
   "execution_count": null,
   "id": "f8eb7eeb",
   "metadata": {},
   "outputs": [],
   "source": [
    "pip install robin_stocks"
   ]
  },
  {
   "cell_type": "code",
   "execution_count": null,
   "id": "32371467",
   "metadata": {},
   "outputs": [],
   "source": [
    "import robin_stocks.robinhood as r"
   ]
  },
  {
   "cell_type": "code",
   "execution_count": null,
   "id": "dd41021c-1190-4e84-af1a-84ecd893f7b7",
   "metadata": {},
   "outputs": [],
   "source": [
    "login = r.login(<username>,<password>)"
   ]
  },
  {
   "cell_type": "code",
   "execution_count": null,
   "id": "d1057d08-d723-45ee-a39e-68f88e8dca4c",
   "metadata": {},
   "outputs": [],
   "source": []
  }
 ],
 "metadata": {
  "kernelspec": {
   "display_name": "Python 3 (ipykernel)",
   "language": "python",
   "name": "python3"
  },
  "language_info": {
   "codemirror_mode": {
    "name": "ipython",
    "version": 3
   },
   "file_extension": ".py",
   "mimetype": "text/x-python",
   "name": "python",
   "nbconvert_exporter": "python",
   "pygments_lexer": "ipython3",
   "version": "3.12.6"
  }
 },
 "nbformat": 4,
 "nbformat_minor": 5
}
