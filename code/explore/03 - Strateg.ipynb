{
 "cells": [
  {
   "cell_type": "markdown",
   "id": "646af6f8",
   "metadata": {},
   "source": [
    "\n",
    "# Adding Limit Orders to the Trading Bot (Take Profit & Stop Loss) "
   ]
  },
  {
   "cell_type": "code",
   "execution_count": 1,
   "id": "f8eb7eeb",
   "metadata": {},
   "outputs": [],
   "source": [
    "import sys\n",
    "sys.path.append(\"../\")\n",
    "from trading.api import OANDA_API\n",
    "import pandas as pd\n",
    "import numpy as np\n",
    "import tpqoa\n",
    "from datetime import datetime, timedelta, timezone\n",
    "import time\n",
    "import pytz\n",
    "from datetime import datetime\n",
    "\n",
    "import matplotlib.pyplot as plt\n",
    "from trading import MyTT"
   ]
  },
  {
   "cell_type": "code",
   "execution_count": 2,
   "id": "150c60bd",
   "metadata": {},
   "outputs": [],
   "source": [
    "instrument = \"EUR_HKD\"\n",
    "bar_length = timedelta(minutes = 1)\n",
    "SMA = 200\n",
    "dev = 2"
   ]
  },
  {
   "cell_type": "code",
   "execution_count": 3,
   "id": "bc30806d",
   "metadata": {},
   "outputs": [],
   "source": [
    "# raw_data = None\n",
    "# now = datetime.utcnow()\n",
    "       \n",
    "# now = now - timedelta(microseconds = now.microsecond)\n",
    "# past = now - timedelta(days = 2)\n",
    "\n",
    "\n",
    "# print (f\"Getting candles for {instrument}, from {past} to {now}\")\n",
    "\n",
    "# raw_df = tpqoa.tpqoa(\"../../config/oanda_demo.cfg\").get_history(instrument = instrument, start = past, end = now,\n",
    "#                        granularity = \"S30\", price = \"M\", localize = True).c.dropna().to_frame()\n",
    "\n",
    "# raw_df.rename(columns = {\"c\":instrument}, inplace = True)\n",
    "\n",
    "\n",
    "# # last_bar = raw_data.index[-1].to_pydatetime().replace(tzinfo=None)\n",
    "        "
   ]
  },
  {
   "cell_type": "code",
   "execution_count": 4,
   "id": "8f7673da",
   "metadata": {},
   "outputs": [],
   "source": [
    "# raw_df = pd.read_pickle(f\"../../data/backtest_{instrument}.pcl\")"
   ]
  },
  {
   "cell_type": "code",
   "execution_count": 5,
   "id": "0148ad6b",
   "metadata": {},
   "outputs": [],
   "source": [
    "api = OANDA_API(\"../../config/oanda.cfg\")\n",
    "raw_df = api.get_history_with_all_prices(instrument, 30)"
   ]
  },
  {
   "cell_type": "code",
   "execution_count": 6,
   "id": "0c7e2168",
   "metadata": {},
   "outputs": [
    {
     "data": {
      "text/html": [
       "<div>\n",
       "<style scoped>\n",
       "    .dataframe tbody tr th:only-of-type {\n",
       "        vertical-align: middle;\n",
       "    }\n",
       "\n",
       "    .dataframe tbody tr th {\n",
       "        vertical-align: top;\n",
       "    }\n",
       "\n",
       "    .dataframe thead th {\n",
       "        text-align: right;\n",
       "    }\n",
       "</style>\n",
       "<table border=\"1\" class=\"dataframe\">\n",
       "  <thead>\n",
       "    <tr style=\"text-align: right;\">\n",
       "      <th></th>\n",
       "      <th>ask</th>\n",
       "      <th>bid</th>\n",
       "      <th>EUR_HKD</th>\n",
       "    </tr>\n",
       "    <tr>\n",
       "      <th>time</th>\n",
       "      <th></th>\n",
       "      <th></th>\n",
       "      <th></th>\n",
       "    </tr>\n",
       "  </thead>\n",
       "  <tbody>\n",
       "    <tr>\n",
       "      <th>2024-01-26 18:08:30</th>\n",
       "      <td>8.49030</td>\n",
       "      <td>8.48883</td>\n",
       "      <td>8.489565</td>\n",
       "    </tr>\n",
       "    <tr>\n",
       "      <th>2024-01-26 18:09:00</th>\n",
       "      <td>8.49070</td>\n",
       "      <td>8.48929</td>\n",
       "      <td>8.489995</td>\n",
       "    </tr>\n",
       "    <tr>\n",
       "      <th>2024-01-26 18:09:30</th>\n",
       "      <td>8.49040</td>\n",
       "      <td>8.48903</td>\n",
       "      <td>8.489715</td>\n",
       "    </tr>\n",
       "    <tr>\n",
       "      <th>2024-01-26 18:10:00</th>\n",
       "      <td>8.49051</td>\n",
       "      <td>8.48908</td>\n",
       "      <td>8.489795</td>\n",
       "    </tr>\n",
       "    <tr>\n",
       "      <th>2024-01-26 18:10:30</th>\n",
       "      <td>8.49060</td>\n",
       "      <td>8.48921</td>\n",
       "      <td>8.489905</td>\n",
       "    </tr>\n",
       "    <tr>\n",
       "      <th>...</th>\n",
       "      <td>...</td>\n",
       "      <td>...</td>\n",
       "      <td>...</td>\n",
       "    </tr>\n",
       "    <tr>\n",
       "      <th>2024-02-23 21:57:00</th>\n",
       "      <td>8.47043</td>\n",
       "      <td>8.46220</td>\n",
       "      <td>8.466315</td>\n",
       "    </tr>\n",
       "    <tr>\n",
       "      <th>2024-02-23 21:57:30</th>\n",
       "      <td>8.47034</td>\n",
       "      <td>8.45927</td>\n",
       "      <td>8.464805</td>\n",
       "    </tr>\n",
       "    <tr>\n",
       "      <th>2024-02-23 21:58:00</th>\n",
       "      <td>8.47075</td>\n",
       "      <td>8.46253</td>\n",
       "      <td>8.466640</td>\n",
       "    </tr>\n",
       "    <tr>\n",
       "      <th>2024-02-23 21:58:30</th>\n",
       "      <td>8.47093</td>\n",
       "      <td>8.45940</td>\n",
       "      <td>8.465165</td>\n",
       "    </tr>\n",
       "    <tr>\n",
       "      <th>2024-02-23 21:59:00</th>\n",
       "      <td>8.47081</td>\n",
       "      <td>8.46314</td>\n",
       "      <td>8.466975</td>\n",
       "    </tr>\n",
       "  </tbody>\n",
       "</table>\n",
       "<p>56736 rows × 3 columns</p>\n",
       "</div>"
      ],
      "text/plain": [
       "                         ask      bid   EUR_HKD\n",
       "time                                           \n",
       "2024-01-26 18:08:30  8.49030  8.48883  8.489565\n",
       "2024-01-26 18:09:00  8.49070  8.48929  8.489995\n",
       "2024-01-26 18:09:30  8.49040  8.48903  8.489715\n",
       "2024-01-26 18:10:00  8.49051  8.48908  8.489795\n",
       "2024-01-26 18:10:30  8.49060  8.48921  8.489905\n",
       "...                      ...      ...       ...\n",
       "2024-02-23 21:57:00  8.47043  8.46220  8.466315\n",
       "2024-02-23 21:57:30  8.47034  8.45927  8.464805\n",
       "2024-02-23 21:58:00  8.47075  8.46253  8.466640\n",
       "2024-02-23 21:58:30  8.47093  8.45940  8.465165\n",
       "2024-02-23 21:59:00  8.47081  8.46314  8.466975\n",
       "\n",
       "[56736 rows x 3 columns]"
      ]
     },
     "execution_count": 6,
     "metadata": {},
     "output_type": "execute_result"
    }
   ],
   "source": [
    "raw_df"
   ]
  },
  {
   "cell_type": "code",
   "execution_count": 7,
   "id": "553b9792",
   "metadata": {},
   "outputs": [
    {
     "data": {
      "text/html": [
       "<div>\n",
       "<style scoped>\n",
       "    .dataframe tbody tr th:only-of-type {\n",
       "        vertical-align: middle;\n",
       "    }\n",
       "\n",
       "    .dataframe tbody tr th {\n",
       "        vertical-align: top;\n",
       "    }\n",
       "\n",
       "    .dataframe thead th {\n",
       "        text-align: right;\n",
       "    }\n",
       "</style>\n",
       "<table border=\"1\" class=\"dataframe\">\n",
       "  <thead>\n",
       "    <tr style=\"text-align: right;\">\n",
       "      <th></th>\n",
       "      <th>ask</th>\n",
       "      <th>bid</th>\n",
       "      <th>EUR_HKD</th>\n",
       "      <th>SMA</th>\n",
       "      <th>Lower</th>\n",
       "      <th>Upper</th>\n",
       "    </tr>\n",
       "    <tr>\n",
       "      <th>time</th>\n",
       "      <th></th>\n",
       "      <th></th>\n",
       "      <th></th>\n",
       "      <th></th>\n",
       "      <th></th>\n",
       "      <th></th>\n",
       "    </tr>\n",
       "  </thead>\n",
       "  <tbody>\n",
       "    <tr>\n",
       "      <th>2024-01-26 18:08:30</th>\n",
       "      <td>8.49030</td>\n",
       "      <td>8.48883</td>\n",
       "      <td>8.489565</td>\n",
       "      <td>NaN</td>\n",
       "      <td>NaN</td>\n",
       "      <td>NaN</td>\n",
       "    </tr>\n",
       "    <tr>\n",
       "      <th>2024-01-26 18:09:00</th>\n",
       "      <td>8.49070</td>\n",
       "      <td>8.48929</td>\n",
       "      <td>8.489995</td>\n",
       "      <td>NaN</td>\n",
       "      <td>NaN</td>\n",
       "      <td>NaN</td>\n",
       "    </tr>\n",
       "    <tr>\n",
       "      <th>2024-01-26 18:09:30</th>\n",
       "      <td>8.49040</td>\n",
       "      <td>8.48903</td>\n",
       "      <td>8.489715</td>\n",
       "      <td>NaN</td>\n",
       "      <td>NaN</td>\n",
       "      <td>NaN</td>\n",
       "    </tr>\n",
       "    <tr>\n",
       "      <th>2024-01-26 18:10:00</th>\n",
       "      <td>8.49051</td>\n",
       "      <td>8.48908</td>\n",
       "      <td>8.489795</td>\n",
       "      <td>NaN</td>\n",
       "      <td>NaN</td>\n",
       "      <td>NaN</td>\n",
       "    </tr>\n",
       "    <tr>\n",
       "      <th>2024-01-26 18:10:30</th>\n",
       "      <td>8.49060</td>\n",
       "      <td>8.48921</td>\n",
       "      <td>8.489905</td>\n",
       "      <td>NaN</td>\n",
       "      <td>NaN</td>\n",
       "      <td>NaN</td>\n",
       "    </tr>\n",
       "    <tr>\n",
       "      <th>...</th>\n",
       "      <td>...</td>\n",
       "      <td>...</td>\n",
       "      <td>...</td>\n",
       "      <td>...</td>\n",
       "      <td>...</td>\n",
       "      <td>...</td>\n",
       "    </tr>\n",
       "    <tr>\n",
       "      <th>2024-02-23 21:57:00</th>\n",
       "      <td>8.47043</td>\n",
       "      <td>8.46220</td>\n",
       "      <td>8.466315</td>\n",
       "      <td>8.467140</td>\n",
       "      <td>8.465421</td>\n",
       "      <td>8.468860</td>\n",
       "    </tr>\n",
       "    <tr>\n",
       "      <th>2024-02-23 21:57:30</th>\n",
       "      <td>8.47034</td>\n",
       "      <td>8.45927</td>\n",
       "      <td>8.464805</td>\n",
       "      <td>8.467125</td>\n",
       "      <td>8.465378</td>\n",
       "      <td>8.468873</td>\n",
       "    </tr>\n",
       "    <tr>\n",
       "      <th>2024-02-23 21:58:00</th>\n",
       "      <td>8.47075</td>\n",
       "      <td>8.46253</td>\n",
       "      <td>8.466640</td>\n",
       "      <td>8.467119</td>\n",
       "      <td>8.465373</td>\n",
       "      <td>8.468866</td>\n",
       "    </tr>\n",
       "    <tr>\n",
       "      <th>2024-02-23 21:58:30</th>\n",
       "      <td>8.47093</td>\n",
       "      <td>8.45940</td>\n",
       "      <td>8.465165</td>\n",
       "      <td>8.467107</td>\n",
       "      <td>8.465341</td>\n",
       "      <td>8.468873</td>\n",
       "    </tr>\n",
       "    <tr>\n",
       "      <th>2024-02-23 21:59:00</th>\n",
       "      <td>8.47081</td>\n",
       "      <td>8.46314</td>\n",
       "      <td>8.466975</td>\n",
       "      <td>8.467104</td>\n",
       "      <td>8.465339</td>\n",
       "      <td>8.468869</td>\n",
       "    </tr>\n",
       "  </tbody>\n",
       "</table>\n",
       "<p>56736 rows × 6 columns</p>\n",
       "</div>"
      ],
      "text/plain": [
       "                         ask      bid   EUR_HKD       SMA     Lower     Upper\n",
       "time                                                                         \n",
       "2024-01-26 18:08:30  8.49030  8.48883  8.489565       NaN       NaN       NaN\n",
       "2024-01-26 18:09:00  8.49070  8.48929  8.489995       NaN       NaN       NaN\n",
       "2024-01-26 18:09:30  8.49040  8.48903  8.489715       NaN       NaN       NaN\n",
       "2024-01-26 18:10:00  8.49051  8.48908  8.489795       NaN       NaN       NaN\n",
       "2024-01-26 18:10:30  8.49060  8.48921  8.489905       NaN       NaN       NaN\n",
       "...                      ...      ...       ...       ...       ...       ...\n",
       "2024-02-23 21:57:00  8.47043  8.46220  8.466315  8.467140  8.465421  8.468860\n",
       "2024-02-23 21:57:30  8.47034  8.45927  8.464805  8.467125  8.465378  8.468873\n",
       "2024-02-23 21:58:00  8.47075  8.46253  8.466640  8.467119  8.465373  8.468866\n",
       "2024-02-23 21:58:30  8.47093  8.45940  8.465165  8.467107  8.465341  8.468873\n",
       "2024-02-23 21:59:00  8.47081  8.46314  8.466975  8.467104  8.465339  8.468869\n",
       "\n",
       "[56736 rows x 6 columns]"
      ]
     },
     "execution_count": 7,
     "metadata": {},
     "output_type": "execute_result"
    }
   ],
   "source": [
    "df = raw_df.copy()\n",
    "    \n",
    "df[\"SMA\"] = df[instrument].rolling(SMA).mean()\n",
    "std = df[instrument].rolling(SMA).std() * dev\n",
    "\n",
    "df[\"Lower\"] = df[\"SMA\"] - std\n",
    "df[\"Upper\"] = df[\"SMA\"] + std\n",
    "\n",
    "df\n"
   ]
  },
  {
   "cell_type": "code",
   "execution_count": 26,
   "id": "c0b227eb",
   "metadata": {},
   "outputs": [],
   "source": [
    "filtered_df = df.query(\"time >= '2024-02-12 06:45:00' and time < '2024-02-12 08:25:00'\")"
   ]
  },
  {
   "cell_type": "code",
   "execution_count": 27,
   "id": "2bc3b37a",
   "metadata": {},
   "outputs": [
    {
     "data": {
      "text/plain": [
       "4e-06"
      ]
     },
     "execution_count": 27,
     "metadata": {},
     "output_type": "execute_result"
    }
   ],
   "source": [
    "# M = filtered_df[\"SMA\"].values\n",
    "# M = pd.Series(M)\n",
    "# poly = np.polyfit(M.index, M.values, deg=1)\n",
    "# poly\n",
    "slope = MyTT.SLOPE(filtered_df[instrument].values)\n",
    "slope = round(slope, 6)\n",
    "slope"
   ]
  },
  {
   "cell_type": "code",
   "execution_count": 28,
   "id": "46c44b48",
   "metadata": {},
   "outputs": [
    {
     "data": {
      "text/plain": [
       "'0.000004'"
      ]
     },
     "execution_count": 28,
     "metadata": {},
     "output_type": "execute_result"
    }
   ],
   "source": [
    "'{0:f}'.format(slope)"
   ]
  },
  {
   "cell_type": "code",
   "execution_count": null,
   "id": "2f87fd46",
   "metadata": {},
   "outputs": [],
   "source": []
  },
  {
   "cell_type": "code",
   "execution_count": 19,
   "id": "33ccc19a",
   "metadata": {},
   "outputs": [
    {
     "data": {
      "text/plain": [
       "<Axes: xlabel='time'>"
      ]
     },
     "execution_count": 19,
     "metadata": {},
     "output_type": "execute_result"
    },
    {
     "data": {
      "image/png": "[encoded data removed]",
      "text/plain": [
       "<Figure size 1200x800 with 1 Axes>"
      ]
     },
     "metadata": {},
     "output_type": "display_data"
    }
   ],
   "source": [
    "filtered_df[instrument].plot(figsize = (12, 8))\n",
    "filtered_df[\"SMA\"].plot(figsize = (12, 8))"
   ]
  },
  {
   "cell_type": "code",
   "execution_count": null,
   "id": "e2f164f4",
   "metadata": {},
   "outputs": [],
   "source": []
  },
  {
   "cell_type": "code",
   "execution_count": null,
   "id": "ef2cf208",
   "metadata": {},
   "outputs": [],
   "source": []
  },
  {
   "cell_type": "code",
   "execution_count": null,
   "id": "32371467",
   "metadata": {},
   "outputs": [],
   "source": []
  }
 ],
 "metadata": {
  "kernelspec": {
   "display_name": "Python 3 (ipykernel)",
   "language": "python",
   "name": "python3"
  },
  "language_info": {
   "codemirror_mode": {
    "name": "ipython",
    "version": 3
   },
   "file_extension": ".py",
   "mimetype": "text/x-python",
   "name": "python",
   "nbconvert_exporter": "python",
   "pygments_lexer": "ipython3",
   "version": "3.10.9"
  }
 },
 "nbformat": 4,
 "nbformat_minor": 5
}
