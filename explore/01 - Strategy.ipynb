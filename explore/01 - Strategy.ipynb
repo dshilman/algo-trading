{
 "cells": [
  {
   "cell_type": "markdown",
   "id": "646af6f8",
   "metadata": {},
   "source": [
    "\n",
    "# Adding Limit Orders to the Trading Bot (Take Profit & Stop Loss) "
   ]
  },
  {
   "cell_type": "markdown",
   "id": "22dfa5b7",
   "metadata": {},
   "source": [
    "## Oanda: Contrader Class without Take Profit & Stop Loss (Recap)"
   ]
  },
  {
   "cell_type": "code",
   "execution_count": 1,
   "id": "f8eb7eeb",
   "metadata": {},
   "outputs": [],
   "source": [
    "import sys\n",
    "sys.path.append(\"../\")\n",
    "import pandas as pd\n",
    "import numpy as np\n",
    "import tpqoa\n",
    "from datetime import datetime, timedelta, timezone\n",
    "import time\n",
    "import pytz\n",
    "from datetime import datetime\n",
    "\n",
    "\n",
    "from trading import MyTT"
   ]
  },
  {
   "cell_type": "code",
   "execution_count": 2,
   "id": "150c60bd",
   "metadata": {},
   "outputs": [],
   "source": [
    "instrument = \"EUR_USD\"\n",
    "bar_length = timedelta(minutes = 1)\n",
    "SMA = 100\n",
    "dev = 2\n",
    "sl_perc = 0.005\n",
    "tp_perc = 0.008\n",
    "      "
   ]
  },
  {
   "cell_type": "code",
   "execution_count": 3,
   "id": "bc30806d",
   "metadata": {},
   "outputs": [
    {
     "name": "stdout",
     "output_type": "stream",
     "text": [
      "Getting candles for EUR_USD, from 2024-01-01 18:43:04 to 2024-01-11 18:43:04\n"
     ]
    }
   ],
   "source": [
    "raw_data = None\n",
    "now = datetime.utcnow()\n",
    "       \n",
    "now = now - timedelta(microseconds = now.microsecond)\n",
    "past = now - timedelta(days = 10)\n",
    "\n",
    "last_bar = None\n",
    "df = None\n",
    "\n",
    "\n",
    "print (f\"Getting candles for {instrument}, from {past} to {now}\")\n",
    "\n",
    "raw_df = tpqoa.tpqoa(\"../trading/oanda.cfg\").get_history(instrument = instrument, start = past, end = now,\n",
    "                       granularity = \"M1\", price = \"M\", localize = True).c.dropna().to_frame()\n",
    "\n",
    "raw_df.rename(columns = {\"c\":instrument}, inplace = True)\n",
    "\n",
    "\n",
    "# last_bar = raw_data.index[-1].to_pydatetime().replace(tzinfo=None)\n",
    "        \n",
    "\n",
    "\n"
   ]
  },
  {
   "cell_type": "code",
   "execution_count": null,
   "id": "06358f63",
   "metadata": {},
   "outputs": [],
   "source": [
    "raw_df1 = raw_df.copy()"
   ]
  },
  {
   "cell_type": "code",
   "execution_count": null,
   "id": "f6a2e670",
   "metadata": {},
   "outputs": [],
   "source": [
    "raw_df = pd.concat([raw_df, raw_df1])"
   ]
  },
  {
   "cell_type": "code",
   "execution_count": 4,
   "id": "e1373fcd",
   "metadata": {},
   "outputs": [
    {
     "data": {
      "text/html": [
       "<div>\n",
       "<style scoped>\n",
       "    .dataframe tbody tr th:only-of-type {\n",
       "        vertical-align: middle;\n",
       "    }\n",
       "\n",
       "    .dataframe tbody tr th {\n",
       "        vertical-align: top;\n",
       "    }\n",
       "\n",
       "    .dataframe thead th {\n",
       "        text-align: right;\n",
       "    }\n",
       "</style>\n",
       "<table border=\"1\" class=\"dataframe\">\n",
       "  <thead>\n",
       "    <tr style=\"text-align: right;\">\n",
       "      <th></th>\n",
       "      <th>EUR_USD</th>\n",
       "    </tr>\n",
       "    <tr>\n",
       "      <th>time</th>\n",
       "      <th></th>\n",
       "    </tr>\n",
       "  </thead>\n",
       "  <tbody>\n",
       "    <tr>\n",
       "      <th>2024-01-01 22:03:00</th>\n",
       "      <td>1.10440</td>\n",
       "    </tr>\n",
       "    <tr>\n",
       "      <th>2024-01-01 22:04:00</th>\n",
       "      <td>1.10440</td>\n",
       "    </tr>\n",
       "    <tr>\n",
       "      <th>2024-01-01 22:05:00</th>\n",
       "      <td>1.10444</td>\n",
       "    </tr>\n",
       "    <tr>\n",
       "      <th>2024-01-01 22:06:00</th>\n",
       "      <td>1.10440</td>\n",
       "    </tr>\n",
       "    <tr>\n",
       "      <th>2024-01-01 22:07:00</th>\n",
       "      <td>1.10440</td>\n",
       "    </tr>\n",
       "    <tr>\n",
       "      <th>...</th>\n",
       "      <td>...</td>\n",
       "    </tr>\n",
       "    <tr>\n",
       "      <th>2024-01-11 18:39:00</th>\n",
       "      <td>1.09563</td>\n",
       "    </tr>\n",
       "    <tr>\n",
       "      <th>2024-01-11 18:40:00</th>\n",
       "      <td>1.09580</td>\n",
       "    </tr>\n",
       "    <tr>\n",
       "      <th>2024-01-11 18:41:00</th>\n",
       "      <td>1.09570</td>\n",
       "    </tr>\n",
       "    <tr>\n",
       "      <th>2024-01-11 18:42:00</th>\n",
       "      <td>1.09573</td>\n",
       "    </tr>\n",
       "    <tr>\n",
       "      <th>2024-01-11 18:43:00</th>\n",
       "      <td>1.09573</td>\n",
       "    </tr>\n",
       "  </tbody>\n",
       "</table>\n",
       "<p>11225 rows × 1 columns</p>\n",
       "</div>"
      ],
      "text/plain": [
       "                     EUR_USD\n",
       "time                        \n",
       "2024-01-01 22:03:00  1.10440\n",
       "2024-01-01 22:04:00  1.10440\n",
       "2024-01-01 22:05:00  1.10444\n",
       "2024-01-01 22:06:00  1.10440\n",
       "2024-01-01 22:07:00  1.10440\n",
       "...                      ...\n",
       "2024-01-11 18:39:00  1.09563\n",
       "2024-01-11 18:40:00  1.09580\n",
       "2024-01-11 18:41:00  1.09570\n",
       "2024-01-11 18:42:00  1.09573\n",
       "2024-01-11 18:43:00  1.09573\n",
       "\n",
       "[11225 rows x 1 columns]"
      ]
     },
     "execution_count": 4,
     "metadata": {},
     "output_type": "execute_result"
    }
   ],
   "source": [
    "raw_df"
   ]
  },
  {
   "cell_type": "code",
   "execution_count": null,
   "id": "778229d1",
   "metadata": {},
   "outputs": [],
   "source": [
    "raw_df = raw_df.reset_index().drop_duplicates(subset='time', keep='last').set_index('time')"
   ]
  },
  {
   "cell_type": "code",
   "execution_count": null,
   "id": "5c39a3c6",
   "metadata": {},
   "outputs": [],
   "source": [
    "raw_df"
   ]
  },
  {
   "cell_type": "code",
   "execution_count": null,
   "id": "fbe057bf",
   "metadata": {},
   "outputs": [],
   "source": [
    "start_s = datetime.now().replace(hour=0, minute=0, second=0).strftime(\"%Y-%m-%d %H:%M:%S\")"
   ]
  },
  {
   "cell_type": "code",
   "execution_count": null,
   "id": "054cb2cd",
   "metadata": {},
   "outputs": [],
   "source": [
    "start_s"
   ]
  },
  {
   "cell_type": "code",
   "execution_count": null,
   "id": "0a588bb7",
   "metadata": {},
   "outputs": [],
   "source": [
    "filtered_df = raw_df.loc[(raw_df.index >= start_s)]\n",
    "min = round(filtered_df[instrument].min(), 4)\n",
    "max = round(filtered_df[instrument].max(), 4)"
   ]
  },
  {
   "cell_type": "code",
   "execution_count": null,
   "id": "4e1c77cf",
   "metadata": {},
   "outputs": [],
   "source": [
    "filtered_df"
   ]
  },
  {
   "cell_type": "code",
   "execution_count": 5,
   "id": "0b5c7059",
   "metadata": {},
   "outputs": [],
   "source": [
    "def do_math(df):\n",
    "    df[\"SMA\"] = df[instrument].rolling(SMA).mean()\n",
    "    \n",
    "    target = df[instrument].rolling(SMA).std() * dev\n",
    "    \n",
    "    df[\"Lower\"] = df[\"SMA\"] - target\n",
    "    df[\"Upper\"] = df[\"SMA\"] + target\n",
    "    \n",
    "    df.dropna(subset=['Lower'], inplace=True)\n",
    "\n",
    "#     df[\"distance\"] = df[instrument] - df.SMA\n",
    "#     df[\"distance_l\"] = df[\"Lower\"] - df.SMA\n",
    "\n",
    "#     df[\"position\"] = np.where(df[instrument] < df.Lower, 1, np.nan)\n",
    "#     df[\"position\"] = np.where(df[instrument] > df.Upper, -1, np.nan)\n",
    "#     df[\"position\"] = df.position.ffill().fillna(0)\n",
    "\n",
    "    \n",
    "#     df[\"target\"] = df[instrument] * (1 + df.position * tp_perc)\n",
    "#     df[\"profit\"] = df.position * (df.target - df[instrument])\n",
    "#     df [\"stop_loss\"] = df[instrument] * (1 - df.position * sl_perc)\n",
    "#     df [\"potential_loss\"] = df[instrument] * sl_perc\n",
    "\n",
    "    df.tail(SMA * 2)\n",
    "    \n",
    "    return df"
   ]
  },
  {
   "cell_type": "code",
   "execution_count": 6,
   "id": "a6621030",
   "metadata": {},
   "outputs": [
    {
     "data": {
      "text/html": [
       "<div>\n",
       "<style scoped>\n",
       "    .dataframe tbody tr th:only-of-type {\n",
       "        vertical-align: middle;\n",
       "    }\n",
       "\n",
       "    .dataframe tbody tr th {\n",
       "        vertical-align: top;\n",
       "    }\n",
       "\n",
       "    .dataframe thead th {\n",
       "        text-align: right;\n",
       "    }\n",
       "</style>\n",
       "<table border=\"1\" class=\"dataframe\">\n",
       "  <thead>\n",
       "    <tr style=\"text-align: right;\">\n",
       "      <th></th>\n",
       "      <th>EUR_USD</th>\n",
       "      <th>SMA</th>\n",
       "      <th>Lower</th>\n",
       "      <th>Upper</th>\n",
       "    </tr>\n",
       "    <tr>\n",
       "      <th>time</th>\n",
       "      <th></th>\n",
       "      <th></th>\n",
       "      <th></th>\n",
       "      <th></th>\n",
       "    </tr>\n",
       "  </thead>\n",
       "  <tbody>\n",
       "    <tr>\n",
       "      <th>2024-01-02 00:01:00</th>\n",
       "      <td>1.10378</td>\n",
       "      <td>1.104048</td>\n",
       "      <td>1.103405</td>\n",
       "      <td>1.104691</td>\n",
       "    </tr>\n",
       "    <tr>\n",
       "      <th>2024-01-02 00:02:00</th>\n",
       "      <td>1.10376</td>\n",
       "      <td>1.104042</td>\n",
       "      <td>1.103400</td>\n",
       "      <td>1.104683</td>\n",
       "    </tr>\n",
       "    <tr>\n",
       "      <th>2024-01-02 00:03:00</th>\n",
       "      <td>1.10378</td>\n",
       "      <td>1.104036</td>\n",
       "      <td>1.103396</td>\n",
       "      <td>1.104675</td>\n",
       "    </tr>\n",
       "    <tr>\n",
       "      <th>2024-01-02 00:04:00</th>\n",
       "      <td>1.10376</td>\n",
       "      <td>1.104029</td>\n",
       "      <td>1.103392</td>\n",
       "      <td>1.104665</td>\n",
       "    </tr>\n",
       "    <tr>\n",
       "      <th>2024-01-02 00:05:00</th>\n",
       "      <td>1.10376</td>\n",
       "      <td>1.104022</td>\n",
       "      <td>1.103388</td>\n",
       "      <td>1.104656</td>\n",
       "    </tr>\n",
       "    <tr>\n",
       "      <th>...</th>\n",
       "      <td>...</td>\n",
       "      <td>...</td>\n",
       "      <td>...</td>\n",
       "      <td>...</td>\n",
       "    </tr>\n",
       "    <tr>\n",
       "      <th>2024-01-11 18:39:00</th>\n",
       "      <td>1.09563</td>\n",
       "      <td>1.095180</td>\n",
       "      <td>1.094201</td>\n",
       "      <td>1.096159</td>\n",
       "    </tr>\n",
       "    <tr>\n",
       "      <th>2024-01-11 18:40:00</th>\n",
       "      <td>1.09580</td>\n",
       "      <td>1.095194</td>\n",
       "      <td>1.094222</td>\n",
       "      <td>1.096167</td>\n",
       "    </tr>\n",
       "    <tr>\n",
       "      <th>2024-01-11 18:41:00</th>\n",
       "      <td>1.09570</td>\n",
       "      <td>1.095205</td>\n",
       "      <td>1.094233</td>\n",
       "      <td>1.096176</td>\n",
       "    </tr>\n",
       "    <tr>\n",
       "      <th>2024-01-11 18:42:00</th>\n",
       "      <td>1.09573</td>\n",
       "      <td>1.095215</td>\n",
       "      <td>1.094243</td>\n",
       "      <td>1.096187</td>\n",
       "    </tr>\n",
       "    <tr>\n",
       "      <th>2024-01-11 18:43:00</th>\n",
       "      <td>1.09573</td>\n",
       "      <td>1.095222</td>\n",
       "      <td>1.094246</td>\n",
       "      <td>1.096199</td>\n",
       "    </tr>\n",
       "  </tbody>\n",
       "</table>\n",
       "<p>11126 rows × 4 columns</p>\n",
       "</div>"
      ],
      "text/plain": [
       "                     EUR_USD       SMA     Lower     Upper\n",
       "time                                                      \n",
       "2024-01-02 00:01:00  1.10378  1.104048  1.103405  1.104691\n",
       "2024-01-02 00:02:00  1.10376  1.104042  1.103400  1.104683\n",
       "2024-01-02 00:03:00  1.10378  1.104036  1.103396  1.104675\n",
       "2024-01-02 00:04:00  1.10376  1.104029  1.103392  1.104665\n",
       "2024-01-02 00:05:00  1.10376  1.104022  1.103388  1.104656\n",
       "...                      ...       ...       ...       ...\n",
       "2024-01-11 18:39:00  1.09563  1.095180  1.094201  1.096159\n",
       "2024-01-11 18:40:00  1.09580  1.095194  1.094222  1.096167\n",
       "2024-01-11 18:41:00  1.09570  1.095205  1.094233  1.096176\n",
       "2024-01-11 18:42:00  1.09573  1.095215  1.094243  1.096187\n",
       "2024-01-11 18:43:00  1.09573  1.095222  1.094246  1.096199\n",
       "\n",
       "[11126 rows x 4 columns]"
      ]
     },
     "execution_count": 6,
     "metadata": {},
     "output_type": "execute_result"
    }
   ],
   "source": [
    "raw_df = do_math(raw_df)\n",
    "raw_df"
   ]
  },
  {
   "cell_type": "code",
   "execution_count": null,
   "id": "fcd5b3b6",
   "metadata": {},
   "outputs": [],
   "source": [
    "raw_df[\"slope05\"] = raw_df [instrument].rolling(5).apply(lambda x: MyTT.SLOPE(x.dropna().values, N=5))\n"
   ]
  },
  {
   "cell_type": "code",
   "execution_count": null,
   "id": "ddf93ad5",
   "metadata": {},
   "outputs": [],
   "source": [
    "raw_df[\"slope0505\"] = raw_df [\"slope05\"].rolling(5).apply(lambda x: MyTT.SLOPE(x.dropna().values, N=5))\n"
   ]
  },
  {
   "cell_type": "code",
   "execution_count": null,
   "id": "67f1aa03",
   "metadata": {},
   "outputs": [],
   "source": [
    "raw_df[\"slope05_ind\"] = raw_df[\"slope05\"]/raw_df[\"slope0505\"]"
   ]
  },
  {
   "cell_type": "code",
   "execution_count": null,
   "id": "aa15e142",
   "metadata": {},
   "outputs": [],
   "source": [
    "raw_df[\"slope10\"] = raw_df [instrument].rolling(10).apply(lambda x: MyTT.SLOPE(x.dropna().values, N=10))"
   ]
  },
  {
   "cell_type": "code",
   "execution_count": null,
   "id": "f81ce0b0",
   "metadata": {},
   "outputs": [],
   "source": [
    "raw_df[\"slope1010\"] = raw_df [\"slope10\"].rolling(10).apply(lambda x: MyTT.SLOPE(x.dropna().values, N=10))\n"
   ]
  },
  {
   "cell_type": "code",
   "execution_count": 7,
   "id": "17d1ca33",
   "metadata": {},
   "outputs": [],
   "source": [
    "raw_df[\"RSI\"] = raw_df [instrument].rolling(15).apply(lambda x: MyTT.RSI(x.values, N=14))\n"
   ]
  },
  {
   "cell_type": "code",
   "execution_count": 27,
   "id": "ff91bd1c",
   "metadata": {},
   "outputs": [],
   "source": [
    "raw_df[\"rsi_slope\"] = raw_df [\"RSI\"].rolling(10).apply(lambda x: MyTT.SLOPE(x.dropna().values, N=10))"
   ]
  },
  {
   "cell_type": "code",
   "execution_count": 28,
   "id": "5cbff020",
   "metadata": {},
   "outputs": [],
   "source": [
    "raw_df ['prev_rsi_slope'] = raw_df.rsi_slope.shift(1)"
   ]
  },
  {
   "cell_type": "code",
   "execution_count": 10,
   "id": "3596f9bf",
   "metadata": {},
   "outputs": [],
   "source": [
    "# raw_df[\"rsi_slope_flat\"] = raw_df [\"rsi_slope\"]. apply (lambda x: True if x > - 0.25 and x < 0.25 else False)"
   ]
  },
  {
   "cell_type": "code",
   "execution_count": 29,
   "id": "ebdaacb8",
   "metadata": {},
   "outputs": [],
   "source": [
    "raw_df.dropna(subset=['rsi_slope'], inplace=True)\n",
    "raw_df.dropna(subset=['prev_rsi_slope'], inplace=True)"
   ]
  },
  {
   "cell_type": "code",
   "execution_count": 30,
   "id": "b950619a",
   "metadata": {},
   "outputs": [],
   "source": [
    "raw_df[\"rsi_slope_flat\"] = raw_df[\"rsi_slope\"] * raw_df[\"prev_rsi_slope\"]"
   ]
  },
  {
   "cell_type": "code",
   "execution_count": null,
   "id": "daf1649d",
   "metadata": {},
   "outputs": [],
   "source": []
  },
  {
   "cell_type": "code",
   "execution_count": 21,
   "id": "31e85912",
   "metadata": {},
   "outputs": [
    {
     "ename": "KeyError",
     "evalue": "'rsi_slope'",
     "output_type": "error",
     "traceback": [
      "\u001b[1;31m---------------------------------------------------------------------------\u001b[0m",
      "\u001b[1;31mValueError\u001b[0m                                Traceback (most recent call last)",
      "File \u001b[1;32m~\\AppData\\Local\\miniconda3\\lib\\site-packages\\pandas\\_libs\\tslibs\\parsing.pyx:440\u001b[0m, in \u001b[0;36mpandas._libs.tslibs.parsing.parse_datetime_string_with_reso\u001b[1;34m()\u001b[0m\n",
      "File \u001b[1;32m~\\AppData\\Local\\miniconda3\\lib\\site-packages\\pandas\\_libs\\tslibs\\parsing.pyx:649\u001b[0m, in \u001b[0;36mpandas._libs.tslibs.parsing.dateutil_parse\u001b[1;34m()\u001b[0m\n",
      "\u001b[1;31mValueError\u001b[0m: Unknown datetime string format, unable to parse: rsi_slope",
      "\nDuring handling of the above exception, another exception occurred:\n",
      "\u001b[1;31mDateParseError\u001b[0m                            Traceback (most recent call last)",
      "File \u001b[1;32m~\\AppData\\Local\\miniconda3\\lib\\site-packages\\pandas\\core\\indexes\\datetimes.py:704\u001b[0m, in \u001b[0;36mDatetimeIndex.get_loc\u001b[1;34m(self, key, method, tolerance)\u001b[0m\n\u001b[0;32m    703\u001b[0m \u001b[38;5;28;01mtry\u001b[39;00m:\n\u001b[1;32m--> 704\u001b[0m     parsed, reso \u001b[38;5;241m=\u001b[39m \u001b[38;5;28;43mself\u001b[39;49m\u001b[38;5;241;43m.\u001b[39;49m\u001b[43m_parse_with_reso\u001b[49m\u001b[43m(\u001b[49m\u001b[43mkey\u001b[49m\u001b[43m)\u001b[49m\n\u001b[0;32m    705\u001b[0m \u001b[38;5;28;01mexcept\u001b[39;00m \u001b[38;5;167;01mValueError\u001b[39;00m \u001b[38;5;28;01mas\u001b[39;00m err:\n",
      "File \u001b[1;32m~\\AppData\\Local\\miniconda3\\lib\\site-packages\\pandas\\core\\indexes\\datetimelike.py:230\u001b[0m, in \u001b[0;36mDatetimeIndexOpsMixin._parse_with_reso\u001b[1;34m(self, label)\u001b[0m\n\u001b[0;32m    229\u001b[0m     freq \u001b[38;5;241m=\u001b[39m \u001b[38;5;28mgetattr\u001b[39m(\u001b[38;5;28mself\u001b[39m, \u001b[38;5;124m\"\u001b[39m\u001b[38;5;124mfreqstr\u001b[39m\u001b[38;5;124m\"\u001b[39m, \u001b[38;5;28mgetattr\u001b[39m(\u001b[38;5;28mself\u001b[39m, \u001b[38;5;124m\"\u001b[39m\u001b[38;5;124minferred_freq\u001b[39m\u001b[38;5;124m\"\u001b[39m, \u001b[38;5;28;01mNone\u001b[39;00m))\n\u001b[1;32m--> 230\u001b[0m parsed, reso_str \u001b[38;5;241m=\u001b[39m \u001b[43mparsing\u001b[49m\u001b[38;5;241;43m.\u001b[39;49m\u001b[43mparse_time_string\u001b[49m\u001b[43m(\u001b[49m\u001b[43mlabel\u001b[49m\u001b[43m,\u001b[49m\u001b[43m \u001b[49m\u001b[43mfreq\u001b[49m\u001b[43m)\u001b[49m\n\u001b[0;32m    231\u001b[0m reso \u001b[38;5;241m=\u001b[39m Resolution\u001b[38;5;241m.\u001b[39mfrom_attrname(reso_str)\n",
      "File \u001b[1;32m~\\AppData\\Local\\miniconda3\\lib\\site-packages\\pandas\\_libs\\tslibs\\parsing.pyx:367\u001b[0m, in \u001b[0;36mpandas._libs.tslibs.parsing.parse_time_string\u001b[1;34m()\u001b[0m\n",
      "File \u001b[1;32m~\\AppData\\Local\\miniconda3\\lib\\site-packages\\pandas\\_libs\\tslibs\\parsing.pyx:445\u001b[0m, in \u001b[0;36mpandas._libs.tslibs.parsing.parse_datetime_string_with_reso\u001b[1;34m()\u001b[0m\n",
      "\u001b[1;31mDateParseError\u001b[0m: Unknown datetime string format, unable to parse: rsi_slope",
      "\nThe above exception was the direct cause of the following exception:\n",
      "\u001b[1;31mKeyError\u001b[0m                                  Traceback (most recent call last)",
      "Cell \u001b[1;32mIn[21], line 1\u001b[0m\n\u001b[1;32m----> 1\u001b[0m raw_df[\u001b[38;5;124m\"\u001b[39m\u001b[38;5;124mrsi_slope_flat\u001b[39m\u001b[38;5;124m\"\u001b[39m] \u001b[38;5;241m=\u001b[39m \u001b[43mraw_df\u001b[49m\u001b[38;5;241;43m.\u001b[39;49m\u001b[43mapply\u001b[49m\u001b[43m(\u001b[49m\u001b[38;5;28;43;01mlambda\u001b[39;49;00m\u001b[43m \u001b[49m\u001b[43mx\u001b[49m\u001b[43m:\u001b[49m\u001b[43m \u001b[49m\u001b[38;5;28;43;01mTrue\u001b[39;49;00m\u001b[43m \u001b[49m\u001b[38;5;28;43;01mif\u001b[39;49;00m\u001b[43m \u001b[49m\u001b[38;5;28;43mfloat\u001b[39;49m\u001b[43m(\u001b[49m\u001b[43mx\u001b[49m\u001b[43m[\u001b[49m\u001b[38;5;124;43m'\u001b[39;49m\u001b[38;5;124;43mrsi_slope\u001b[39;49m\u001b[38;5;124;43m'\u001b[39;49m\u001b[43m]\u001b[49m\u001b[43m)\u001b[49m\u001b[43m \u001b[49m\u001b[38;5;241;43m*\u001b[39;49m\u001b[43m \u001b[49m\u001b[38;5;28;43mfloat\u001b[39;49m\u001b[43m(\u001b[49m\u001b[43mx\u001b[49m\u001b[43m[\u001b[49m\u001b[38;5;124;43m'\u001b[39;49m\u001b[38;5;124;43mprev_rsi_slope\u001b[39;49m\u001b[38;5;124;43m'\u001b[39;49m\u001b[43m]\u001b[49m\u001b[43m)\u001b[49m\u001b[43m \u001b[49m\u001b[38;5;241;43m<\u001b[39;49m\u001b[43m \u001b[49m\u001b[38;5;241;43m0\u001b[39;49m\u001b[43m \u001b[49m\u001b[38;5;28;43;01melse\u001b[39;49;00m\u001b[43m \u001b[49m\u001b[38;5;28;43;01mFalse\u001b[39;49;00m\u001b[43m)\u001b[49m\n",
      "File \u001b[1;32m~\\AppData\\Local\\miniconda3\\lib\\site-packages\\pandas\\core\\frame.py:9568\u001b[0m, in \u001b[0;36mDataFrame.apply\u001b[1;34m(self, func, axis, raw, result_type, args, **kwargs)\u001b[0m\n\u001b[0;32m   9557\u001b[0m \u001b[38;5;28;01mfrom\u001b[39;00m \u001b[38;5;21;01mpandas\u001b[39;00m\u001b[38;5;21;01m.\u001b[39;00m\u001b[38;5;21;01mcore\u001b[39;00m\u001b[38;5;21;01m.\u001b[39;00m\u001b[38;5;21;01mapply\u001b[39;00m \u001b[38;5;28;01mimport\u001b[39;00m frame_apply\n\u001b[0;32m   9559\u001b[0m op \u001b[38;5;241m=\u001b[39m frame_apply(\n\u001b[0;32m   9560\u001b[0m     \u001b[38;5;28mself\u001b[39m,\n\u001b[0;32m   9561\u001b[0m     func\u001b[38;5;241m=\u001b[39mfunc,\n\u001b[1;32m   (...)\u001b[0m\n\u001b[0;32m   9566\u001b[0m     kwargs\u001b[38;5;241m=\u001b[39mkwargs,\n\u001b[0;32m   9567\u001b[0m )\n\u001b[1;32m-> 9568\u001b[0m \u001b[38;5;28;01mreturn\u001b[39;00m \u001b[43mop\u001b[49m\u001b[38;5;241;43m.\u001b[39;49m\u001b[43mapply\u001b[49m\u001b[43m(\u001b[49m\u001b[43m)\u001b[49m\u001b[38;5;241m.\u001b[39m__finalize__(\u001b[38;5;28mself\u001b[39m, method\u001b[38;5;241m=\u001b[39m\u001b[38;5;124m\"\u001b[39m\u001b[38;5;124mapply\u001b[39m\u001b[38;5;124m\"\u001b[39m)\n",
      "File \u001b[1;32m~\\AppData\\Local\\miniconda3\\lib\\site-packages\\pandas\\core\\apply.py:764\u001b[0m, in \u001b[0;36mFrameApply.apply\u001b[1;34m(self)\u001b[0m\n\u001b[0;32m    761\u001b[0m \u001b[38;5;28;01melif\u001b[39;00m \u001b[38;5;28mself\u001b[39m\u001b[38;5;241m.\u001b[39mraw:\n\u001b[0;32m    762\u001b[0m     \u001b[38;5;28;01mreturn\u001b[39;00m \u001b[38;5;28mself\u001b[39m\u001b[38;5;241m.\u001b[39mapply_raw()\n\u001b[1;32m--> 764\u001b[0m \u001b[38;5;28;01mreturn\u001b[39;00m \u001b[38;5;28;43mself\u001b[39;49m\u001b[38;5;241;43m.\u001b[39;49m\u001b[43mapply_standard\u001b[49m\u001b[43m(\u001b[49m\u001b[43m)\u001b[49m\n",
      "File \u001b[1;32m~\\AppData\\Local\\miniconda3\\lib\\site-packages\\pandas\\core\\apply.py:891\u001b[0m, in \u001b[0;36mFrameApply.apply_standard\u001b[1;34m(self)\u001b[0m\n\u001b[0;32m    890\u001b[0m \u001b[38;5;28;01mdef\u001b[39;00m \u001b[38;5;21mapply_standard\u001b[39m(\u001b[38;5;28mself\u001b[39m):\n\u001b[1;32m--> 891\u001b[0m     results, res_index \u001b[38;5;241m=\u001b[39m \u001b[38;5;28;43mself\u001b[39;49m\u001b[38;5;241;43m.\u001b[39;49m\u001b[43mapply_series_generator\u001b[49m\u001b[43m(\u001b[49m\u001b[43m)\u001b[49m\n\u001b[0;32m    893\u001b[0m     \u001b[38;5;66;03m# wrap results\u001b[39;00m\n\u001b[0;32m    894\u001b[0m     \u001b[38;5;28;01mreturn\u001b[39;00m \u001b[38;5;28mself\u001b[39m\u001b[38;5;241m.\u001b[39mwrap_results(results, res_index)\n",
      "File \u001b[1;32m~\\AppData\\Local\\miniconda3\\lib\\site-packages\\pandas\\core\\apply.py:907\u001b[0m, in \u001b[0;36mFrameApply.apply_series_generator\u001b[1;34m(self)\u001b[0m\n\u001b[0;32m    904\u001b[0m \u001b[38;5;28;01mwith\u001b[39;00m option_context(\u001b[38;5;124m\"\u001b[39m\u001b[38;5;124mmode.chained_assignment\u001b[39m\u001b[38;5;124m\"\u001b[39m, \u001b[38;5;28;01mNone\u001b[39;00m):\n\u001b[0;32m    905\u001b[0m     \u001b[38;5;28;01mfor\u001b[39;00m i, v \u001b[38;5;129;01min\u001b[39;00m \u001b[38;5;28menumerate\u001b[39m(series_gen):\n\u001b[0;32m    906\u001b[0m         \u001b[38;5;66;03m# ignore SettingWithCopy here in case the user mutates\u001b[39;00m\n\u001b[1;32m--> 907\u001b[0m         results[i] \u001b[38;5;241m=\u001b[39m \u001b[38;5;28;43mself\u001b[39;49m\u001b[38;5;241;43m.\u001b[39;49m\u001b[43mf\u001b[49m\u001b[43m(\u001b[49m\u001b[43mv\u001b[49m\u001b[43m)\u001b[49m\n\u001b[0;32m    908\u001b[0m         \u001b[38;5;28;01mif\u001b[39;00m \u001b[38;5;28misinstance\u001b[39m(results[i], ABCSeries):\n\u001b[0;32m    909\u001b[0m             \u001b[38;5;66;03m# If we have a view on v, we need to make a copy because\u001b[39;00m\n\u001b[0;32m    910\u001b[0m             \u001b[38;5;66;03m#  series_generator will swap out the underlying data\u001b[39;00m\n\u001b[0;32m    911\u001b[0m             results[i] \u001b[38;5;241m=\u001b[39m results[i]\u001b[38;5;241m.\u001b[39mcopy(deep\u001b[38;5;241m=\u001b[39m\u001b[38;5;28;01mFalse\u001b[39;00m)\n",
      "Cell \u001b[1;32mIn[21], line 1\u001b[0m, in \u001b[0;36m<lambda>\u001b[1;34m(x)\u001b[0m\n\u001b[1;32m----> 1\u001b[0m raw_df[\u001b[38;5;124m\"\u001b[39m\u001b[38;5;124mrsi_slope_flat\u001b[39m\u001b[38;5;124m\"\u001b[39m] \u001b[38;5;241m=\u001b[39m raw_df\u001b[38;5;241m.\u001b[39mapply(\u001b[38;5;28;01mlambda\u001b[39;00m x: \u001b[38;5;28;01mTrue\u001b[39;00m \u001b[38;5;28;01mif\u001b[39;00m \u001b[38;5;28mfloat\u001b[39m(\u001b[43mx\u001b[49m\u001b[43m[\u001b[49m\u001b[38;5;124;43m'\u001b[39;49m\u001b[38;5;124;43mrsi_slope\u001b[39;49m\u001b[38;5;124;43m'\u001b[39;49m\u001b[43m]\u001b[49m) \u001b[38;5;241m*\u001b[39m \u001b[38;5;28mfloat\u001b[39m(x[\u001b[38;5;124m'\u001b[39m\u001b[38;5;124mprev_rsi_slope\u001b[39m\u001b[38;5;124m'\u001b[39m]) \u001b[38;5;241m<\u001b[39m \u001b[38;5;241m0\u001b[39m \u001b[38;5;28;01melse\u001b[39;00m \u001b[38;5;28;01mFalse\u001b[39;00m)\n",
      "File \u001b[1;32m~\\AppData\\Local\\miniconda3\\lib\\site-packages\\pandas\\core\\series.py:981\u001b[0m, in \u001b[0;36mSeries.__getitem__\u001b[1;34m(self, key)\u001b[0m\n\u001b[0;32m    978\u001b[0m     \u001b[38;5;28;01mreturn\u001b[39;00m \u001b[38;5;28mself\u001b[39m\u001b[38;5;241m.\u001b[39m_values[key]\n\u001b[0;32m    980\u001b[0m \u001b[38;5;28;01melif\u001b[39;00m key_is_scalar:\n\u001b[1;32m--> 981\u001b[0m     \u001b[38;5;28;01mreturn\u001b[39;00m \u001b[38;5;28;43mself\u001b[39;49m\u001b[38;5;241;43m.\u001b[39;49m\u001b[43m_get_value\u001b[49m\u001b[43m(\u001b[49m\u001b[43mkey\u001b[49m\u001b[43m)\u001b[49m\n\u001b[0;32m    983\u001b[0m \u001b[38;5;28;01mif\u001b[39;00m is_hashable(key):\n\u001b[0;32m    984\u001b[0m     \u001b[38;5;66;03m# Otherwise index.get_value will raise InvalidIndexError\u001b[39;00m\n\u001b[0;32m    985\u001b[0m     \u001b[38;5;28;01mtry\u001b[39;00m:\n\u001b[0;32m    986\u001b[0m         \u001b[38;5;66;03m# For labels that don't resolve as scalars like tuples and frozensets\u001b[39;00m\n",
      "File \u001b[1;32m~\\AppData\\Local\\miniconda3\\lib\\site-packages\\pandas\\core\\series.py:1089\u001b[0m, in \u001b[0;36mSeries._get_value\u001b[1;34m(self, label, takeable)\u001b[0m\n\u001b[0;32m   1086\u001b[0m     \u001b[38;5;28;01mreturn\u001b[39;00m \u001b[38;5;28mself\u001b[39m\u001b[38;5;241m.\u001b[39m_values[label]\n\u001b[0;32m   1088\u001b[0m \u001b[38;5;66;03m# Similar to Index.get_value, but we do not fall back to positional\u001b[39;00m\n\u001b[1;32m-> 1089\u001b[0m loc \u001b[38;5;241m=\u001b[39m \u001b[38;5;28;43mself\u001b[39;49m\u001b[38;5;241;43m.\u001b[39;49m\u001b[43mindex\u001b[49m\u001b[38;5;241;43m.\u001b[39;49m\u001b[43mget_loc\u001b[49m\u001b[43m(\u001b[49m\u001b[43mlabel\u001b[49m\u001b[43m)\u001b[49m\n\u001b[0;32m   1090\u001b[0m \u001b[38;5;28;01mreturn\u001b[39;00m \u001b[38;5;28mself\u001b[39m\u001b[38;5;241m.\u001b[39mindex\u001b[38;5;241m.\u001b[39m_get_values_for_loc(\u001b[38;5;28mself\u001b[39m, loc, label)\n",
      "File \u001b[1;32m~\\AppData\\Local\\miniconda3\\lib\\site-packages\\pandas\\core\\indexes\\datetimes.py:706\u001b[0m, in \u001b[0;36mDatetimeIndex.get_loc\u001b[1;34m(self, key, method, tolerance)\u001b[0m\n\u001b[0;32m    704\u001b[0m     parsed, reso \u001b[38;5;241m=\u001b[39m \u001b[38;5;28mself\u001b[39m\u001b[38;5;241m.\u001b[39m_parse_with_reso(key)\n\u001b[0;32m    705\u001b[0m \u001b[38;5;28;01mexcept\u001b[39;00m \u001b[38;5;167;01mValueError\u001b[39;00m \u001b[38;5;28;01mas\u001b[39;00m err:\n\u001b[1;32m--> 706\u001b[0m     \u001b[38;5;28;01mraise\u001b[39;00m \u001b[38;5;167;01mKeyError\u001b[39;00m(key) \u001b[38;5;28;01mfrom\u001b[39;00m \u001b[38;5;21;01merr\u001b[39;00m\n\u001b[0;32m    707\u001b[0m \u001b[38;5;28mself\u001b[39m\u001b[38;5;241m.\u001b[39m_deprecate_mismatched_indexing(parsed, one_way\u001b[38;5;241m=\u001b[39m\u001b[38;5;28;01mTrue\u001b[39;00m)\n\u001b[0;32m    709\u001b[0m \u001b[38;5;28;01mif\u001b[39;00m \u001b[38;5;28mself\u001b[39m\u001b[38;5;241m.\u001b[39m_can_partial_date_slice(reso):\n",
      "\u001b[1;31mKeyError\u001b[0m: 'rsi_slope'"
     ]
    }
   ],
   "source": [
    "raw_df[\"rsi_slope_flat\"] = raw_df.apply(lambda x: True if float(x['rsi_slope']) * float(x['prev_rsi_slope']) < 0 else False)"
   ]
  },
  {
   "cell_type": "code",
   "execution_count": 31,
   "id": "d0093176",
   "metadata": {},
   "outputs": [],
   "source": [
    "raw_df[\"buy\"] = raw_df.apply(lambda x: 1 if ((x[instrument] < x['Lower']) and (x['RSI'] < 30) and (x['rsi_slope_flat'] < 0)) else 0, axis=1)\n"
   ]
  },
  {
   "cell_type": "code",
   "execution_count": 32,
   "id": "0eff5738",
   "metadata": {},
   "outputs": [],
   "source": [
    "raw_df[\"sell\"] = raw_df.apply(lambda x: -1 if ((x[instrument] > x['Upper']) and (x['RSI'] > 70) and (x['rsi_slope_flat'] < 0)) else 0, axis=1)\n"
   ]
  },
  {
   "cell_type": "code",
   "execution_count": 33,
   "id": "78b76e28",
   "metadata": {},
   "outputs": [
    {
     "data": {
      "text/html": [
       "<div>\n",
       "<style scoped>\n",
       "    .dataframe tbody tr th:only-of-type {\n",
       "        vertical-align: middle;\n",
       "    }\n",
       "\n",
       "    .dataframe tbody tr th {\n",
       "        vertical-align: top;\n",
       "    }\n",
       "\n",
       "    .dataframe thead th {\n",
       "        text-align: right;\n",
       "    }\n",
       "</style>\n",
       "<table border=\"1\" class=\"dataframe\">\n",
       "  <thead>\n",
       "    <tr style=\"text-align: right;\">\n",
       "      <th></th>\n",
       "      <th>EUR_USD</th>\n",
       "      <th>SMA</th>\n",
       "      <th>Lower</th>\n",
       "      <th>Upper</th>\n",
       "      <th>RSI</th>\n",
       "      <th>rsi_slope</th>\n",
       "      <th>rsi_slope_flat</th>\n",
       "      <th>buy</th>\n",
       "      <th>sell</th>\n",
       "      <th>prev_rsi_slope</th>\n",
       "    </tr>\n",
       "    <tr>\n",
       "      <th>time</th>\n",
       "      <th></th>\n",
       "      <th></th>\n",
       "      <th></th>\n",
       "      <th></th>\n",
       "      <th></th>\n",
       "      <th></th>\n",
       "      <th></th>\n",
       "      <th></th>\n",
       "      <th></th>\n",
       "      <th></th>\n",
       "    </tr>\n",
       "  </thead>\n",
       "  <tbody>\n",
       "    <tr>\n",
       "      <th>2024-01-11 18:24:00</th>\n",
       "      <td>1.09586</td>\n",
       "      <td>1.095003</td>\n",
       "      <td>1.093974</td>\n",
       "      <td>1.096031</td>\n",
       "      <td>55.556</td>\n",
       "      <td>0.180988</td>\n",
       "      <td>-0.025887</td>\n",
       "      <td>0</td>\n",
       "      <td>0</td>\n",
       "      <td>-0.143030</td>\n",
       "    </tr>\n",
       "    <tr>\n",
       "      <th>2024-01-11 18:25:00</th>\n",
       "      <td>1.09597</td>\n",
       "      <td>1.095019</td>\n",
       "      <td>1.093983</td>\n",
       "      <td>1.096056</td>\n",
       "      <td>55.556</td>\n",
       "      <td>0.051261</td>\n",
       "      <td>0.009278</td>\n",
       "      <td>0</td>\n",
       "      <td>0</td>\n",
       "      <td>0.180988</td>\n",
       "    </tr>\n",
       "    <tr>\n",
       "      <th>2024-01-11 18:26:00</th>\n",
       "      <td>1.09596</td>\n",
       "      <td>1.095032</td>\n",
       "      <td>1.093981</td>\n",
       "      <td>1.096083</td>\n",
       "      <td>53.503</td>\n",
       "      <td>-0.404873</td>\n",
       "      <td>-0.020754</td>\n",
       "      <td>0</td>\n",
       "      <td>0</td>\n",
       "      <td>0.051261</td>\n",
       "    </tr>\n",
       "    <tr>\n",
       "      <th>2024-01-11 18:27:00</th>\n",
       "      <td>1.09593</td>\n",
       "      <td>1.095041</td>\n",
       "      <td>1.093975</td>\n",
       "      <td>1.096107</td>\n",
       "      <td>52.201</td>\n",
       "      <td>-0.306636</td>\n",
       "      <td>0.124149</td>\n",
       "      <td>0</td>\n",
       "      <td>0</td>\n",
       "      <td>-0.404873</td>\n",
       "    </tr>\n",
       "    <tr>\n",
       "      <th>2024-01-11 18:28:00</th>\n",
       "      <td>1.09600</td>\n",
       "      <td>1.095051</td>\n",
       "      <td>1.093968</td>\n",
       "      <td>1.096135</td>\n",
       "      <td>59.211</td>\n",
       "      <td>-0.131855</td>\n",
       "      <td>0.040431</td>\n",
       "      <td>0</td>\n",
       "      <td>0</td>\n",
       "      <td>-0.306636</td>\n",
       "    </tr>\n",
       "    <tr>\n",
       "      <th>2024-01-11 18:29:00</th>\n",
       "      <td>1.09573</td>\n",
       "      <td>1.095054</td>\n",
       "      <td>1.093966</td>\n",
       "      <td>1.096142</td>\n",
       "      <td>51.429</td>\n",
       "      <td>-0.625467</td>\n",
       "      <td>0.082471</td>\n",
       "      <td>0</td>\n",
       "      <td>0</td>\n",
       "      <td>-0.131855</td>\n",
       "    </tr>\n",
       "    <tr>\n",
       "      <th>2024-01-11 18:30:00</th>\n",
       "      <td>1.09568</td>\n",
       "      <td>1.095057</td>\n",
       "      <td>1.093963</td>\n",
       "      <td>1.096151</td>\n",
       "      <td>51.724</td>\n",
       "      <td>-1.165206</td>\n",
       "      <td>0.728798</td>\n",
       "      <td>0</td>\n",
       "      <td>0</td>\n",
       "      <td>-0.625467</td>\n",
       "    </tr>\n",
       "    <tr>\n",
       "      <th>2024-01-11 18:31:00</th>\n",
       "      <td>1.09562</td>\n",
       "      <td>1.095063</td>\n",
       "      <td>1.093963</td>\n",
       "      <td>1.096162</td>\n",
       "      <td>43.038</td>\n",
       "      <td>-1.097624</td>\n",
       "      <td>1.278958</td>\n",
       "      <td>0</td>\n",
       "      <td>0</td>\n",
       "      <td>-1.165206</td>\n",
       "    </tr>\n",
       "    <tr>\n",
       "      <th>2024-01-11 18:32:00</th>\n",
       "      <td>1.09560</td>\n",
       "      <td>1.095071</td>\n",
       "      <td>1.093968</td>\n",
       "      <td>1.096174</td>\n",
       "      <td>48.571</td>\n",
       "      <td>-1.038248</td>\n",
       "      <td>1.139607</td>\n",
       "      <td>0</td>\n",
       "      <td>0</td>\n",
       "      <td>-1.097624</td>\n",
       "    </tr>\n",
       "    <tr>\n",
       "      <th>2024-01-11 18:33:00</th>\n",
       "      <td>1.09551</td>\n",
       "      <td>1.095084</td>\n",
       "      <td>1.093989</td>\n",
       "      <td>1.096178</td>\n",
       "      <td>36.220</td>\n",
       "      <td>-1.723982</td>\n",
       "      <td>1.789922</td>\n",
       "      <td>0</td>\n",
       "      <td>0</td>\n",
       "      <td>-1.038248</td>\n",
       "    </tr>\n",
       "    <tr>\n",
       "      <th>2024-01-11 18:34:00</th>\n",
       "      <td>1.09552</td>\n",
       "      <td>1.095098</td>\n",
       "      <td>1.094017</td>\n",
       "      <td>1.096178</td>\n",
       "      <td>38.843</td>\n",
       "      <td>-2.047103</td>\n",
       "      <td>3.529168</td>\n",
       "      <td>0</td>\n",
       "      <td>0</td>\n",
       "      <td>-1.723982</td>\n",
       "    </tr>\n",
       "    <tr>\n",
       "      <th>2024-01-11 18:35:00</th>\n",
       "      <td>1.09557</td>\n",
       "      <td>1.095114</td>\n",
       "      <td>1.094057</td>\n",
       "      <td>1.096172</td>\n",
       "      <td>32.110</td>\n",
       "      <td>-2.534897</td>\n",
       "      <td>5.189195</td>\n",
       "      <td>0</td>\n",
       "      <td>0</td>\n",
       "      <td>-2.047103</td>\n",
       "    </tr>\n",
       "    <tr>\n",
       "      <th>2024-01-11 18:36:00</th>\n",
       "      <td>1.09569</td>\n",
       "      <td>1.095133</td>\n",
       "      <td>1.094103</td>\n",
       "      <td>1.096163</td>\n",
       "      <td>44.340</td>\n",
       "      <td>-2.208273</td>\n",
       "      <td>5.597744</td>\n",
       "      <td>0</td>\n",
       "      <td>0</td>\n",
       "      <td>-2.534897</td>\n",
       "    </tr>\n",
       "    <tr>\n",
       "      <th>2024-01-11 18:37:00</th>\n",
       "      <td>1.09568</td>\n",
       "      <td>1.095150</td>\n",
       "      <td>1.094140</td>\n",
       "      <td>1.096160</td>\n",
       "      <td>46.535</td>\n",
       "      <td>-1.737655</td>\n",
       "      <td>3.837215</td>\n",
       "      <td>0</td>\n",
       "      <td>0</td>\n",
       "      <td>-2.208273</td>\n",
       "    </tr>\n",
       "    <tr>\n",
       "      <th>2024-01-11 18:38:00</th>\n",
       "      <td>1.09570</td>\n",
       "      <td>1.095166</td>\n",
       "      <td>1.094175</td>\n",
       "      <td>1.096158</td>\n",
       "      <td>41.304</td>\n",
       "      <td>-1.016352</td>\n",
       "      <td>1.766068</td>\n",
       "      <td>0</td>\n",
       "      <td>0</td>\n",
       "      <td>-1.737655</td>\n",
       "    </tr>\n",
       "    <tr>\n",
       "      <th>2024-01-11 18:39:00</th>\n",
       "      <td>1.09563</td>\n",
       "      <td>1.095180</td>\n",
       "      <td>1.094201</td>\n",
       "      <td>1.096159</td>\n",
       "      <td>30.682</td>\n",
       "      <td>-1.176176</td>\n",
       "      <td>1.195408</td>\n",
       "      <td>0</td>\n",
       "      <td>0</td>\n",
       "      <td>-1.016352</td>\n",
       "    </tr>\n",
       "    <tr>\n",
       "      <th>2024-01-11 18:40:00</th>\n",
       "      <td>1.09580</td>\n",
       "      <td>1.095194</td>\n",
       "      <td>1.094222</td>\n",
       "      <td>1.096167</td>\n",
       "      <td>42.308</td>\n",
       "      <td>-0.430709</td>\n",
       "      <td>0.506590</td>\n",
       "      <td>0</td>\n",
       "      <td>0</td>\n",
       "      <td>-1.176176</td>\n",
       "    </tr>\n",
       "    <tr>\n",
       "      <th>2024-01-11 18:41:00</th>\n",
       "      <td>1.09570</td>\n",
       "      <td>1.095205</td>\n",
       "      <td>1.094233</td>\n",
       "      <td>1.096176</td>\n",
       "      <td>39.640</td>\n",
       "      <td>-0.295703</td>\n",
       "      <td>0.127362</td>\n",
       "      <td>0</td>\n",
       "      <td>0</td>\n",
       "      <td>-0.430709</td>\n",
       "    </tr>\n",
       "    <tr>\n",
       "      <th>2024-01-11 18:42:00</th>\n",
       "      <td>1.09573</td>\n",
       "      <td>1.095215</td>\n",
       "      <td>1.094243</td>\n",
       "      <td>1.096187</td>\n",
       "      <td>37.383</td>\n",
       "      <td>0.126248</td>\n",
       "      <td>-0.037332</td>\n",
       "      <td>0</td>\n",
       "      <td>0</td>\n",
       "      <td>-0.295703</td>\n",
       "    </tr>\n",
       "    <tr>\n",
       "      <th>2024-01-11 18:43:00</th>\n",
       "      <td>1.09573</td>\n",
       "      <td>1.095222</td>\n",
       "      <td>1.094246</td>\n",
       "      <td>1.096199</td>\n",
       "      <td>50.000</td>\n",
       "      <td>0.548612</td>\n",
       "      <td>0.069261</td>\n",
       "      <td>0</td>\n",
       "      <td>0</td>\n",
       "      <td>0.126248</td>\n",
       "    </tr>\n",
       "  </tbody>\n",
       "</table>\n",
       "</div>"
      ],
      "text/plain": [
       "                     EUR_USD       SMA     Lower     Upper     RSI  rsi_slope  \\\n",
       "time                                                                            \n",
       "2024-01-11 18:24:00  1.09586  1.095003  1.093974  1.096031  55.556   0.180988   \n",
       "2024-01-11 18:25:00  1.09597  1.095019  1.093983  1.096056  55.556   0.051261   \n",
       "2024-01-11 18:26:00  1.09596  1.095032  1.093981  1.096083  53.503  -0.404873   \n",
       "2024-01-11 18:27:00  1.09593  1.095041  1.093975  1.096107  52.201  -0.306636   \n",
       "2024-01-11 18:28:00  1.09600  1.095051  1.093968  1.096135  59.211  -0.131855   \n",
       "2024-01-11 18:29:00  1.09573  1.095054  1.093966  1.096142  51.429  -0.625467   \n",
       "2024-01-11 18:30:00  1.09568  1.095057  1.093963  1.096151  51.724  -1.165206   \n",
       "2024-01-11 18:31:00  1.09562  1.095063  1.093963  1.096162  43.038  -1.097624   \n",
       "2024-01-11 18:32:00  1.09560  1.095071  1.093968  1.096174  48.571  -1.038248   \n",
       "2024-01-11 18:33:00  1.09551  1.095084  1.093989  1.096178  36.220  -1.723982   \n",
       "2024-01-11 18:34:00  1.09552  1.095098  1.094017  1.096178  38.843  -2.047103   \n",
       "2024-01-11 18:35:00  1.09557  1.095114  1.094057  1.096172  32.110  -2.534897   \n",
       "2024-01-11 18:36:00  1.09569  1.095133  1.094103  1.096163  44.340  -2.208273   \n",
       "2024-01-11 18:37:00  1.09568  1.095150  1.094140  1.096160  46.535  -1.737655   \n",
       "2024-01-11 18:38:00  1.09570  1.095166  1.094175  1.096158  41.304  -1.016352   \n",
       "2024-01-11 18:39:00  1.09563  1.095180  1.094201  1.096159  30.682  -1.176176   \n",
       "2024-01-11 18:40:00  1.09580  1.095194  1.094222  1.096167  42.308  -0.430709   \n",
       "2024-01-11 18:41:00  1.09570  1.095205  1.094233  1.096176  39.640  -0.295703   \n",
       "2024-01-11 18:42:00  1.09573  1.095215  1.094243  1.096187  37.383   0.126248   \n",
       "2024-01-11 18:43:00  1.09573  1.095222  1.094246  1.096199  50.000   0.548612   \n",
       "\n",
       "                     rsi_slope_flat  buy  sell  prev_rsi_slope  \n",
       "time                                                            \n",
       "2024-01-11 18:24:00       -0.025887    0     0       -0.143030  \n",
       "2024-01-11 18:25:00        0.009278    0     0        0.180988  \n",
       "2024-01-11 18:26:00       -0.020754    0     0        0.051261  \n",
       "2024-01-11 18:27:00        0.124149    0     0       -0.404873  \n",
       "2024-01-11 18:28:00        0.040431    0     0       -0.306636  \n",
       "2024-01-11 18:29:00        0.082471    0     0       -0.131855  \n",
       "2024-01-11 18:30:00        0.728798    0     0       -0.625467  \n",
       "2024-01-11 18:31:00        1.278958    0     0       -1.165206  \n",
       "2024-01-11 18:32:00        1.139607    0     0       -1.097624  \n",
       "2024-01-11 18:33:00        1.789922    0     0       -1.038248  \n",
       "2024-01-11 18:34:00        3.529168    0     0       -1.723982  \n",
       "2024-01-11 18:35:00        5.189195    0     0       -2.047103  \n",
       "2024-01-11 18:36:00        5.597744    0     0       -2.534897  \n",
       "2024-01-11 18:37:00        3.837215    0     0       -2.208273  \n",
       "2024-01-11 18:38:00        1.766068    0     0       -1.737655  \n",
       "2024-01-11 18:39:00        1.195408    0     0       -1.016352  \n",
       "2024-01-11 18:40:00        0.506590    0     0       -1.176176  \n",
       "2024-01-11 18:41:00        0.127362    0     0       -0.430709  \n",
       "2024-01-11 18:42:00       -0.037332    0     0       -0.295703  \n",
       "2024-01-11 18:43:00        0.069261    0     0        0.126248  "
      ]
     },
     "execution_count": 33,
     "metadata": {},
     "output_type": "execute_result"
    }
   ],
   "source": [
    "raw_df.tail(20)"
   ]
  },
  {
   "cell_type": "code",
   "execution_count": 34,
   "id": "81e57244",
   "metadata": {},
   "outputs": [],
   "source": [
    "raw_df.to_excel(\"output.xlsx\")"
   ]
  },
  {
   "cell_type": "code",
   "execution_count": null,
   "id": "4015f15b",
   "metadata": {},
   "outputs": [],
   "source": [
    "new_df = pd.read_excel(\"output.xlsx\")"
   ]
  },
  {
   "cell_type": "code",
   "execution_count": null,
   "id": "858016c2",
   "metadata": {},
   "outputs": [],
   "source": [
    "# new_df.iloc[837]"
   ]
  },
  {
   "cell_type": "code",
   "execution_count": null,
   "id": "c81070cc",
   "metadata": {},
   "outputs": [],
   "source": [
    "slope05 = MyTT.SLOPE (raw_df[instrument].values, N=5)\n",
    "print (f\"slope: {slope05}\")"
   ]
  },
  {
   "cell_type": "code",
   "execution_count": null,
   "id": "49106793",
   "metadata": {},
   "outputs": [],
   "source": [
    "slope10 = MyTT.SLOPE (raw_df[instrument].values, N=10)\n",
    "print (f\"slope: {slope10}\")"
   ]
  },
  {
   "cell_type": "code",
   "execution_count": null,
   "id": "97a74597",
   "metadata": {},
   "outputs": [],
   "source": [
    "raw_df.loc[raw_df.index[-1], 'slope05'] = slope05\n",
    "raw_df.loc[raw_df.index[-1], 'slope10'] = slope10"
   ]
  },
  {
   "cell_type": "code",
   "execution_count": null,
   "id": "bcfa0532",
   "metadata": {},
   "outputs": [],
   "source": [
    "raw_df"
   ]
  },
  {
   "cell_type": "code",
   "execution_count": null,
   "id": "28a9afe1",
   "metadata": {},
   "outputs": [],
   "source": [
    "slope05 = MyTT.SLOPE (raw_df[instrument].values, N=5)\n",
    "print (f\"slope: {slope05}\")"
   ]
  },
  {
   "cell_type": "code",
   "execution_count": null,
   "id": "0aec6863",
   "metadata": {},
   "outputs": [],
   "source": []
  },
  {
   "cell_type": "code",
   "execution_count": null,
   "id": "36365eee",
   "metadata": {},
   "outputs": [],
   "source": []
  },
  {
   "cell_type": "code",
   "execution_count": null,
   "id": "2d7fd002",
   "metadata": {},
   "outputs": [],
   "source": []
  },
  {
   "cell_type": "code",
   "execution_count": null,
   "id": "6373a5be",
   "metadata": {},
   "outputs": [],
   "source": [
    "raw_df[\"slope05\"].tail(10).dropna().size > "
   ]
  },
  {
   "cell_type": "code",
   "execution_count": null,
   "id": "027e02a2",
   "metadata": {},
   "outputs": [],
   "source": [
    "slope05_05 = MyTT.SLOPE(raw_df[\"slope05\"].tail(10).values, N=5)\n",
    "print (slope05_05)"
   ]
  },
  {
   "cell_type": "code",
   "execution_count": null,
   "id": "f9e26fdd",
   "metadata": {},
   "outputs": [],
   "source": []
  },
  {
   "cell_type": "code",
   "execution_count": null,
   "id": "611c5912",
   "metadata": {},
   "outputs": [],
   "source": [
    "# new_df = raw_df.resample(\"1Min\").last()\n",
    "# new_df\n",
    "slope = MyTT.SLOPE (raw_df[instrument].iloc[:1349].values, N=5)\n",
    "print (f\"slope: {slope}\")"
   ]
  },
  {
   "cell_type": "code",
   "execution_count": null,
   "id": "24d87d3b",
   "metadata": {},
   "outputs": [],
   "source": [
    "# new_df = raw_df.resample(\"1Min\").last()\n",
    "# new_df\n",
    "slope = MyTT.SLOPE (raw_df[instrument].iloc[:1356].values, N=4)\n",
    "print (f\"slope: {slope}\")"
   ]
  },
  {
   "cell_type": "code",
   "execution_count": null,
   "id": "245ad2fd",
   "metadata": {},
   "outputs": [],
   "source": []
  },
  {
   "cell_type": "code",
   "execution_count": null,
   "id": "86b83410",
   "metadata": {},
   "outputs": [],
   "source": [
    "# new_df.resample (\"1Min\").last()"
   ]
  },
  {
   "cell_type": "code",
   "execution_count": null,
   "id": "a6f553e2",
   "metadata": {},
   "outputs": [],
   "source": [
    "# df_1 = pd.concat([raw_df, new_df])\n",
    "# df_1"
   ]
  },
  {
   "cell_type": "code",
   "execution_count": null,
   "id": "5186ca1c",
   "metadata": {},
   "outputs": [],
   "source": [
    "new_df = do_math(raw_df)\n",
    "new_df"
   ]
  },
  {
   "cell_type": "code",
   "execution_count": null,
   "id": "3012b4ab",
   "metadata": {},
   "outputs": [],
   "source": []
  },
  {
   "cell_type": "code",
   "execution_count": null,
   "id": "46a3c782",
   "metadata": {},
   "outputs": [],
   "source": [
    "new_df"
   ]
  },
  {
   "cell_type": "code",
   "execution_count": null,
   "id": "48b82994",
   "metadata": {},
   "outputs": [],
   "source": [
    "new_df['lower_slope'] = MyTT.SLOPE(new_df['Lower'], 10)"
   ]
  },
  {
   "cell_type": "code",
   "execution_count": null,
   "id": "60dada68",
   "metadata": {},
   "outputs": [],
   "source": [
    "recent_tick = datetime.strptime(\"2023-12-18T19:53:59.394378503Z\", '%Y-%m-%dT%H:%M:%S.%fZ').replace(tzinfo=None).replace(microsecond=0)\n",
    "recent_tick"
   ]
  },
  {
   "cell_type": "code",
   "execution_count": null,
   "id": "93bb3752",
   "metadata": {},
   "outputs": [],
   "source": [
    "df1 = pd.DataFrame({'EUR_USD': 2.09229}, index=[recent_tick])\n",
    "df1\n"
   ]
  },
  {
   "cell_type": "code",
   "execution_count": null,
   "id": "ced187bf",
   "metadata": {},
   "outputs": [],
   "source": [
    "df1.reset_index(inplace=True)\n",
    "df1"
   ]
  },
  {
   "cell_type": "code",
   "execution_count": null,
   "id": "eed7a2e8",
   "metadata": {},
   "outputs": [],
   "source": [
    "df1.rename(columns = {\"index\":'time'}, inplace = True)\n",
    "df1.set_index('time', inplace=True)\n"
   ]
  },
  {
   "cell_type": "code",
   "execution_count": null,
   "id": "c917b9c6",
   "metadata": {},
   "outputs": [],
   "source": [
    "df1"
   ]
  },
  {
   "cell_type": "code",
   "execution_count": null,
   "id": "52c5bdea",
   "metadata": {},
   "outputs": [],
   "source": [
    "df2 = pd.concat([raw_df, df1])\n",
    "df2"
   ]
  },
  {
   "cell_type": "code",
   "execution_count": null,
   "id": "541d3a0f",
   "metadata": {},
   "outputs": [],
   "source": [
    "df2.sort_values(by='time', ascending=False)\n",
    "df2"
   ]
  },
  {
   "cell_type": "code",
   "execution_count": null,
   "id": "8253a780",
   "metadata": {},
   "outputs": [],
   "source": [
    "if raw_df.size > SMA:\n",
    "    raw_df_1 = raw_df.tail(SMA)\n",
    "    \n",
    "raw_df_1"
   ]
  },
  {
   "cell_type": "code",
   "execution_count": null,
   "id": "05231455",
   "metadata": {},
   "outputs": [],
   "source": [
    "raw_df_1.index[-1]"
   ]
  },
  {
   "cell_type": "code",
   "execution_count": null,
   "id": "a4689b9b",
   "metadata": {},
   "outputs": [],
   "source": [
    "last_bar = df2.index[-1].replace(tzinfo=None)\n",
    "last_bar"
   ]
  },
  {
   "cell_type": "code",
   "execution_count": null,
   "id": "d7709924",
   "metadata": {},
   "outputs": [],
   "source": []
  },
  {
   "cell_type": "code",
   "execution_count": null,
   "id": "1a27cd50",
   "metadata": {},
   "outputs": [],
   "source": []
  },
  {
   "cell_type": "code",
   "execution_count": null,
   "id": "316b8feb",
   "metadata": {},
   "outputs": [],
   "source": [
    "df2.set_index('time', inplace=True)\n",
    "df2.sort_values(by='time', ascending=False)\n",
    "df2.reset_index(inplace=True)\n",
    "df2"
   ]
  },
  {
   "cell_type": "code",
   "execution_count": null,
   "id": "6eebbb50",
   "metadata": {},
   "outputs": [],
   "source": []
  },
  {
   "cell_type": "code",
   "execution_count": null,
   "id": "f9fded72",
   "metadata": {},
   "outputs": [],
   "source": []
  },
  {
   "cell_type": "code",
   "execution_count": null,
   "id": "13036243",
   "metadata": {},
   "outputs": [],
   "source": []
  },
  {
   "cell_type": "code",
   "execution_count": null,
   "id": "8a0a4859",
   "metadata": {},
   "outputs": [],
   "source": []
  },
  {
   "cell_type": "code",
   "execution_count": null,
   "id": "21cff8d5",
   "metadata": {},
   "outputs": [],
   "source": []
  },
  {
   "cell_type": "code",
   "execution_count": null,
   "id": "c09b28d5",
   "metadata": {},
   "outputs": [],
   "source": []
  },
  {
   "cell_type": "code",
   "execution_count": null,
   "id": "bf13a4d8",
   "metadata": {},
   "outputs": [],
   "source": [
    "print (\"Inside define_strategy\")\n",
    "\n",
    "SMA=125\n",
    "dev=2\n",
    "\n",
    "# ******************** define your strategy here ************************\n",
    "df[\"SMA\"] = df[instrument].rolling(SMA).mean()\n",
    "df[\"Lower\"] = df[\"SMA\"] - df[instrument].rolling(SMA).std() * dev\n",
    "df[\"Upper\"] = df[\"SMA\"] + df[instrument].rolling(SMA).std() * dev\n",
    "df[\"distance\"] = df[instrument] - df.SMA\n",
    "\n",
    "df[\"position\"] = np.where(df[instrument] < df.Lower, 1, np.nan)\n",
    "\n",
    "df[\"position\"] = np.where(df[instrument] > df.Upper, -1, df[\"position\"])\n",
    "\n",
    "df[\"position\"] = np.where(df.distance * df.distance.shift(1) < 0, 0, df[\"position\"])\n",
    "\n",
    "\n",
    "df[\"position\"] = df.position.ffill().fillna(0)\n",
    "# ***********************************************************************\n",
    "df"
   ]
  },
  {
   "cell_type": "code",
   "execution_count": null,
   "id": "fae0a7de",
   "metadata": {},
   "outputs": [],
   "source": [
    "print (\"Inside determine_action\")\n",
    "pos = None\n",
    "\n",
    "# update the latest position\n",
    "\n",
    "if df[instrument].iloc[-1] < df.Lower.iloc[-1]:\n",
    "    pos = 1\n",
    "elif df[self.instrument].iloc[-1] > df.Upper.iloc[-1]:\n",
    "    pos = -1\n",
    "\n",
    "if df.distance.iloc[-1] * df.distance.iloc[-2] < 0:\n",
    "    pos = 0\n",
    "\n",
    "df[\"position\"].iloc[-1] = pos\n"
   ]
  },
  {
   "cell_type": "code",
   "execution_count": null,
   "id": "b6f8da8d",
   "metadata": {},
   "outputs": [],
   "source": []
  },
  {
   "cell_type": "code",
   "execution_count": null,
   "id": "2bc3b37a",
   "metadata": {},
   "outputs": [],
   "source": []
  },
  {
   "cell_type": "code",
   "execution_count": null,
   "id": "33ccc19a",
   "metadata": {},
   "outputs": [],
   "source": []
  },
  {
   "cell_type": "code",
   "execution_count": null,
   "id": "e2f164f4",
   "metadata": {},
   "outputs": [],
   "source": []
  },
  {
   "cell_type": "code",
   "execution_count": null,
   "id": "ef2cf208",
   "metadata": {},
   "outputs": [],
   "source": []
  },
  {
   "cell_type": "code",
   "execution_count": null,
   "id": "eaaad972",
   "metadata": {},
   "outputs": [],
   "source": [
    "trader = ConTrader(\"oanda.cfg\", \"EUR_USD\", \"1min\", window = 1, units = 10000)"
   ]
  },
  {
   "cell_type": "code",
   "execution_count": null,
   "id": "12eaf327",
   "metadata": {},
   "outputs": [],
   "source": [
    "trader.start_trading(days = 5, max_attempts =  3, wait = 20, wait_increase = 0) # trade 200 ticks"
   ]
  },
  {
   "cell_type": "code",
   "execution_count": null,
   "id": "07800ed4",
   "metadata": {},
   "outputs": [],
   "source": [
    "trader.data"
   ]
  },
  {
   "cell_type": "code",
   "execution_count": null,
   "id": "53e012ac",
   "metadata": {},
   "outputs": [],
   "source": [
    "trader.position"
   ]
  },
  {
   "cell_type": "code",
   "execution_count": null,
   "id": "3413f031",
   "metadata": {},
   "outputs": [],
   "source": []
  },
  {
   "cell_type": "markdown",
   "id": "3e88b578",
   "metadata": {},
   "source": [
    "## Oanda: How to create Stop Loss and Take Profit Orders"
   ]
  },
  {
   "cell_type": "code",
   "execution_count": null,
   "id": "9d5d6b4e",
   "metadata": {},
   "outputs": [],
   "source": [
    "trader"
   ]
  },
  {
   "cell_type": "code",
   "execution_count": null,
   "id": "114aae82",
   "metadata": {},
   "outputs": [],
   "source": [
    "current_price = trader.data[trader.instrument].iloc[-1]\n",
    "current_price"
   ]
  },
  {
   "cell_type": "markdown",
   "id": "ac0e4974",
   "metadata": {},
   "source": [
    "__Stop Loss (distance)__"
   ]
  },
  {
   "cell_type": "markdown",
   "id": "2d7e91be",
   "metadata": {},
   "source": [
    "Distance of 0.01 means 100 pips -> works in both directions (Long and Short)"
   ]
  },
  {
   "cell_type": "markdown",
   "id": "9d88fbae",
   "metadata": {},
   "source": [
    "If Current EUR/USD FX rate is 1.08:\n",
    "- Stop Loss Price for LONG position: 1.08 - 0.01 = 1.07\n",
    "- Stop Loss Price for SHORT position: 1.08 + 0.01 = 1.09"
   ]
  },
  {
   "cell_type": "code",
   "execution_count": null,
   "id": "0f6ceaa7",
   "metadata": {},
   "outputs": [],
   "source": [
    "# open long position with sl\n",
    "order = trader.create_order(trader.instrument, trader.units, suppress = True, ret = True,\n",
    "                            sl_distance = 0.01)\n",
    "order"
   ]
  },
  {
   "cell_type": "code",
   "execution_count": null,
   "id": "7cc88929",
   "metadata": {},
   "outputs": [],
   "source": [
    "# closing trade -> limit order automatically cancelled\n",
    "order = trader.create_order(trader.instrument, -trader.units, suppress = True, ret = True)\n",
    "order"
   ]
  },
  {
   "cell_type": "markdown",
   "id": "c289a861",
   "metadata": {},
   "source": [
    "__Take Profit (price)__"
   ]
  },
  {
   "cell_type": "markdown",
   "id": "2ab8484a",
   "metadata": {},
   "source": [
    "If Current EUR/USD FX rate is 1.08:\n",
    "- Take Profit Price for LONG position must be greater -> 1.09\n",
    "- Take Profit Price for SHORT position must be less -> 1.07 "
   ]
  },
  {
   "cell_type": "code",
   "execution_count": null,
   "id": "6a5e1380",
   "metadata": {},
   "outputs": [],
   "source": [
    "# open long position with tp\n",
    "order = trader.create_order(trader.instrument, trader.units, suppress = True, ret = True,\n",
    "                            tp_price = 1.09) # adjust tp_price based on current price!\n",
    "order"
   ]
  },
  {
   "cell_type": "code",
   "execution_count": null,
   "id": "c3ebb3be",
   "metadata": {},
   "outputs": [],
   "source": [
    "# close long position\n",
    "order = trader.create_order(trader.instrument, -trader.units, suppress = True, ret = True)\n",
    "order"
   ]
  },
  {
   "cell_type": "markdown",
   "id": "f5d71e28",
   "metadata": {},
   "source": [
    "__Stop Loss and Take Profit__"
   ]
  },
  {
   "cell_type": "markdown",
   "id": "7ca646b1",
   "metadata": {},
   "source": [
    "SL and TP can be combined!"
   ]
  },
  {
   "cell_type": "code",
   "execution_count": null,
   "id": "4089741a",
   "metadata": {},
   "outputs": [],
   "source": [
    "# open long position with sl & tp\n",
    "order = trader.create_order(trader.instrument, trader.units, suppress = True, ret = True,\n",
    "                            sl_distance = 0.01, tp_price = 1.09) # adjust tp_price based on current price!\n",
    "order"
   ]
  },
  {
   "cell_type": "code",
   "execution_count": null,
   "id": "76e26365",
   "metadata": {},
   "outputs": [],
   "source": [
    "# close long position\n",
    "order = trader.create_order(trader.instrument, -trader.units, suppress = True, ret = True)\n",
    "order"
   ]
  },
  {
   "cell_type": "markdown",
   "id": "c435595f",
   "metadata": {},
   "source": [
    "__Trailing Stop Loss__"
   ]
  },
  {
   "cell_type": "markdown",
   "id": "c501e210",
   "metadata": {},
   "source": [
    "Remember: Trailing Stop Loss Price moves if price moves into the right direction (Long position: increase, Short position: decrease)"
   ]
  },
  {
   "cell_type": "code",
   "execution_count": null,
   "id": "d44f8a52",
   "metadata": {},
   "outputs": [],
   "source": [
    "# open long position with tsl\n",
    "order = trader.create_order(trader.instrument, trader.units, suppress = True, ret = True,\n",
    "                            tsl_distance = 0.01)\n",
    "order"
   ]
  },
  {
   "cell_type": "code",
   "execution_count": null,
   "id": "ba62696d",
   "metadata": {},
   "outputs": [],
   "source": [
    "# close long position\n",
    "order = trader.create_order(trader.instrument, -trader.units, suppress = True, ret = True)\n",
    "order"
   ]
  },
  {
   "cell_type": "code",
   "execution_count": null,
   "id": "668d34d2",
   "metadata": {},
   "outputs": [],
   "source": []
  },
  {
   "cell_type": "markdown",
   "id": "a61bd4b2",
   "metadata": {},
   "source": [
    "## Oanda: Stop Loss and Take Profit Orders - Pitfalls"
   ]
  },
  {
   "cell_type": "code",
   "execution_count": null,
   "id": "1aa7c703",
   "metadata": {},
   "outputs": [],
   "source": [
    "trader"
   ]
  },
  {
   "cell_type": "code",
   "execution_count": null,
   "id": "018f431b",
   "metadata": {},
   "outputs": [],
   "source": [
    "# if sl_distance is 1 pip or less -> order Cancelled.\n",
    "order = trader.create_order(trader.instrument, trader.units, suppress = True, ret = True,\n",
    "                            sl_distance = 0.0001)\n",
    "order"
   ]
  },
  {
   "cell_type": "code",
   "execution_count": null,
   "id": "9b59f56b",
   "metadata": {},
   "outputs": [],
   "source": [
    "order[\"price\"] # consequence in the Trader Bot (KeyError: \"price\")"
   ]
  },
  {
   "cell_type": "code",
   "execution_count": null,
   "id": "01600bf0",
   "metadata": {},
   "outputs": [],
   "source": [
    "# if sl_distance has too many (>5) decimals -> order Cancelled.\n",
    "order = trader.create_order(trader.instrument, trader.units, suppress = True, ret = True,\n",
    "                            sl_distance = 0.014509485)\n",
    "order"
   ]
  },
  {
   "cell_type": "code",
   "execution_count": null,
   "id": "c9a762b9",
   "metadata": {},
   "outputs": [],
   "source": [
    "# if tp_price has too many (> 2-5) decimals -> order Cancelled.\n",
    "order = trader.create_order(trader.instrument, trader.units, suppress = True, ret = True,\n",
    "                            tp_price = 1.094585684)\n",
    "order"
   ]
  },
  {
   "cell_type": "code",
   "execution_count": null,
   "id": "d4aab545",
   "metadata": {},
   "outputs": [],
   "source": [
    "# if tp_price is less (LONG) or greater (SHORT) than current price -> order Cancelled.\n",
    "order = trader.create_order(trader.instrument, trader.units, suppress = True, ret = True,\n",
    "                            tp_price = 1.06)\n",
    "order"
   ]
  },
  {
   "cell_type": "code",
   "execution_count": null,
   "id": "173b2a87",
   "metadata": {},
   "outputs": [],
   "source": []
  },
  {
   "cell_type": "markdown",
   "id": "2d2f7e6e",
   "metadata": {},
   "source": [
    "## Oanda: Setting SL Distances and TP Prices in real-time"
   ]
  },
  {
   "cell_type": "markdown",
   "id": "3357a8bb",
   "metadata": {},
   "source": [
    "__Setting SL/TSL Distance__"
   ]
  },
  {
   "cell_type": "code",
   "execution_count": null,
   "id": "b3efd067",
   "metadata": {},
   "outputs": [],
   "source": [
    "trader"
   ]
  },
  {
   "cell_type": "code",
   "execution_count": null,
   "id": "ea0af154",
   "metadata": {},
   "outputs": [],
   "source": [
    "current_price = trader.get_prices(trader.instrument)[2]\n",
    "current_price"
   ]
  },
  {
   "cell_type": "markdown",
   "id": "2e3df578",
   "metadata": {},
   "source": [
    "Typically: Define Maximum Loss in % (e.g. 1% loss -> 10% if leverage == 10)"
   ]
  },
  {
   "cell_type": "code",
   "execution_count": null,
   "id": "7f08d7f5",
   "metadata": {},
   "outputs": [],
   "source": [
    "sl_perc = 0.01 # SL Event if Price moves in the wrong direction by 1%"
   ]
  },
  {
   "cell_type": "code",
   "execution_count": null,
   "id": "60237c76",
   "metadata": {},
   "outputs": [],
   "source": [
    "sl_dist = round(current_price * sl_perc, 4) # don´t forget rounding!!!\n",
    "sl_dist"
   ]
  },
  {
   "cell_type": "code",
   "execution_count": null,
   "id": "f22d06da",
   "metadata": {},
   "outputs": [],
   "source": [
    "# sl_price_long\n",
    "current_price - sl_dist"
   ]
  },
  {
   "cell_type": "code",
   "execution_count": null,
   "id": "b9cbfdee",
   "metadata": {},
   "outputs": [],
   "source": [
    "# sl_price_short\n",
    "current_price + sl_dist"
   ]
  },
  {
   "cell_type": "markdown",
   "id": "16a4ca31",
   "metadata": {},
   "source": [
    "__Setting TP Price__"
   ]
  },
  {
   "cell_type": "code",
   "execution_count": null,
   "id": "ae6da47d",
   "metadata": {},
   "outputs": [],
   "source": [
    "target_position = 1 # Going Long"
   ]
  },
  {
   "cell_type": "code",
   "execution_count": null,
   "id": "77ef3936",
   "metadata": {},
   "outputs": [],
   "source": [
    "tp_perc = 0.01 # if Price moves by 1% in the right direction"
   ]
  },
  {
   "cell_type": "code",
   "execution_count": null,
   "id": "64885d25",
   "metadata": {},
   "outputs": [],
   "source": [
    "if target_position == 1:\n",
    "    tp_price = round(current_price * (1 + tp_perc), 2) \n",
    "elif target_position == -1:\n",
    "    tp_price = round(current_price * (1 - tp_perc), 2)     "
   ]
  },
  {
   "cell_type": "code",
   "execution_count": null,
   "id": "27cd24f7",
   "metadata": {},
   "outputs": [],
   "source": [
    "tp_price"
   ]
  },
  {
   "cell_type": "code",
   "execution_count": null,
   "id": "8bf97ac2",
   "metadata": {},
   "outputs": [],
   "source": [
    "# open long position with sl & tp\n",
    "order = trader.create_order(trader.instrument, trader.units, suppress = True, ret = True,\n",
    "                            sl_distance = sl_dist, tp_price = tp_price) # adjust tp_price based on current price!\n",
    "order"
   ]
  },
  {
   "cell_type": "code",
   "execution_count": null,
   "id": "e0bfa1a6",
   "metadata": {},
   "outputs": [],
   "source": [
    "# close long position\n",
    "order = trader.create_order(trader.instrument, -trader.units, suppress = True, ret = True)\n",
    "order"
   ]
  },
  {
   "cell_type": "code",
   "execution_count": null,
   "id": "b989a486",
   "metadata": {},
   "outputs": [],
   "source": []
  },
  {
   "cell_type": "markdown",
   "id": "02170a9c",
   "metadata": {},
   "source": [
    "## Oanda: Check for SL/TP Events"
   ]
  },
  {
   "cell_type": "markdown",
   "id": "5694ce63",
   "metadata": {},
   "source": [
    "__Problem in Trading Bot: it doesn´t record TP/SL trades__"
   ]
  },
  {
   "cell_type": "code",
   "execution_count": null,
   "id": "6b337245",
   "metadata": {},
   "outputs": [],
   "source": [
    "trader.position = 1\n",
    "trader.position # trading position recorded by the class (-1, 0, 1)"
   ]
  },
  {
   "cell_type": "code",
   "execution_count": null,
   "id": "e90b34a4",
   "metadata": {},
   "outputs": [],
   "source": [
    "exp_position = round(trader.position*trader.units, 0) # expected_position in EUR units\n",
    "exp_position"
   ]
  },
  {
   "cell_type": "code",
   "execution_count": null,
   "id": "d2b2b9dd",
   "metadata": {},
   "outputs": [],
   "source": [
    "positions = trader.get_positions() # open positions on Oanda.com\n",
    "positions"
   ]
  },
  {
   "cell_type": "code",
   "execution_count": null,
   "id": "ec838ddc",
   "metadata": {},
   "outputs": [],
   "source": [
    "# actual/true EUR/USD position in EUR units\n",
    "actual_position = 0\n",
    "for pos in positions:\n",
    "    if pos[\"instrument\"] == trader.instrument:\n",
    "        actual_position = round(float(pos[\"long\"][\"units\"]) + float(pos[\"short\"][\"units\"]), 0)\n",
    "actual_position"
   ]
  },
  {
   "cell_type": "markdown",
   "id": "a417e54b",
   "metadata": {},
   "source": [
    "__Double-Check if expected EUR/USD position != actual/true EUR/USD position__"
   ]
  },
  {
   "cell_type": "markdown",
   "id": "8e95d4c7",
   "metadata": {},
   "source": [
    "(strong indication for SL/TP Event)"
   ]
  },
  {
   "cell_type": "code",
   "execution_count": null,
   "id": "f6126b50",
   "metadata": {},
   "outputs": [],
   "source": [
    "if actual_position != exp_position: # if not equal\n",
    "    trader.position = actual_position / trader.units # set true/actual trading position\n",
    "    print(\"Go Neutral and Stop Trading Session\") # most reasonable action to be taken"
   ]
  },
  {
   "cell_type": "code",
   "execution_count": null,
   "id": "cc53e337",
   "metadata": {},
   "outputs": [],
   "source": [
    "trader.position"
   ]
  },
  {
   "cell_type": "code",
   "execution_count": null,
   "id": "6d3af7e9",
   "metadata": {},
   "outputs": [],
   "source": []
  },
  {
   "cell_type": "markdown",
   "id": "2ca16816",
   "metadata": {},
   "source": [
    "## Oanda: Adding Stop Loss & Take Profit"
   ]
  },
  {
   "cell_type": "code",
   "execution_count": null,
   "id": "4372fc98",
   "metadata": {},
   "outputs": [],
   "source": [
    "import pandas as pd\n",
    "import numpy as np\n",
    "import tpqoa\n",
    "from datetime import datetime, timedelta\n",
    "import time"
   ]
  },
  {
   "cell_type": "code",
   "execution_count": null,
   "id": "d0cda190",
   "metadata": {},
   "outputs": [],
   "source": [
    "class ConTrader(tpqoa.tpqoa):\n",
    "    def __init__(self, conf_file, instrument, bar_length, window, units, sl_perc = None, tsl_perc = None, tp_perc = None):\n",
    "        super().__init__(conf_file)\n",
    "        self.instrument = instrument\n",
    "        self.bar_length = pd.to_timedelta(bar_length)\n",
    "        self.tick_data = pd.DataFrame()\n",
    "        self.raw_data = None\n",
    "        self.data = None \n",
    "        self.last_bar = None\n",
    "        self.units = units\n",
    "        self.position = 0\n",
    "        self.profits = [] \n",
    "        self.sl_perc = sl_perc # NEW\n",
    "        self.tsl_perc = tsl_perc # NEW\n",
    "        self.tp_perc = tp_perc # NEW\n",
    "        \n",
    "        #*****************add strategy-specific attributes here******************\n",
    "        self.window = window\n",
    "        #************************************************************************\n",
    "    \n",
    "    def get_most_recent(self, days = 5):\n",
    "        while True:\n",
    "            time.sleep(2)\n",
    "            now = datetime.utcnow()\n",
    "            now = now - timedelta(microseconds = now.microsecond)\n",
    "            past = now - timedelta(days = days)\n",
    "            df = self.get_history(instrument = self.instrument, start = past, end = now,\n",
    "                                   granularity = \"S5\", price = \"M\", localize = False).c.dropna().to_frame()\n",
    "            df.rename(columns = {\"c\":self.instrument}, inplace = True)\n",
    "            df = df.resample(self.bar_length, label = \"right\").last().dropna().iloc[:-1]\n",
    "            self.raw_data = df.copy()\n",
    "            self.last_bar = self.raw_data.index[-1]\n",
    "            if pd.to_datetime(datetime.utcnow()).tz_localize(\"UTC\") - self.last_bar < self.bar_length:\n",
    "                break\n",
    "            \n",
    "    def start_trading(self, days, max_attempts = 5, wait = 20, wait_increase = 0): # Error Handling\n",
    "        attempt = 0\n",
    "        success = False\n",
    "        while True:\n",
    "            try:\n",
    "                self.get_most_recent(days)\n",
    "                self.stream_data(self.instrument)\n",
    "            except Exception as e:\n",
    "                print(e, end = \" | \")\n",
    "            else:\n",
    "                success = True\n",
    "                break    \n",
    "            finally:\n",
    "                attempt +=1\n",
    "                print(\"Attempt: {}\".format(attempt), end = '\\n')\n",
    "                if success == False:\n",
    "                    if attempt >= max_attempts:\n",
    "                        print(\"max_attempts reached!\")\n",
    "                        try: # try to terminate session\n",
    "                            time.sleep(wait)\n",
    "                            self.terminate_session(cause = \"Unexpected Session Stop (too many errors).\")\n",
    "                        except Exception as e:\n",
    "                            print(e, end = \" | \")\n",
    "                            print(\"Could not terminate session properly!\")\n",
    "                        finally: \n",
    "                            break\n",
    "                    else: # try again\n",
    "                        time.sleep(wait)\n",
    "                        wait += wait_increase\n",
    "                        self.tick_data = pd.DataFrame()\n",
    "        \n",
    "    def on_success(self, time, bid, ask):\n",
    "        print(self.ticks, end = '\\r', flush = True)\n",
    "        \n",
    "        recent_tick = pd.to_datetime(time)\n",
    "        \n",
    "        # define stop\n",
    "        if self.ticks >= 200:\n",
    "            self.terminate_session(cause = \"Scheduled Session End.\")\n",
    "            return\n",
    "        \n",
    "        # collect and store tick data\n",
    "        df = pd.DataFrame({self.instrument:(ask + bid)/2}, \n",
    "                          index = [recent_tick])\n",
    "        self.tick_data = pd.concat([self.tick_data, df]) \n",
    "        \n",
    "        # if a time longer than the bar_lenght has elapsed between last full bar and the most recent tick\n",
    "        if recent_tick - self.last_bar >= self.bar_length:\n",
    "            self.resample_and_join()\n",
    "            self.define_strategy()\n",
    "            #self.execute_trades() now called inside self.check_positions()\n",
    "            self.check_positions()\n",
    "            \n",
    "    def resample_and_join(self):\n",
    "        self.raw_data = pd.concat([self.raw_data, self.tick_data.resample(self.bar_length, \n",
    "                                                                          label=\"right\").last().ffill().iloc[:-1]])\n",
    "        self.tick_data = self.tick_data.iloc[-1:]\n",
    "        self.last_bar = self.raw_data.index[-1]\n",
    "        \n",
    "    def define_strategy(self): # \"strategy-specific\"\n",
    "        df = self.raw_data.copy()\n",
    "        \n",
    "        #******************** define your strategy here ************************\n",
    "        df[\"returns\"] = np.log(df[self.instrument] / df[self.instrument].shift())\n",
    "        df[\"position\"] = -np.sign(df.returns.rolling(self.window).mean())\n",
    "        #***********************************************************************\n",
    "        \n",
    "        self.data = df.copy()\n",
    "        \n",
    "    def execute_trades(self):\n",
    "        \n",
    "        # NEW - determne SL distance and TP Price\n",
    "        current_price = self.data[self.instrument].iloc[-1]\n",
    "        \n",
    "        if self.sl_perc:\n",
    "            sl_dist = round(current_price * self.sl_perc, 4) \n",
    "        else: \n",
    "            sl_dist = None\n",
    "            \n",
    "            \n",
    "        if self.tsl_perc:\n",
    "            tsl_dist = round(current_price * self.tsl_perc, 4) \n",
    "        else: \n",
    "            tsl_dist = None\n",
    "            \n",
    "        \n",
    "        if self.tp_perc:\n",
    "            if self.data[\"position\"].iloc[-1] == 1:\n",
    "                tp_price = round(current_price * (1 + self.tp_perc), 2) \n",
    "            elif self.data[\"position\"].iloc[-1] == -1:\n",
    "                tp_price = round(current_price * (1 - self.tp_perc), 2)      \n",
    "        else: \n",
    "            tp_price = None\n",
    "        \n",
    "        if self.data[\"position\"].iloc[-1] == 1:\n",
    "            if self.position == 0:\n",
    "                order = self.create_order(self.instrument, self.units, suppress = True, ret = True,\n",
    "                                          sl_distance = sl_dist, tsl_distance = tsl_dist, tp_price = tp_price)\n",
    "                self.report_trade(order, \"GOING LONG\")  \n",
    "            elif self.position == -1:\n",
    "                order = self.create_order(self.instrument, self.units * 2, suppress = True, ret = True,\n",
    "                                          sl_distance = sl_dist, tsl_distance = tsl_dist, tp_price = tp_price) \n",
    "                self.report_trade(order, \"GOING LONG\")  \n",
    "            self.position = 1\n",
    "        elif self.data[\"position\"].iloc[-1] == -1: \n",
    "            if self.position == 0:\n",
    "                order = self.create_order(self.instrument, -self.units, suppress = True, ret = True,\n",
    "                                          sl_distance = sl_dist, tsl_distance = tsl_dist, tp_price = tp_price)\n",
    "                self.report_trade(order, \"GOING SHORT\")  \n",
    "            elif self.position == 1:\n",
    "                order = self.create_order(self.instrument, -self.units * 2, suppress = True, ret = True,\n",
    "                                          sl_distance = sl_dist, tsl_distance = tsl_dist, tp_price = tp_price)\n",
    "                self.report_trade(order, \"GOING SHORT\")  \n",
    "            self.position = -1\n",
    "        elif self.data[\"position\"].iloc[-1] == 0: \n",
    "            if self.position == -1:\n",
    "                order = self.create_order(self.instrument, self.units, suppress = True, ret = True) \n",
    "                self.report_trade(order, \"GOING NEUTRAL\")  \n",
    "            elif self.position == 1:\n",
    "                order = self.create_order(self.instrument, -self.units, suppress = True, ret = True)\n",
    "                self.report_trade(order, \"GOING NEUTRAL\")  \n",
    "            self.position = 0\n",
    "    \n",
    "    def report_trade(self, order, going):  \n",
    "        self.order_id = order[\"id\"] # Added! Order_ID of the latest recorded trade\n",
    "        time = order[\"time\"]\n",
    "        units = order[\"units\"]\n",
    "        price = order[\"price\"]\n",
    "        pl = float(order[\"pl\"])\n",
    "        self.profits.append(pl)\n",
    "        cumpl = sum(self.profits)\n",
    "        print(\"\\n\" + 100* \"-\")\n",
    "        print(\"{} | {}\".format(time, going))\n",
    "        print(\"{} | units = {} | price = {} | P&L = {} | Cum P&L = {}\".format(time, units, price, pl, cumpl))\n",
    "        print(100 * \"-\" + \"\\n\")  \n",
    "        \n",
    "    def terminate_session(self, cause):\n",
    "        self.stop_stream = True\n",
    "        if self.position != 0:\n",
    "            close_order = self.create_order(self.instrument, units = -self.position * self.units,\n",
    "                                            suppress = True, ret = True) \n",
    "            self.report_trade(close_order, \"GOING NEUTRAL\")\n",
    "            self.position = 0\n",
    "        print(cause, end = \" | \")\n",
    "    \n",
    "    def check_positions(self): # NEW!\n",
    "        exp_position = self.position*self.units # get current (exp.) position\n",
    "        \n",
    "        # get current actual position\n",
    "        try:\n",
    "            positions = self.get_positions()\n",
    "            actual_position = 0\n",
    "            for pos in positions:\n",
    "                if pos[\"instrument\"] == self.instrument:\n",
    "                    actual_position = round(float(pos[\"long\"][\"units\"]) + float(pos[\"short\"][\"units\"]), 0)\n",
    "        except:\n",
    "            actual_position = exp_position \n",
    "        \n",
    "        if actual_position != exp_position: # if mismatch (sl/tp triggered)\n",
    "            self.position = actual_position / self.units # update self.position\n",
    "            try:\n",
    "                latest_actions = self.get_transactions(self.order_id) # get all actions since last recorded trade (excl.)\n",
    "                for action in latest_actions:\n",
    "                    if action[\"type\"] == \"ORDER_FILL\": # last filled order/trade (sl/tp trade!) \n",
    "                        self.report_trade(action, \"GOING NEUTRAL\") # report sl/tp trade\n",
    "            except:\n",
    "                pass\n",
    "            finally:\n",
    "                self.terminate_session(\"SL/TP Event!\") # stop session\n",
    "        elif self.position != self.data[\"position\"].iloc[-1]: # if no mismatch and trade required\n",
    "            self.execute_trades()\n",
    "        else: # if no mismatch and no trade required\n",
    "            pass"
   ]
  },
  {
   "cell_type": "code",
   "execution_count": null,
   "id": "4b7bd426",
   "metadata": {},
   "outputs": [],
   "source": [
    "trader = ConTrader(\"oanda.cfg\", \"EUR_USD\", \"1min\", window = 1, units = 10000,\n",
    "                   sl_perc = 0.01, tp_perc = 0.01)"
   ]
  },
  {
   "cell_type": "code",
   "execution_count": null,
   "id": "141accde",
   "metadata": {},
   "outputs": [],
   "source": [
    "trader.start_trading(days = 5, max_attempts =  3, wait = 20, wait_increase = 0)"
   ]
  },
  {
   "cell_type": "code",
   "execution_count": null,
   "id": "dd691f3d",
   "metadata": {},
   "outputs": [],
   "source": []
  },
  {
   "cell_type": "markdown",
   "id": "3c3c01f2",
   "metadata": {},
   "source": [
    "## IBKR: Contrader Class without Take Profit & Stop Loss (Recap)"
   ]
  },
  {
   "cell_type": "markdown",
   "id": "78f3ad48",
   "metadata": {},
   "source": [
    "_Disclaimer: <br>\n",
    "The following illustrative examples are for general information and educational purposes only. <br>\n",
    "It is neither investment advice nor a recommendation to trade, invest or take whatsoever actions.<br>\n",
    "The below code should only be used in combination with an IBKR Practice/Demo Account and NOT with a Live Trading Account._"
   ]
  },
  {
   "cell_type": "code",
   "execution_count": null,
   "id": "397c5457",
   "metadata": {},
   "outputs": [],
   "source": [
    "from ib_insync import * \n",
    "import pandas as pd\n",
    "import numpy as np\n",
    "import datetime as dt\n",
    "from IPython.display import display, clear_output\n",
    "util.startLoop()"
   ]
  },
  {
   "cell_type": "code",
   "execution_count": null,
   "id": "70872bb2",
   "metadata": {},
   "outputs": [],
   "source": [
    "def start_session():\n",
    "    global last_update, session_start\n",
    "    \n",
    "    last_update = dt.datetime.utcnow() \n",
    "    session_start = pd.to_datetime(last_update).tz_localize(\"utc\")\n",
    "    \n",
    "    initialize_stream()  \n",
    "    stop_session()\n",
    "\n",
    "def initialize_stream(): \n",
    "    global bars, last_bar\n",
    "    \n",
    "    bars = ib.reqHistoricalData(\n",
    "            contract,\n",
    "            endDateTime='',\n",
    "            durationStr='1 D',\n",
    "            barSizeSetting=freq,\n",
    "            whatToShow='MIDPOINT',\n",
    "            useRTH=True,\n",
    "            formatDate=2,\n",
    "            keepUpToDate=True)\n",
    "    last_bar = bars[-1].date\n",
    "    bars.updateEvent += onBarUpdate \n",
    "    \n",
    "def onBarUpdate(bars, hasNewBar):  \n",
    "    global df, last_bar, last_update\n",
    "    \n",
    "    last_update = dt.datetime.utcnow() \n",
    "    \n",
    "    if bars[-1].date > last_bar: \n",
    "        last_bar = bars[-1].date\n",
    "    \n",
    "        # Data Processing\n",
    "        df = pd.DataFrame(bars)[[\"date\", \"open\", \"high\", \"low\", \"close\"]].iloc[:-1] \n",
    "        df.set_index(\"date\", inplace = True)\n",
    "        \n",
    "        ####################### Trading Strategy ###########################\n",
    "        df = df[[\"close\"]].copy()\n",
    "        df[\"returns\"] = np.log(df[\"close\"] / df[\"close\"].shift())\n",
    "        df[\"position\"] = -np.sign(df.returns.rolling(window).mean())\n",
    "        ####################################################################\n",
    "        \n",
    "        # Trading\n",
    "        target = df[\"position\"][-1] * units\n",
    "        execute_trade(target = target)\n",
    "        \n",
    "        # Display\n",
    "        clear_output(wait=True)\n",
    "        display(df)\n",
    "    else:\n",
    "        try:\n",
    "            trade_reporting()\n",
    "        except:\n",
    "            pass\n",
    "\n",
    "def execute_trade(target):\n",
    "    global current_pos\n",
    "    \n",
    "    # 1. get current Position\n",
    "    try:\n",
    "        current_pos = [pos.position for pos in ib.positions() if pos.contract.conId == conID][0]\n",
    "    except:\n",
    "        current_pos = 0\n",
    "         \n",
    "    # 2. identify required trades\n",
    "    trades = target - current_pos\n",
    "        \n",
    "    # 3. trade execution\n",
    "    if trades > 0:\n",
    "        side = \"BUY\"\n",
    "        order = MarketOrder(side, abs(trades))\n",
    "        trade = ib.placeOrder(cfd, order)  \n",
    "    elif trades < 0:\n",
    "        side = \"SELL\"\n",
    "        order = MarketOrder(side, abs(trades))\n",
    "        trade = ib.placeOrder(cfd, order)\n",
    "    else:\n",
    "        pass\n",
    "\n",
    "def trade_reporting():\n",
    "    global report\n",
    "    \n",
    "    fill_df = util.df([fs.execution for fs in ib.fills()])[[\"execId\", \"time\", \"side\", \"cumQty\", \"avgPrice\"]].set_index(\"execId\")\n",
    "    profit_df = util.df([fs.commissionReport for fs in ib.fills()])[[\"execId\", \"realizedPNL\"]].set_index(\"execId\")\n",
    "    report = pd.concat([fill_df, profit_df], axis = 1).set_index(\"time\").loc[session_start:]\n",
    "    report = report.groupby(\"time\").agg({\"side\":\"first\", \"cumQty\":\"max\", \"avgPrice\":\"mean\", \"realizedPNL\":\"sum\"})\n",
    "    report[\"cumPNL\"] = report.realizedPNL.cumsum()\n",
    "        \n",
    "    clear_output(wait=True)\n",
    "    display(df, report)\n",
    "\n",
    "def stop_session():\n",
    "    while True:\n",
    "        ib.sleep(5) \n",
    "        if dt.datetime.utcnow().time() >= end_time:\n",
    "            execute_trade(target = 0) \n",
    "            ib.cancelHistoricalData(bars) \n",
    "            ib.sleep(10)\n",
    "            try:\n",
    "                trade_reporting() \n",
    "            except:\n",
    "                pass\n",
    "            print(\"Session Stopped (planned).\")\n",
    "            ib.disconnect()\n",
    "            break\n",
    "        elif dt.datetime.utcnow() - last_update > dt.timedelta(seconds=120):\n",
    "                # if there was no streaming update in the last 120 seconds\n",
    "                ib.cancelHistoricalData(bars)\n",
    "                ib.sleep(5)\n",
    "                try: # try to reestablish stream\n",
    "                    initialize_stream()\n",
    "                except: # stop session\n",
    "                    ib.sleep(5)\n",
    "                    try:\n",
    "                        execute_trade(target = 0) # close open position \n",
    "                    except:\n",
    "                        pass\n",
    "                    ib.sleep(10)\n",
    "                    try:\n",
    "                        trade_reporting() # final reporting\n",
    "                    except:\n",
    "                        pass\n",
    "                    print(\"Session Stopped - No Connection.\")\n",
    "                    ib.disconnect()\n",
    "                    break\n",
    "        else:\n",
    "            pass"
   ]
  },
  {
   "cell_type": "code",
   "execution_count": null,
   "id": "11585f30",
   "metadata": {},
   "outputs": [],
   "source": [
    "ib = IB()\n",
    "ib.connect()"
   ]
  },
  {
   "cell_type": "code",
   "execution_count": null,
   "id": "c0646526",
   "metadata": {},
   "outputs": [],
   "source": [
    "# strategy parameters\n",
    "freq = \"1 min\"\n",
    "window = 1\n",
    "units = 1000\n",
    "end_time = (dt.datetime.utcnow() + dt.timedelta(seconds = 330)).time() # stop condition (5.5 mins from now)\n",
    "contract = Forex('EURUSD') \n",
    "ib.qualifyContracts(contract)\n",
    "cfd = CFD(\"EUR\", currency = \"USD\")\n",
    "ib.qualifyContracts(cfd)\n",
    "conID = cfd.conId"
   ]
  },
  {
   "cell_type": "code",
   "execution_count": null,
   "id": "893a5a44",
   "metadata": {},
   "outputs": [],
   "source": [
    "start_session()"
   ]
  },
  {
   "cell_type": "code",
   "execution_count": null,
   "id": "c1f62b22",
   "metadata": {},
   "outputs": [],
   "source": []
  },
  {
   "cell_type": "markdown",
   "id": "3087cdda",
   "metadata": {},
   "source": [
    "## IBKR: How to create Stop Loss and Take Profit Orders"
   ]
  },
  {
   "cell_type": "code",
   "execution_count": null,
   "id": "cfdb97bb",
   "metadata": {},
   "outputs": [],
   "source": [
    "from ib_insync import * \n",
    "import pandas as pd\n",
    "import numpy as np\n",
    "import datetime as dt\n",
    "from IPython.display import display, clear_output\n",
    "util.startLoop()"
   ]
  },
  {
   "cell_type": "code",
   "execution_count": null,
   "id": "3af93717",
   "metadata": {},
   "outputs": [],
   "source": [
    "ib = IB()\n",
    "ib.connect()"
   ]
  },
  {
   "cell_type": "code",
   "execution_count": null,
   "id": "5db2df55",
   "metadata": {},
   "outputs": [],
   "source": [
    "cfd = CFD(\"EUR\", currency = \"USD\")\n",
    "ib.qualifyContracts(cfd)\n",
    "conID = cfd.conId"
   ]
  },
  {
   "cell_type": "code",
   "execution_count": null,
   "id": "96456d46",
   "metadata": {},
   "outputs": [],
   "source": [
    "def BracketOrder(parentOrderId, childOrderId1, childOrderId2,\n",
    "                 action, quantity, stopLossPrice = None, takeProfitPrice = None):\n",
    "    global stopLoss, takeProfit\n",
    "    \n",
    "    # Market Order (parent) - GO LONG or GO SHORT\n",
    "    parent = Order()\n",
    "    parent.orderId = parentOrderId\n",
    "    parent.action = action\n",
    "    parent.orderType = \"MKT\"\n",
    "    parent.totalQuantity = quantity\n",
    "    if not stopLossPrice and not takeProfitPrice: # if no sl/tp specified\n",
    "        parent.transmit = True # transmit mkt order only\n",
    "    else:\n",
    "        parent.transmit = False\n",
    "        \n",
    "    bracketOrder = [parent]\n",
    "\n",
    "    if stopLossPrice: # if sl specified\n",
    "        # attached Stop Loss Order (child) \n",
    "        stopLoss = Order()\n",
    "        stopLoss.orderId = childOrderId1\n",
    "        stopLoss.action = \"SELL\" if action == \"BUY\" else \"BUY\"\n",
    "        stopLoss.orderType = \"STP\"\n",
    "        stopLoss.auxPrice = stopLossPrice\n",
    "        stopLoss.totalQuantity = quantity\n",
    "        stopLoss.parentId = parentOrderId\n",
    "        if not takeProfitPrice: # if no tp specified\n",
    "            stopLoss.transmit = True # transmit mkt order and sl order\n",
    "        else:\n",
    "            stopLoss.transmit = False\n",
    "        bracketOrder.append(stopLoss)\n",
    "    \n",
    "    if takeProfitPrice:\n",
    "        # attached Take Profit Order (child)\n",
    "        takeProfit = Order()\n",
    "        takeProfit.orderId = childOrderId2\n",
    "        takeProfit.action = \"SELL\" if action == \"BUY\" else \"BUY\"\n",
    "        takeProfit.orderType = \"LMT\"\n",
    "        takeProfit.totalQuantity = quantity\n",
    "        takeProfit.lmtPrice = takeProfitPrice\n",
    "        takeProfit.parentId = parentOrderId\n",
    "        takeProfit.transmit = True # transmit all three orders\n",
    "        bracketOrder.append(takeProfit)\n",
    "        \n",
    "    return bracketOrder "
   ]
  },
  {
   "cell_type": "code",
   "execution_count": null,
   "id": "f4a2d28d",
   "metadata": {},
   "outputs": [],
   "source": [
    "# 1. BracketOrder with Mkt Order and SL (optional) and TP (optional)\n",
    "bracket = BracketOrder(parentOrderId = ib.client.getReqId(), \n",
    "                       childOrderId1 = ib.client.getReqId(), \n",
    "                       childOrderId2 = ib.client.getReqId(),\n",
    "                       action = \"BUY\",\n",
    "                       quantity = 1000,\n",
    "                       stopLossPrice = None, \n",
    "                       takeProfitPrice = None,\n",
    "                      )\n",
    "bracket"
   ]
  },
  {
   "cell_type": "code",
   "execution_count": null,
   "id": "2166ec36",
   "metadata": {},
   "outputs": [],
   "source": [
    "# place all orders in BracketOrder\n",
    "for o in bracket:\n",
    "    ib.placeOrder(cfd, o)"
   ]
  },
  {
   "cell_type": "code",
   "execution_count": null,
   "id": "8400868b",
   "metadata": {},
   "outputs": [],
   "source": [
    "# close all positions/orders\n",
    "try:\n",
    "    ib.cancelOrder(stopLoss)\n",
    "except:\n",
    "    pass\n",
    "try:\n",
    "    ib.cancelOrder(takeProfit)\n",
    "except:\n",
    "    pass\n",
    "order = MarketOrder(\"Sell\", 1000)\n",
    "ib.placeOrder(cfd, order)"
   ]
  },
  {
   "cell_type": "code",
   "execution_count": null,
   "id": "324b6584",
   "metadata": {},
   "outputs": [],
   "source": []
  },
  {
   "cell_type": "markdown",
   "id": "782242b1",
   "metadata": {},
   "source": [
    "## IBKR: Stop Loss and Take Profit - Pitfalls and other Considerations"
   ]
  },
  {
   "cell_type": "markdown",
   "id": "00876b94",
   "metadata": {},
   "source": [
    "__Be careful__: \n",
    "- SL Price must be below (above) Market Entry Price in Long (Short) position\n",
    "- TP Price must be above (below) Market Entry Price in Long (Short) position\n",
    "- Stop Loss and Take Profit Prices must be limited to [5] decimals [EUR/USD]"
   ]
  },
  {
   "cell_type": "markdown",
   "id": "f7144287",
   "metadata": {},
   "source": [
    "__Setting Stop Loss Price and Take Profit Price__"
   ]
  },
  {
   "cell_type": "markdown",
   "id": "81ae8801",
   "metadata": {},
   "source": [
    "Typically: Define Maximum Loss & Take Profit in % (e.g. 1% loss -> 10% if leverage == 10)"
   ]
  },
  {
   "cell_type": "code",
   "execution_count": null,
   "id": "a677e7df",
   "metadata": {},
   "outputs": [],
   "source": [
    "sl_perc = 0.01 # SL Event if Price moves into the wrong direction by 1%\n",
    "tp_perc = 0.01 # TP Event if Price moves into the right direction by 1%"
   ]
  },
  {
   "cell_type": "code",
   "execution_count": null,
   "id": "328af374",
   "metadata": {},
   "outputs": [],
   "source": [
    "current_price = 1.10"
   ]
  },
  {
   "cell_type": "code",
   "execution_count": null,
   "id": "98856b86",
   "metadata": {},
   "outputs": [],
   "source": [
    "target = -1 # (Target Position: -1/0/1)"
   ]
  },
  {
   "cell_type": "code",
   "execution_count": null,
   "id": "7a29eb2f",
   "metadata": {},
   "outputs": [],
   "source": [
    "if sl_perc:\n",
    "        if target > 0: # LONG\n",
    "            sl_price = round(current_price * (1 - sl_perc), 4) \n",
    "        elif target < 0: # SHORT\n",
    "            sl_price = round(current_price * (1 + sl_perc), 4)      \n",
    "        else: \n",
    "            sl_price = None\n",
    "\n",
    "if tp_perc:\n",
    "        if target > 0: # LONG\n",
    "            tp_price = round(current_price * (1 + tp_perc), 4) \n",
    "        elif target < 0: # SHORT\n",
    "            tp_price = round(current_price * (1 - tp_perc), 4)      \n",
    "        else: \n",
    "            tp_price = None"
   ]
  },
  {
   "cell_type": "code",
   "execution_count": null,
   "id": "a0b3da7b",
   "metadata": {},
   "outputs": [],
   "source": [
    "sl_price"
   ]
  },
  {
   "cell_type": "code",
   "execution_count": null,
   "id": "e5fb3d9d",
   "metadata": {},
   "outputs": [],
   "source": [
    "tp_price"
   ]
  },
  {
   "cell_type": "markdown",
   "id": "83ce2add",
   "metadata": {},
   "source": [
    "__Identification of SL/TP Events__"
   ]
  },
  {
   "cell_type": "markdown",
   "id": "d9e6b5ea",
   "metadata": {},
   "source": [
    "Problem in Trading Bot: it doesn´t record TP/SL trades"
   ]
  },
  {
   "cell_type": "markdown",
   "id": "de011e53",
   "metadata": {},
   "source": [
    "Solution: Check if expected trading position == actual trading position (if not: very likely SL/TP Event)"
   ]
  },
  {
   "cell_type": "code",
   "execution_count": null,
   "id": "873dc3b1",
   "metadata": {},
   "outputs": [],
   "source": []
  },
  {
   "cell_type": "markdown",
   "id": "29f4d23c",
   "metadata": {},
   "source": [
    "## IBKR: Adding Stop Loss and Take Profit to the Class"
   ]
  },
  {
   "cell_type": "code",
   "execution_count": null,
   "id": "92c1f896",
   "metadata": {},
   "outputs": [],
   "source": [
    "from ib_insync import * \n",
    "import pandas as pd\n",
    "import numpy as np\n",
    "import datetime as dt\n",
    "from IPython.display import display, clear_output\n",
    "util.startLoop()"
   ]
  },
  {
   "cell_type": "code",
   "execution_count": null,
   "id": "6676dff3",
   "metadata": {},
   "outputs": [],
   "source": [
    "def start_session():\n",
    "    global last_update, session_start, exp_pos, current_pos\n",
    "    \n",
    "    exp_pos = 0 # Added\n",
    "    current_pos = 0 # Added\n",
    "    last_update = dt.datetime.utcnow()\n",
    "    session_start = pd.to_datetime(last_update).tz_localize(\"utc\")\n",
    "    \n",
    "    initialize_stream()  \n",
    "    stop_session()\n",
    "\n",
    "def initialize_stream(): \n",
    "    global bars, last_bar\n",
    "    \n",
    "    bars = ib.reqHistoricalData(\n",
    "            contract,\n",
    "            endDateTime='',\n",
    "            durationStr='1 D',\n",
    "            barSizeSetting=freq,\n",
    "            whatToShow='MIDPOINT',\n",
    "            useRTH=True,\n",
    "            formatDate=2,\n",
    "            keepUpToDate=True)\n",
    "    last_bar = bars[-1].date\n",
    "    bars.updateEvent += onBarUpdate \n",
    "    \n",
    "def onBarUpdate(bars, hasNewBar):  \n",
    "    global df, last_bar, last_update\n",
    "    \n",
    "    last_update = dt.datetime.utcnow()\n",
    "    \n",
    "    if bars[-1].date > last_bar: \n",
    "        last_bar = bars[-1].date\n",
    "    \n",
    "        # Data Processing\n",
    "        df = pd.DataFrame(bars)[[\"date\", \"open\", \"high\", \"low\", \"close\"]].iloc[:-1] \n",
    "        df.set_index(\"date\", inplace = True)\n",
    "        \n",
    "        ####################### Trading Strategy ###########################\n",
    "        df = df[[\"close\"]].copy()\n",
    "        df[\"returns\"] = np.log(df[\"close\"] / df[\"close\"].shift())\n",
    "        df[\"position\"] = -np.sign(df.returns.rolling(window).mean())\n",
    "        ####################################################################\n",
    "        \n",
    "        # Trading\n",
    "        target = df[\"position\"][-1] * units\n",
    "        execute_trade(target = target)\n",
    "        \n",
    "        # Display\n",
    "        clear_output(wait=True)\n",
    "        display(df)\n",
    "    else:\n",
    "        try:\n",
    "            trade_reporting()\n",
    "        except:\n",
    "            pass\n",
    "\n",
    "def execute_trade(target): # Modified!!!\n",
    "    global exp_pos\n",
    "         \n",
    "    # 1. identify required trades\n",
    "    trades = target - exp_pos\n",
    "    \n",
    "    # 2. determine SL Price and TP Price\n",
    "    current_price = df.close.iloc[-1]\n",
    "\n",
    "    if sl_perc:\n",
    "        if target > 0: # LONG\n",
    "            sl_price = round(current_price * (1 - sl_perc), 4) \n",
    "        elif target < 0: # SHORT\n",
    "            sl_price = round(current_price * (1 + sl_perc), 4)      \n",
    "    else: \n",
    "        sl_price = None\n",
    "\n",
    "    if tp_perc:\n",
    "        if target > 0: # LONG\n",
    "            tp_price = round(current_price * (1 + tp_perc), 4) \n",
    "        elif target < 0: # SHORT\n",
    "            tp_price = round(current_price * (1 - tp_perc), 4)      \n",
    "    else: \n",
    "        tp_price = None\n",
    "        \n",
    "    # 3. trade execution\n",
    "    if target > 0: # GOING LONG\n",
    "        if current_pos == 0: # from NEUTRAL\n",
    "            go_long_short(side = \"BUY\", target = target, sl_price = sl_price, tp_price = tp_price) \n",
    "        elif current_pos < 0: # from SHORT:\n",
    "            cancel_orders() # cancel sl/tp orders\n",
    "            go_neutral(side = \"BUY\", trades = current_pos)\n",
    "            go_long_short(side = \"BUY\", target = target, sl_price = sl_price, tp_price = tp_price)\n",
    "    elif target < 0: # GOING SHORT\n",
    "        if current_pos == 0: # from NEUTRAL  \n",
    "            go_long_short(side = \"SELL\", target = abs(target), sl_price = sl_price, tp_price = tp_price) \n",
    "        elif current_pos > 0: # from LONG\n",
    "            cancel_orders() # cancel sl/tp orders\n",
    "            go_neutral(side = \"SELL\", trades = current_pos)\n",
    "            go_long_short(side = \"SELL\", target = abs(target), sl_price = sl_price, tp_price = tp_price)\n",
    "    else: # GOING NEUTRAL\n",
    "        if current_pos < 0: # from SHORT\n",
    "            cancel_orders() # cancel sl/tp orders\n",
    "            go_neutral(side = \"BUY\", trades = current_pos)\n",
    "        elif current_pos > 0: # from LONG:\n",
    "            cancel_orders() # cancel sl/tp orders\n",
    "            go_neutral(side = \"SELL\", trades = current_pos)\n",
    "    exp_pos = target\n",
    "\n",
    "def go_long_short(side, target, sl_price, tp_price): # NEW Go Long/Short starting from Neutral posistion\n",
    "    bracket = BracketOrder(parentOrderId = ib.client.getReqId(), \n",
    "                           childOrderId1 = ib.client.getReqId(), \n",
    "                            childOrderId2 = ib.client.getReqId(),\n",
    "                            action = side,\n",
    "                            quantity = target,\n",
    "                            stopLossPrice = sl_price, \n",
    "                            takeProfitPrice = tp_price,\n",
    "                          )\n",
    "    for o in bracket:\n",
    "        order = ib.placeOrder(cfd, o)\n",
    "    \n",
    "def go_neutral(side, trades): # Close Long/Short position\n",
    "    order = MarketOrder(side, abs(trades))\n",
    "    trade = ib.placeOrder(cfd, order)    \n",
    "    \n",
    "def cancel_orders(): # cancel SL/TP orders\n",
    "    try:\n",
    "        sl_cancel = ib.cancelOrder(stopLoss)\n",
    "    except:\n",
    "        pass\n",
    "    try:\n",
    "        tp_cancel = ib.cancelOrder(takeProfit)\n",
    "    except:\n",
    "        pass \n",
    "\n",
    "def BracketOrder(parentOrderId, childOrderId1, childOrderId2,\n",
    "                 action, quantity, stopLossPrice, takeProfitPrice): # NEW\n",
    "    global stopLoss, takeProfit\n",
    "    \n",
    "    # Market Order (parent) - GO LONG or GO SHORT\n",
    "    parent = Order()\n",
    "    parent.orderId = parentOrderId\n",
    "    parent.action = action\n",
    "    parent.orderType = \"MKT\"\n",
    "    parent.totalQuantity = quantity\n",
    "    if not stopLossPrice and not takeProfitPrice: \n",
    "        parent.transmit = True\n",
    "    else:\n",
    "        parent.transmit = False\n",
    "        \n",
    "    bracketOrder = [parent]\n",
    "\n",
    "    if stopLossPrice:\n",
    "        # attached Stop Loss Order (child) \n",
    "        stopLoss = Order()\n",
    "        stopLoss.orderId = childOrderId1\n",
    "        stopLoss.action = \"SELL\" if action == \"BUY\" else \"BUY\"\n",
    "        stopLoss.orderType = \"STP\"\n",
    "        stopLoss.auxPrice = stopLossPrice\n",
    "        stopLoss.totalQuantity = quantity\n",
    "        stopLoss.parentId = parentOrderId\n",
    "        if not takeProfitPrice: \n",
    "            stopLoss.transmit = True\n",
    "        else:\n",
    "            stopLoss.transmit = False\n",
    "        bracketOrder.append(stopLoss)\n",
    "    \n",
    "    if takeProfitPrice:\n",
    "        # attached Take Profit Order (child)\n",
    "        takeProfit = Order()\n",
    "        takeProfit.orderId = childOrderId2\n",
    "        takeProfit.action = \"SELL\" if action == \"BUY\" else \"BUY\"\n",
    "        takeProfit.orderType = \"LMT\"\n",
    "        takeProfit.totalQuantity = quantity\n",
    "        takeProfit.lmtPrice = takeProfitPrice\n",
    "        takeProfit.parentId = parentOrderId\n",
    "        takeProfit.transmit = True\n",
    "        bracketOrder.append(takeProfit)\n",
    "        \n",
    "    return bracketOrder \n",
    "    \n",
    "def trade_reporting():\n",
    "    global report\n",
    "    \n",
    "    fill_df = util.df([fs.execution for fs in ib.fills()])[[\"execId\", \"time\", \"side\", \"shares\", \"avgPrice\"]].set_index(\"execId\")\n",
    "    profit_df = util.df([fs.commissionReport for fs in ib.fills()])[[\"execId\", \"realizedPNL\"]].set_index(\"execId\")\n",
    "    report = pd.concat([fill_df, profit_df], axis = 1).set_index(\"time\").loc[session_start:]\n",
    "    report = report.groupby([\"time\", \"side\"]).agg({\"shares\":\"sum\", \"avgPrice\":\"mean\", \"realizedPNL\":\"sum\"}).reset_index().set_index(\"time\")\n",
    "    report[\"cumPNL\"] = report.realizedPNL.cumsum()\n",
    "        \n",
    "    clear_output(wait=True)\n",
    "    display(df, report)\n",
    "\n",
    "def stop_session(): # Third case added\n",
    "    global current_pos\n",
    "    \n",
    "    while True:\n",
    "        ib.sleep(5) \n",
    "        try:\n",
    "            current_pos = [pos.position for pos in ib.positions() if pos.contract.conId == conID][0]\n",
    "        except:\n",
    "            current_pos = 0\n",
    "        if dt.datetime.utcnow().time() >= end_time:\n",
    "            execute_trade(target = 0) \n",
    "            ib.cancelHistoricalData(bars) \n",
    "            ib.sleep(10)\n",
    "            try:\n",
    "                trade_reporting() \n",
    "            except:\n",
    "                pass\n",
    "            print(\"Session Stopped (planned).\")\n",
    "            ib.disconnect()\n",
    "            break\n",
    "        elif exp_pos != current_pos: # if SL/TP Event\n",
    "            ib.sleep(5)\n",
    "            try:\n",
    "                current_pos = [pos.position for pos in ib.positions() if pos.contract.conId == conID][0]\n",
    "            except:\n",
    "                current_pos = 0\n",
    "            if exp_pos != current_pos:\n",
    "                execute_trade(target = 0) \n",
    "                ib.cancelHistoricalData(bars) \n",
    "                ib.sleep(10)\n",
    "                try:\n",
    "                    trade_reporting() \n",
    "                except:\n",
    "                    pass\n",
    "                print(\"Session Stopped (SL/TP Event).\")\n",
    "                ib.disconnect()\n",
    "                break\n",
    "            else:\n",
    "                pass\n",
    "        elif dt.datetime.utcnow() - last_update > dt.timedelta(seconds=120):\n",
    "                # if there was no streaming update in the last 120 seconds\n",
    "                ib.cancelHistoricalData(bars)\n",
    "                ib.sleep(5)\n",
    "                try: # try to reestablish stream\n",
    "                    initialize_stream()\n",
    "                except: # stop session\n",
    "                    ib.sleep(5)\n",
    "                    try:\n",
    "                        execute_trade(target = 0) # close open position \n",
    "                    except:\n",
    "                        pass\n",
    "                    ib.sleep(10)\n",
    "                    try:\n",
    "                        trade_reporting() # final reporting\n",
    "                    except:\n",
    "                        pass\n",
    "                    print(\"Session Stopped - No Connection.\")\n",
    "                    ib.disconnect()\n",
    "                    break\n",
    "        else:\n",
    "            pass"
   ]
  },
  {
   "cell_type": "code",
   "execution_count": null,
   "id": "b1052748",
   "metadata": {},
   "outputs": [],
   "source": [
    "ib = IB()\n",
    "ib.connect()"
   ]
  },
  {
   "cell_type": "code",
   "execution_count": null,
   "id": "2b2f37d5",
   "metadata": {},
   "outputs": [],
   "source": [
    "# strategy parameters\n",
    "freq = \"1 min\"\n",
    "window = 1\n",
    "units = 1000\n",
    "end_time = (dt.datetime.utcnow() + dt.timedelta(seconds = 330)).time() # stop condition (5.5 mins from now)\n",
    "sl_perc = 0.1\n",
    "tp_perc = 0.1\n",
    "contract = Forex('EURUSD') \n",
    "ib.qualifyContracts(contract)\n",
    "cfd = CFD(\"EUR\", currency = \"USD\")\n",
    "ib.qualifyContracts(cfd)\n",
    "conID = cfd.conId"
   ]
  },
  {
   "cell_type": "code",
   "execution_count": null,
   "id": "e91a5d30",
   "metadata": {},
   "outputs": [],
   "source": [
    "start_session()"
   ]
  },
  {
   "cell_type": "code",
   "execution_count": null,
   "id": "32371467",
   "metadata": {},
   "outputs": [],
   "source": []
  }
 ],
 "metadata": {
  "kernelspec": {
   "display_name": "Python 3 (ipykernel)",
   "language": "python",
   "name": "python3"
  },
  "language_info": {
   "codemirror_mode": {
    "name": "ipython",
    "version": 3
   },
   "file_extension": ".py",
   "mimetype": "text/x-python",
   "name": "python",
   "nbconvert_exporter": "python",
   "pygments_lexer": "ipython3",
   "version": "3.10.9"
  }
 },
 "nbformat": 4,
 "nbformat_minor": 5
}
